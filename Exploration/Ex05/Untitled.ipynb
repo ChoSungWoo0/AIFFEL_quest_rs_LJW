{
 "cells": [
  {
   "cell_type": "markdown",
   "id": "073a71ea",
   "metadata": {},
   "source": [
    "## 목표\n",
    "\n",
    "1. 3가지 이상의 모델이 성공적으로 시도됨\n",
    "2. gensim의 유사단어 찾기를 활용하여 자체학습한 임베딩과 사전학습 임베딩을 비교 분석함\n",
    "3. 네이버 영화리뷰 데이터 감성분석 정확도를 85% 이상 달성함\n",
    "\n",
    "\n",
    "\n"
   ]
  },
  {
   "cell_type": "code",
   "execution_count": 6,
   "id": "0ae12785",
   "metadata": {},
   "outputs": [
    {
     "name": "stdout",
     "output_type": "stream",
     "text": [
      "1.3.3\n",
      "0.5.2\n",
      "4.1.2\n"
     ]
    },
    {
     "data": {
      "text/html": [
       "<div>\n",
       "<style scoped>\n",
       "    .dataframe tbody tr th:only-of-type {\n",
       "        vertical-align: middle;\n",
       "    }\n",
       "\n",
       "    .dataframe tbody tr th {\n",
       "        vertical-align: top;\n",
       "    }\n",
       "\n",
       "    .dataframe thead th {\n",
       "        text-align: right;\n",
       "    }\n",
       "</style>\n",
       "<table border=\"1\" class=\"dataframe\">\n",
       "  <thead>\n",
       "    <tr style=\"text-align: right;\">\n",
       "      <th></th>\n",
       "      <th>id</th>\n",
       "      <th>document</th>\n",
       "      <th>label</th>\n",
       "    </tr>\n",
       "  </thead>\n",
       "  <tbody>\n",
       "    <tr>\n",
       "      <th>0</th>\n",
       "      <td>9976970</td>\n",
       "      <td>아 더빙.. 진짜 짜증나네요 목소리</td>\n",
       "      <td>0</td>\n",
       "    </tr>\n",
       "    <tr>\n",
       "      <th>1</th>\n",
       "      <td>3819312</td>\n",
       "      <td>흠...포스터보고 초딩영화줄....오버연기조차 가볍지 않구나</td>\n",
       "      <td>1</td>\n",
       "    </tr>\n",
       "    <tr>\n",
       "      <th>2</th>\n",
       "      <td>10265843</td>\n",
       "      <td>너무재밓었다그래서보는것을추천한다</td>\n",
       "      <td>0</td>\n",
       "    </tr>\n",
       "    <tr>\n",
       "      <th>3</th>\n",
       "      <td>9045019</td>\n",
       "      <td>교도소 이야기구먼 ..솔직히 재미는 없다..평점 조정</td>\n",
       "      <td>0</td>\n",
       "    </tr>\n",
       "    <tr>\n",
       "      <th>4</th>\n",
       "      <td>6483659</td>\n",
       "      <td>사이몬페그의 익살스런 연기가 돋보였던 영화!스파이더맨에서 늙어보이기만 했던 커스틴 ...</td>\n",
       "      <td>1</td>\n",
       "    </tr>\n",
       "  </tbody>\n",
       "</table>\n",
       "</div>"
      ],
      "text/plain": [
       "         id                                           document  label\n",
       "0   9976970                                아 더빙.. 진짜 짜증나네요 목소리      0\n",
       "1   3819312                  흠...포스터보고 초딩영화줄....오버연기조차 가볍지 않구나      1\n",
       "2  10265843                                  너무재밓었다그래서보는것을추천한다      0\n",
       "3   9045019                      교도소 이야기구먼 ..솔직히 재미는 없다..평점 조정      0\n",
       "4   6483659  사이몬페그의 익살스런 연기가 돋보였던 영화!스파이더맨에서 늙어보이기만 했던 커스틴 ...      1"
      ]
     },
     "execution_count": 6,
     "metadata": {},
     "output_type": "execute_result"
    }
   ],
   "source": [
    "import pandas\n",
    "import konlpy\n",
    "import gensim\n",
    "import matplotlib.pyplot as plt\n",
    "import numpy as np\n",
    "\n",
    "import pandas as pd\n",
    "\n",
    "print(pandas.__version__)\n",
    "print(konlpy.__version__)\n",
    "print(gensim.__version__)\n",
    "\n",
    "# 데이터를 읽어봅시다. \n",
    "train_data = pd.read_table('~/aiffel/sentiment_classification/data/ratings_train.txt')\n",
    "test_data = pd.read_table('~/aiffel/sentiment_classification/data/ratings_test.txt')\n",
    "\n",
    "train_data.head()"
   ]
  },
  {
   "cell_type": "markdown",
   "id": "113d7d5e",
   "metadata": {},
   "source": [
    "## 2) 데이터로더 구성\n",
    "실습 때 다루었던 IMDB 데이터셋은 텍스트를 가공하여 imdb.data_loader() 메서드를 호출하면 숫자 인덱스로 변환된 텍스트와 word_to_index 딕셔너리까지 친절하게 제공합니다. 그러나 이번에 다루게 될 nsmc 데이터셋은 전혀 가공되지 않은 텍스트 파일로 이루어져 있습니다. 이것을 읽어서 imdb.data_loader()와 동일하게 동작하는 자신만의 data_loader를 만들어 보는 것으로 시작합니다. data_loader 안에서는 다음을 수행해야 합니다.\n",
    "\n",
    "1. 데이터의 중복 제거\n",
    "2. NaN 결측치 제거\n",
    "3. 한국어 토크나이저로 토큰화 + 불용어(Stopwords) 제거\n",
    "4. 사전word_to_index 구성\n",
    "5. 텍스트 스트링을 사전 인덱스 스트링으로 변환\n",
    "6. X_train, y_train, X_test, y_test, word_to_index 리턴"
   ]
  },
  {
   "cell_type": "code",
   "execution_count": 21,
   "id": "9a9bf3a6",
   "metadata": {},
   "outputs": [],
   "source": [
    "from konlpy.tag import Mecab\n",
    "import numpy as np\n",
    "from collections import Counter\n",
    "\n",
    "tokenizer = Mecab()\n",
    "stopwords = ['의','가','이','은','들','는','좀','잘','걍','과','도','를','으로','자','에','와','한','하다']  # 불용어 제거\n",
    "num_words = 20000  \n",
    "\n",
    "def load_data(train_data, test_data, num_words=num_words):\n",
    "    # 1. 중복 제거\n",
    "    train_data.drop_duplicates(subset=['document'], inplace=True)\n",
    "    test_data.drop_duplicates(subset=['document'], inplace=True)\n",
    "\n",
    "    # 2. 결측치(NaN) 제거\n",
    "    train_data = train_data.dropna(how='any')\n",
    "    test_data = test_data.dropna(how='any')\n",
    "\n",
    "    # 3. 한국어 토큰화 및 불용어 제거\n",
    "    def preprocess_text(texts):\n",
    "        tokenized_texts = []\n",
    "        for sentence in texts:\n",
    "            if isinstance(sentence, str):  # 문자열인지 확인 (NaN 방지)\n",
    "                tokens = tokenizer.morphs(sentence)  \n",
    "                tokens = [word for word in tokens if word not in stopwords]  # 불용어 제거\n",
    "                tokenized_texts.append(tokens)\n",
    "        return tokenized_texts\n",
    "\n",
    "    X_train_tokens = preprocess_text(train_data['document'])\n",
    "    X_test_tokens = preprocess_text(test_data['document'])\n",
    "\n",
    "    # 4. 사전 word_to_index 구성\n",
    "    words = [word for sentence in X_train_tokens for word in sentence]  #단어추출\n",
    "    word_counts = Counter(words)  # 단어 빈도수 계산\n",
    "    most_common_words = word_counts.most_common(num_words - 4)  \n",
    "\n",
    "    # 특수 토큰을 먼저 추가\n",
    "    word_to_index = {\n",
    "        \"<PAD>\": 0,  # 패딩 (Padding)\n",
    "        \"<BOS>\": 1,  # 문장의 시작 (Beginning of Sentence)\n",
    "        \"<UNK>\": 2,  # 모르는 단어 (Unknown)\n",
    "        \"<UNUSED>\": 3  # 추가적으로 사용할 수 있는 예약된 인덱스\n",
    "    }\n",
    "\n",
    "    # 일반 단어 인덱싱 (4부터 시작)\n",
    "    for i, (word, _) in enumerate(most_common_words, start=4):\n",
    "        word_to_index[word] = i\n",
    "\n",
    "    # 5. 텍스트 스트링을 사전 인덱스 스트링으로 변환 (문장 앞에 <BOS> 추가)\n",
    "    def text_to_sequence(tokenized_texts):\n",
    "        sequences = []\n",
    "        for sentence in tokenized_texts:\n",
    "            sequence = [1] + [word_to_index.get(word, 2) for word in sentence]  \n",
    "            sequences.append(sequence)\n",
    "        return sequences\n",
    "\n",
    "    X_train = text_to_sequence(X_train_tokens)\n",
    "    X_test = text_to_sequence(X_test_tokens)\n",
    "\n",
    "    y_train = np.array(train_data['label'])  # 라벨 변환\n",
    "    y_test = np.array(test_data['label'])\n",
    "\n",
    "    return X_train, y_train, X_test, y_test, word_to_index\n",
    "\n",
    "# 데이터 로드 실행\n",
    "X_train, y_train, X_test, y_test, word_to_index = load_data(train_data, test_data)"
   ]
  },
  {
   "cell_type": "markdown",
   "id": "9d4dc693",
   "metadata": {},
   "source": [
    "lms에서 제공해주는 함수"
   ]
  },
  {
   "cell_type": "code",
   "execution_count": 22,
   "id": "44008f7a",
   "metadata": {},
   "outputs": [],
   "source": [
    "# 문장 1개를 활용할 딕셔너리와 함께 주면, 단어 인덱스 리스트 벡터로 변환해 주는 함수입니다. \n",
    "# 단, 모든 문장은 <BOS>로 시작하는 것으로 합니다. \n",
    "def get_encoded_sentence(sentence, word_to_index):\n",
    "    return [word_to_index['<BOS>']]+[word_to_index[word] if word in word_to_index else word_to_index['<UNK>'] for word in sentence.split()]\n",
    "\n",
    "# 여러 개의 문장 리스트를 한꺼번에 단어 인덱스 리스트 벡터로 encode해 주는 함수입니다. \n",
    "def get_encoded_sentences(sentences, word_to_index):\n",
    "    return [get_encoded_sentence(sentence, word_to_index) for sentence in sentences]\n",
    "\n",
    "# 숫자 벡터로 encode된 문장을 원래대로 decode하는 함수입니다. \n",
    "def get_decoded_sentence(encoded_sentence, index_to_word):\n",
    "    return ' '.join(index_to_word[index] if index in index_to_word else '<UNK>' for index in encoded_sentence[1:])  #[1:]를 통해 <BOS>를 제외\n",
    "\n",
    "# 여러 개의 숫자 벡터로 encode된 문장을 한꺼번에 원래대로 decode하는 함수입니다. \n",
    "def get_decoded_sentences(encoded_sentences, index_to_word):\n",
    "    return [get_decoded_sentence(encoded_sentence, index_to_word) for encoded_sentence in encoded_sentences]"
   ]
  },
  {
   "cell_type": "markdown",
   "id": "af53f1b1",
   "metadata": {},
   "source": [
    "### 3) 모델 구성을 위한 데이터 분석 및 가공\n",
    "데이터셋 내 문장 길이 분포\n",
    "\n",
    "적절한 최대 문장 길이 지정\n",
    "\n",
    "keras.preprocessing.sequence.pad_sequences 을 활용한 패딩 추가"
   ]
  },
  {
   "cell_type": "code",
   "execution_count": 23,
   "id": "70070763",
   "metadata": {},
   "outputs": [
    {
     "name": "stderr",
     "output_type": "stream",
     "text": [
      "/opt/conda/lib/python3.9/site-packages/matplotlib/backends/backend_agg.py:240: RuntimeWarning: Glyph 47928 missing from current font.\n",
      "  font.set_text(s, 0.0, flags=flags)\n",
      "/opt/conda/lib/python3.9/site-packages/matplotlib/backends/backend_agg.py:240: RuntimeWarning: Glyph 51109 missing from current font.\n",
      "  font.set_text(s, 0.0, flags=flags)\n",
      "/opt/conda/lib/python3.9/site-packages/matplotlib/backends/backend_agg.py:240: RuntimeWarning: Glyph 44600 missing from current font.\n",
      "  font.set_text(s, 0.0, flags=flags)\n",
      "/opt/conda/lib/python3.9/site-packages/matplotlib/backends/backend_agg.py:240: RuntimeWarning: Glyph 51060 missing from current font.\n",
      "  font.set_text(s, 0.0, flags=flags)\n",
      "/opt/conda/lib/python3.9/site-packages/matplotlib/backends/backend_agg.py:240: RuntimeWarning: Glyph 48516 missing from current font.\n",
      "  font.set_text(s, 0.0, flags=flags)\n",
      "/opt/conda/lib/python3.9/site-packages/matplotlib/backends/backend_agg.py:240: RuntimeWarning: Glyph 54252 missing from current font.\n",
      "  font.set_text(s, 0.0, flags=flags)\n",
      "/opt/conda/lib/python3.9/site-packages/matplotlib/backends/backend_agg.py:240: RuntimeWarning: Glyph 48712 missing from current font.\n",
      "  font.set_text(s, 0.0, flags=flags)\n",
      "/opt/conda/lib/python3.9/site-packages/matplotlib/backends/backend_agg.py:240: RuntimeWarning: Glyph 46020 missing from current font.\n",
      "  font.set_text(s, 0.0, flags=flags)\n",
      "/opt/conda/lib/python3.9/site-packages/matplotlib/backends/backend_agg.py:240: RuntimeWarning: Glyph 49688 missing from current font.\n",
      "  font.set_text(s, 0.0, flags=flags)\n",
      "/opt/conda/lib/python3.9/site-packages/matplotlib/backends/backend_agg.py:203: RuntimeWarning: Glyph 47928 missing from current font.\n",
      "  font.set_text(s, 0, flags=flags)\n",
      "/opt/conda/lib/python3.9/site-packages/matplotlib/backends/backend_agg.py:203: RuntimeWarning: Glyph 51109 missing from current font.\n",
      "  font.set_text(s, 0, flags=flags)\n",
      "/opt/conda/lib/python3.9/site-packages/matplotlib/backends/backend_agg.py:203: RuntimeWarning: Glyph 44600 missing from current font.\n",
      "  font.set_text(s, 0, flags=flags)\n",
      "/opt/conda/lib/python3.9/site-packages/matplotlib/backends/backend_agg.py:203: RuntimeWarning: Glyph 51060 missing from current font.\n",
      "  font.set_text(s, 0, flags=flags)\n",
      "/opt/conda/lib/python3.9/site-packages/matplotlib/backends/backend_agg.py:203: RuntimeWarning: Glyph 48712 missing from current font.\n",
      "  font.set_text(s, 0, flags=flags)\n",
      "/opt/conda/lib/python3.9/site-packages/matplotlib/backends/backend_agg.py:203: RuntimeWarning: Glyph 46020 missing from current font.\n",
      "  font.set_text(s, 0, flags=flags)\n",
      "/opt/conda/lib/python3.9/site-packages/matplotlib/backends/backend_agg.py:203: RuntimeWarning: Glyph 49688 missing from current font.\n",
      "  font.set_text(s, 0, flags=flags)\n",
      "/opt/conda/lib/python3.9/site-packages/matplotlib/backends/backend_agg.py:203: RuntimeWarning: Glyph 48516 missing from current font.\n",
      "  font.set_text(s, 0, flags=flags)\n",
      "/opt/conda/lib/python3.9/site-packages/matplotlib/backends/backend_agg.py:203: RuntimeWarning: Glyph 54252 missing from current font.\n",
      "  font.set_text(s, 0, flags=flags)\n"
     ]
    },
    {
     "data": {
      "image/png": "[encoded data removed]",
      "text/plain": [
       "<Figure size 864x432 with 1 Axes>"
      ]
     },
     "metadata": {},
     "output_type": "display_data"
    }
   ],
   "source": [
    "import matplotlib.font_manager as fm\n",
    "\n",
    "# 문장 길이 계산\n",
    "train_lengths = [len(sentence) for sentence in X_train]\n",
    "test_lengths = [len(sentence) for sentence in X_test]\n",
    "\n",
    "# 히스토그램 그리기\n",
    "plt.rc('font', family='Nanum Gothic')  \n",
    "plt.style.use('dark_background')\n",
    "plt.figure(figsize=(12, 6))\n",
    "plt.hist(train_lengths, bins=50, alpha=0.7, label=\"Train Data\")\n",
    "plt.hist(test_lengths, bins=50, alpha=0.7, label=\"Test Data\", color='red')\n",
    "plt.xlabel(\"문장 길이\")\n",
    "plt.ylabel(\"빈도수\")\n",
    "plt.legend()\n",
    "plt.title(\"문장 길이 분포\")\n",
    "plt.show()"
   ]
  },
  {
   "cell_type": "markdown",
   "id": "2e8f59ca",
   "metadata": {},
   "source": [
    "좀 꺠지네요... x가 문장길이 y가 빈도수 입니다.\n",
    "\n",
    "0에서 30 저도 사이에 최대로 몰려있는것을 볼 수 있습니다.\n"
   ]
  },
  {
   "cell_type": "code",
   "execution_count": 28,
   "id": "0963c6ad",
   "metadata": {},
   "outputs": [
    {
     "name": "stdout",
     "output_type": "stream",
     "text": [
      "문장길이 평균 :  16.96940191154864\n",
      "문장길이 최대 :  117\n",
      "문장길이 표준편차 :  12.843571191092\n",
      "pad_sequences maxlen :  42\n",
      "전체 문장의 0.9342988343341575%가 maxlen 설정값 이내에 포함됩니다. \n"
     ]
    }
   ],
   "source": [
    "# lms에서 문장길이 지정한 것.\n",
    "\n",
    "total_data_text = list(X_train) + list(X_test)\n",
    "\n",
    "#텍스트데이터 문장길이의 리스트를 생성한 후\n",
    "\n",
    "num_tokens = [len(tokens) for tokens in total_data_text]\n",
    "num_tokens = np.array(num_tokens)\n",
    "\n",
    "#문장길이의 평균값, 최대값, 표준편차를 계산해 본다. \n",
    "\n",
    "print('문장길이 평균 : ', np.mean(num_tokens))\n",
    "print('문장길이 최대 : ', np.max(num_tokens))\n",
    "print('문장길이 표준편차 : ', np.std(num_tokens))\n",
    "\n",
    " #예를들어, 최대 길이를 (평균 + 2*표준편차)로 한다면,  \n",
    " \n",
    "max_tokens = np.mean(num_tokens) + 2 * np.std(num_tokens)\n",
    "maxlen = int(max_tokens)\n",
    "print('pad_sequences maxlen : ', maxlen)\n",
    "print(f'전체 문장의 {np.sum(num_tokens < max_tokens) / len(num_tokens)}%가 maxlen 설정값 이내에 포함됩니다. ')"
   ]
  },
  {
   "cell_type": "markdown",
   "id": "3dbed495",
   "metadata": {},
   "source": [
    "## b. 적절한 최대 문장 길이 지정"
   ]
  },
  {
   "cell_type": "code",
   "execution_count": 24,
   "id": "7fd739e2",
   "metadata": {},
   "outputs": [
    {
     "name": "stdout",
     "output_type": "stream",
     "text": [
      "설정할 maxlen 값: 48\n"
     ]
    }
   ],
   "source": [
    "# 95% 문장이 포함되는 길이 찾기\n",
    "maxlen = int(np.percentile(train_lengths, 95))\n",
    "print(f\"설정할 maxlen 값: {maxlen}\")"
   ]
  },
  {
   "cell_type": "markdown",
   "id": "ff6120b7",
   "metadata": {},
   "source": [
    "## c. keras.preprocessing.sequence.pad_sequences 을 활용한 패딩 추가"
   ]
  },
  {
   "cell_type": "code",
   "execution_count": 25,
   "id": "a574dbf2",
   "metadata": {},
   "outputs": [
    {
     "name": "stdout",
     "output_type": "stream",
     "text": [
      "패딩 적용 후 X_train 크기: (146182, 48)\n",
      "패딩 적용 후 X_test 크기: (49157, 48)\n"
     ]
    }
   ],
   "source": [
    "# 패딩 적용\n",
    "from tensorflow.keras.preprocessing.sequence import pad_sequences\n",
    "\n",
    "X_train_padded = pad_sequences(X_train, maxlen=maxlen, padding='pre')  #lms에서 pre가 더 좋다고 공부했었음!\n",
    "X_test_padded = pad_sequences(X_test, maxlen=maxlen, padding='pre')\n",
    "\n",
    "print(\"패딩 적용 후 X_train 크기:\", X_train_padded.shape)\n",
    "print(\"패딩 적용 후 X_test 크기:\", X_test_padded.shape)"
   ]
  },
  {
   "cell_type": "markdown",
   "id": "23235e6f",
   "metadata": {},
   "source": [
    "48로 되었음을 확인"
   ]
  },
  {
   "cell_type": "markdown",
   "id": "8a0e0d97",
   "metadata": {},
   "source": [
    "### 4) 모델 구성 및 validation set 구성\n",
    "\n",
    "모델은 3가지 이상 다양하게 구성하여 실험해 보세요.\n"
   ]
  },
  {
   "cell_type": "code",
   "execution_count": 26,
   "id": "74721f74",
   "metadata": {},
   "outputs": [
    {
     "name": "stdout",
     "output_type": "stream",
     "text": [
      "훈련 데이터 크기: (116945, 48), 레이블 크기: (116945,)\n",
      "검증 데이터 크기: (29237, 48), 레이블 크기: (29237,)\n"
     ]
    }
   ],
   "source": [
    "from sklearn.model_selection import train_test_split\n",
    "\n",
    "# Validation Set 분리 (훈련 데이터의 20%를 검증 데이터로 사용)\n",
    "X_train_final, X_val, y_train_final, y_val = train_test_split(\n",
    "    X_train_padded, y_train, test_size=0.2, random_state=42\n",
    ")\n",
    "\n"
   ]
  },
  {
   "cell_type": "markdown",
   "id": "2b214a30",
   "metadata": {},
   "source": [
    "## lstm"
   ]
  },
  {
   "cell_type": "code",
   "execution_count": 29,
   "id": "0ad15081",
   "metadata": {},
   "outputs": [
    {
     "name": "stdout",
     "output_type": "stream",
     "text": [
      "Model: \"sequential\"\n",
      "_________________________________________________________________\n",
      "Layer (type)                 Output Shape              Param #   \n",
      "=================================================================\n",
      "embedding (Embedding)        (None, 42, 16)            160000    \n",
      "_________________________________________________________________\n",
      "lstm (LSTM)                  (None, 64)                20736     \n",
      "_________________________________________________________________\n",
      "dense (Dense)                (None, 64)                4160      \n",
      "_________________________________________________________________\n",
      "dropout (Dropout)            (None, 64)                0         \n",
      "_________________________________________________________________\n",
      "dense_1 (Dense)              (None, 1)                 65        \n",
      "=================================================================\n",
      "Total params: 184,961\n",
      "Trainable params: 184,961\n",
      "Non-trainable params: 0\n",
      "_________________________________________________________________\n"
     ]
    }
   ],
   "source": [
    "from tensorflow.keras.models import Sequential\n",
    "from tensorflow.keras.layers import Embedding, LSTM, Dense, Dropout\n",
    "\n",
    "# 모델 LSTM 모델\n",
    "model1 = Sequential([\n",
    "    Embedding(input_dim=20000, output_dim=16, input_length=maxlen),\n",
    "    LSTM(64, return_sequences=False),  # 단일 LSTM 층 lms에서는 8층으로 하였음.\n",
    "    Dense(64, activation='relu'),\n",
    "    Dropout(0.5),\n",
    "    Dense(1, activation='sigmoid')  # 이진 분류\n",
    "])\n",
    "\n",
    "# 모델 컴파일\n",
    "model1.compile(optimizer='adam', loss='binary_crossentropy', metrics=['accuracy'])\n",
    "\n",
    "# 모델 요약 출력\n",
    "model1.summary()"
   ]
  },
  {
   "cell_type": "markdown",
   "id": "30830f8a",
   "metadata": {},
   "source": [
    "## GRU   (lstm보다는 조금더 가벼운 모델?)"
   ]
  },
  {
   "cell_type": "code",
   "execution_count": 42,
   "id": "bf08905b",
   "metadata": {},
   "outputs": [
    {
     "name": "stdout",
     "output_type": "stream",
     "text": [
      "Model: \"sequential_6\"\n",
      "_________________________________________________________________\n",
      "Layer (type)                 Output Shape              Param #   \n",
      "=================================================================\n",
      "embedding_4 (Embedding)      (None, 42, 12)            120000    \n",
      "_________________________________________________________________\n",
      "gru_1 (GRU)                  (None, 8)                 528       \n",
      "_________________________________________________________________\n",
      "dense_6 (Dense)              (None, 8)                 72        \n",
      "_________________________________________________________________\n",
      "dropout_3 (Dropout)          (None, 8)                 0         \n",
      "_________________________________________________________________\n",
      "dense_7 (Dense)              (None, 1)                 9         \n",
      "=================================================================\n",
      "Total params: 120,609\n",
      "Trainable params: 120,609\n",
      "Non-trainable params: 0\n",
      "_________________________________________________________________\n"
     ]
    }
   ],
   "source": [
    "from keras.layers import GRU\n",
    "\n",
    "# 모델 2: GRU 기반 모델\n",
    "model2 = Sequential()\n",
    "model2.add((Embedding(input_dim=20000, output_dim=12, input_length=maxlen)))  # Embedding Layer\n",
    "model2.add(GRU(8))  # GRU 레이어 (출력 벡터 차원 8)\n",
    "model2.add(Dense(8, activation='relu'))  # Fully Connected Layer\n",
    "model2.add(Dropout(0.5))  # 과적합 방지\n",
    "model2.add(Dense(1, activation='sigmoid'))  # 이진 분류 (긍정/부정)\n",
    "\n",
    "model2.compile(optimizer='adam', loss='binary_crossentropy', metrics=['accuracy'])\n",
    "\n",
    "# 모델 구조 출력\n",
    "model2.summary()\n",
    "\n"
   ]
  },
  {
   "cell_type": "markdown",
   "id": "9892a058",
   "metadata": {},
   "source": [
    "# CNN 기반 모델"
   ]
  },
  {
   "cell_type": "code",
   "execution_count": 43,
   "id": "9cce3330",
   "metadata": {},
   "outputs": [
    {
     "name": "stdout",
     "output_type": "stream",
     "text": [
      "Model: \"sequential_7\"\n",
      "_________________________________________________________________\n",
      "Layer (type)                 Output Shape              Param #   \n",
      "=================================================================\n",
      "embedding_5 (Embedding)      (None, 42, 12)            120000    \n",
      "_________________________________________________________________\n",
      "conv1d_1 (Conv1D)            (None, 38, 8)             488       \n",
      "_________________________________________________________________\n",
      "max_pooling1d_1 (MaxPooling1 (None, 19, 8)             0         \n",
      "_________________________________________________________________\n",
      "global_max_pooling1d_1 (Glob (None, 8)                 0         \n",
      "_________________________________________________________________\n",
      "dense_8 (Dense)              (None, 8)                 72        \n",
      "_________________________________________________________________\n",
      "dropout_4 (Dropout)          (None, 8)                 0         \n",
      "_________________________________________________________________\n",
      "dense_9 (Dense)              (None, 1)                 9         \n",
      "=================================================================\n",
      "Total params: 120,569\n",
      "Trainable params: 120,569\n",
      "Non-trainable params: 0\n",
      "_________________________________________________________________\n"
     ]
    }
   ],
   "source": [
    "from keras.layers import Conv1D, MaxPooling1D, GlobalMaxPooling1D\n",
    "\n",
    "# 모델 3: CNN 기반 모델\n",
    "model3 = Sequential()\n",
    "model3.add(((Embedding(input_dim=20000, output_dim=12, input_length=maxlen))))  # Embedding Layer\n",
    "model3.add(Conv1D(8, 5, activation='relu'))  # CNN 필터 적용\n",
    "model3.add(MaxPooling1D())  # Max Pooling 적용\n",
    "model3.add(GlobalMaxPooling1D())  \n",
    "model3.add(Dense(8, activation='relu'))  # Fully Connected Layer\n",
    "model3.add(Dropout(0.5))  # 과적합 방지\n",
    "model3.add(Dense(1, activation='sigmoid'))  # 이진 분류 (긍정/부정)\n",
    "\n",
    "model3.compile(optimizer='adam', loss='binary_crossentropy', metrics=['accuracy'])\n",
    "\n",
    "# 모델 구조 출력\n",
    "model3.summary()"
   ]
  },
  {
   "cell_type": "code",
   "execution_count": 52,
   "id": "64e41108",
   "metadata": {},
   "outputs": [
    {
     "name": "stdout",
     "output_type": "stream",
     "text": [
      "Epoch 1/30\n",
      "1828/1828 [==============================] - 10s 5ms/step - loss: 0.0277 - accuracy: 0.9876 - val_loss: 1.5517 - val_accuracy: 0.8281\n",
      "Epoch 2/30\n",
      "1828/1828 [==============================] - 10s 5ms/step - loss: 0.0269 - accuracy: 0.9879 - val_loss: 1.7515 - val_accuracy: 0.8256\n",
      "Epoch 3/30\n",
      "1828/1828 [==============================] - 10s 5ms/step - loss: 0.0249 - accuracy: 0.9887 - val_loss: 1.8089 - val_accuracy: 0.8298\n",
      "Epoch 4/30\n",
      "1828/1828 [==============================] - 10s 5ms/step - loss: 0.0243 - accuracy: 0.9886 - val_loss: 1.7250 - val_accuracy: 0.8280\n",
      "Epoch 5/30\n",
      "1828/1828 [==============================] - 10s 5ms/step - loss: 0.0248 - accuracy: 0.9887 - val_loss: 1.6542 - val_accuracy: 0.8274\n",
      "Epoch 6/30\n",
      "1828/1828 [==============================] - 10s 5ms/step - loss: 0.0238 - accuracy: 0.9892 - val_loss: 1.6076 - val_accuracy: 0.8304\n",
      "Epoch 7/30\n",
      "1828/1828 [==============================] - 10s 5ms/step - loss: 0.0223 - accuracy: 0.9895 - val_loss: 1.7642 - val_accuracy: 0.8285\n",
      "Epoch 8/30\n",
      "1828/1828 [==============================] - 10s 5ms/step - loss: 0.0230 - accuracy: 0.9894 - val_loss: 1.7759 - val_accuracy: 0.8260\n",
      "Epoch 9/30\n",
      "1828/1828 [==============================] - 10s 5ms/step - loss: 0.0212 - accuracy: 0.9899 - val_loss: 1.6913 - val_accuracy: 0.8265\n",
      "Epoch 10/30\n",
      "1828/1828 [==============================] - 10s 5ms/step - loss: 0.0200 - accuracy: 0.9903 - val_loss: 1.7264 - val_accuracy: 0.8252\n",
      "Epoch 11/30\n",
      "1828/1828 [==============================] - 9s 5ms/step - loss: 0.0205 - accuracy: 0.9902 - val_loss: 1.8029 - val_accuracy: 0.8272\n",
      "Epoch 12/30\n",
      "1828/1828 [==============================] - 10s 5ms/step - loss: 0.0194 - accuracy: 0.9904 - val_loss: 1.8759 - val_accuracy: 0.8249\n",
      "Epoch 13/30\n",
      "1828/1828 [==============================] - 10s 5ms/step - loss: 0.0197 - accuracy: 0.9905 - val_loss: 1.8210 - val_accuracy: 0.8292\n",
      "Epoch 14/30\n",
      "1828/1828 [==============================] - 10s 5ms/step - loss: 0.0181 - accuracy: 0.9911 - val_loss: 1.8940 - val_accuracy: 0.8291\n",
      "Epoch 15/30\n",
      "1828/1828 [==============================] - 10s 5ms/step - loss: 0.0179 - accuracy: 0.9913 - val_loss: 1.9522 - val_accuracy: 0.8249\n",
      "Epoch 16/30\n",
      "1828/1828 [==============================] - 10s 5ms/step - loss: 0.0184 - accuracy: 0.9914 - val_loss: 1.8938 - val_accuracy: 0.8227\n",
      "Epoch 17/30\n",
      "1828/1828 [==============================] - 10s 5ms/step - loss: 0.0170 - accuracy: 0.9919 - val_loss: 1.9766 - val_accuracy: 0.8267\n",
      "Epoch 18/30\n",
      "1828/1828 [==============================] - 10s 5ms/step - loss: 0.0169 - accuracy: 0.9918 - val_loss: 1.7932 - val_accuracy: 0.8249\n",
      "Epoch 19/30\n",
      "1828/1828 [==============================] - 9s 5ms/step - loss: 0.0158 - accuracy: 0.9923 - val_loss: 2.0002 - val_accuracy: 0.8236\n",
      "Epoch 20/30\n",
      "1828/1828 [==============================] - 10s 5ms/step - loss: 0.0159 - accuracy: 0.9924 - val_loss: 1.9717 - val_accuracy: 0.8288\n",
      "Epoch 21/30\n",
      "1828/1828 [==============================] - 10s 5ms/step - loss: 0.0155 - accuracy: 0.9924 - val_loss: 2.0847 - val_accuracy: 0.8233\n",
      "Epoch 22/30\n",
      "1828/1828 [==============================] - 10s 5ms/step - loss: 0.0155 - accuracy: 0.9927 - val_loss: 1.9685 - val_accuracy: 0.8259\n",
      "Epoch 23/30\n",
      "1828/1828 [==============================] - 10s 5ms/step - loss: 0.0156 - accuracy: 0.9925 - val_loss: 1.9254 - val_accuracy: 0.8274\n",
      "Epoch 24/30\n",
      "1828/1828 [==============================] - 10s 5ms/step - loss: 0.0141 - accuracy: 0.9931 - val_loss: 2.0536 - val_accuracy: 0.8252\n",
      "Epoch 25/30\n",
      "1828/1828 [==============================] - 10s 5ms/step - loss: 0.0143 - accuracy: 0.9930 - val_loss: 2.0987 - val_accuracy: 0.8254\n",
      "Epoch 26/30\n",
      "1828/1828 [==============================] - 10s 5ms/step - loss: 0.0130 - accuracy: 0.9935 - val_loss: 2.2218 - val_accuracy: 0.8265\n",
      "Epoch 27/30\n",
      "1828/1828 [==============================] - 10s 5ms/step - loss: 0.0142 - accuracy: 0.9932 - val_loss: 2.0921 - val_accuracy: 0.8239\n",
      "Epoch 28/30\n",
      "1828/1828 [==============================] - 9s 5ms/step - loss: 0.0132 - accuracy: 0.9934 - val_loss: 2.2708 - val_accuracy: 0.8223\n",
      "Epoch 29/30\n",
      "1828/1828 [==============================] - 9s 5ms/step - loss: 0.0125 - accuracy: 0.9939 - val_loss: 2.2785 - val_accuracy: 0.8246\n",
      "Epoch 30/30\n",
      "1828/1828 [==============================] - 10s 5ms/step - loss: 0.0128 - accuracy: 0.9939 - val_loss: 2.1160 - val_accuracy: 0.8250\n",
      "Epoch 1/30\n",
      "1828/1828 [==============================] - 9s 5ms/step - loss: 0.1946 - accuracy: 0.9224 - val_loss: 0.6617 - val_accuracy: 0.8390\n",
      "Epoch 2/30\n",
      "1828/1828 [==============================] - 9s 5ms/step - loss: 0.1883 - accuracy: 0.9242 - val_loss: 0.7104 - val_accuracy: 0.8340\n",
      "Epoch 3/30\n",
      "1828/1828 [==============================] - 9s 5ms/step - loss: 0.1849 - accuracy: 0.9262 - val_loss: 0.6868 - val_accuracy: 0.8325\n",
      "Epoch 4/30\n",
      "1828/1828 [==============================] - 9s 5ms/step - loss: 0.1805 - accuracy: 0.9282 - val_loss: 0.7919 - val_accuracy: 0.8389\n",
      "Epoch 5/30\n",
      "1828/1828 [==============================] - 9s 5ms/step - loss: 0.1800 - accuracy: 0.9279 - val_loss: 0.7408 - val_accuracy: 0.8353\n",
      "Epoch 6/30\n",
      "1828/1828 [==============================] - 9s 5ms/step - loss: 0.1754 - accuracy: 0.9301 - val_loss: 0.7597 - val_accuracy: 0.8352\n",
      "Epoch 7/30\n",
      "1828/1828 [==============================] - 9s 5ms/step - loss: 0.1730 - accuracy: 0.9308 - val_loss: 0.7151 - val_accuracy: 0.8279\n",
      "Epoch 8/30\n",
      "1828/1828 [==============================] - 9s 5ms/step - loss: 0.1706 - accuracy: 0.9314 - val_loss: 0.8030 - val_accuracy: 0.8328\n",
      "Epoch 9/30\n",
      "1828/1828 [==============================] - 9s 5ms/step - loss: 0.1674 - accuracy: 0.9333 - val_loss: 0.8009 - val_accuracy: 0.8314\n",
      "Epoch 10/30\n",
      "1828/1828 [==============================] - 9s 5ms/step - loss: 0.1638 - accuracy: 0.9343 - val_loss: 0.9208 - val_accuracy: 0.8357\n",
      "Epoch 11/30\n",
      "1828/1828 [==============================] - 9s 5ms/step - loss: 0.1629 - accuracy: 0.9345 - val_loss: 0.8983 - val_accuracy: 0.8366\n",
      "Epoch 12/30\n",
      "1828/1828 [==============================] - 9s 5ms/step - loss: 0.1597 - accuracy: 0.9361 - val_loss: 0.8857 - val_accuracy: 0.8293\n",
      "Epoch 13/30\n",
      "1828/1828 [==============================] - 9s 5ms/step - loss: 0.1549 - accuracy: 0.9372 - val_loss: 0.9323 - val_accuracy: 0.8319\n",
      "Epoch 14/30\n",
      "1828/1828 [==============================] - 9s 5ms/step - loss: 0.1554 - accuracy: 0.9376 - val_loss: 0.9114 - val_accuracy: 0.8315\n",
      "Epoch 15/30\n",
      "1828/1828 [==============================] - 9s 5ms/step - loss: 0.1577 - accuracy: 0.9365 - val_loss: 0.9217 - val_accuracy: 0.8270\n",
      "Epoch 16/30\n",
      "1828/1828 [==============================] - 9s 5ms/step - loss: 0.1490 - accuracy: 0.9406 - val_loss: 0.9321 - val_accuracy: 0.8243\n",
      "Epoch 17/30\n",
      "1828/1828 [==============================] - 9s 5ms/step - loss: 0.1497 - accuracy: 0.9402 - val_loss: 1.0023 - val_accuracy: 0.8300\n",
      "Epoch 18/30\n",
      "1828/1828 [==============================] - 9s 5ms/step - loss: 0.1499 - accuracy: 0.9404 - val_loss: 0.9751 - val_accuracy: 0.8282\n",
      "Epoch 19/30\n",
      "1828/1828 [==============================] - 9s 5ms/step - loss: 0.1506 - accuracy: 0.9400 - val_loss: 0.9638 - val_accuracy: 0.8257\n",
      "Epoch 20/30\n",
      "1828/1828 [==============================] - 9s 5ms/step - loss: 0.1447 - accuracy: 0.9419 - val_loss: 0.9479 - val_accuracy: 0.8205\n",
      "Epoch 21/30\n",
      "1828/1828 [==============================] - 9s 5ms/step - loss: 0.1448 - accuracy: 0.9412 - val_loss: 1.1291 - val_accuracy: 0.8320\n",
      "Epoch 22/30\n",
      "1828/1828 [==============================] - 9s 5ms/step - loss: 0.1402 - accuracy: 0.9436 - val_loss: 1.0556 - val_accuracy: 0.8317\n",
      "Epoch 23/30\n",
      "1828/1828 [==============================] - 9s 5ms/step - loss: 0.1402 - accuracy: 0.9442 - val_loss: 1.1606 - val_accuracy: 0.8317\n",
      "Epoch 24/30\n",
      "1828/1828 [==============================] - 9s 5ms/step - loss: 0.1403 - accuracy: 0.9432 - val_loss: 1.1610 - val_accuracy: 0.8296\n",
      "Epoch 25/30\n",
      "1828/1828 [==============================] - 9s 5ms/step - loss: 0.1394 - accuracy: 0.9441 - val_loss: 1.1532 - val_accuracy: 0.8289\n",
      "Epoch 26/30\n",
      "1828/1828 [==============================] - 9s 5ms/step - loss: 0.1388 - accuracy: 0.9437 - val_loss: 1.0976 - val_accuracy: 0.8244\n",
      "Epoch 27/30\n",
      "1828/1828 [==============================] - 9s 5ms/step - loss: 0.1360 - accuracy: 0.9453 - val_loss: 1.1682 - val_accuracy: 0.8245\n",
      "Epoch 28/30\n",
      "1828/1828 [==============================] - 9s 5ms/step - loss: 0.1336 - accuracy: 0.9454 - val_loss: 1.2152 - val_accuracy: 0.8278\n",
      "Epoch 29/30\n",
      "1828/1828 [==============================] - 9s 5ms/step - loss: 0.1356 - accuracy: 0.9453 - val_loss: 1.3031 - val_accuracy: 0.8283\n",
      "Epoch 30/30\n",
      "1828/1828 [==============================] - 9s 5ms/step - loss: 0.1330 - accuracy: 0.9455 - val_loss: 1.1815 - val_accuracy: 0.8227\n",
      "Epoch 1/30\n",
      "1828/1828 [==============================] - 7s 4ms/step - loss: 0.1659 - accuracy: 0.9358 - val_loss: 0.8347 - val_accuracy: 0.8193\n",
      "Epoch 2/30\n",
      "1828/1828 [==============================] - 7s 4ms/step - loss: 0.1627 - accuracy: 0.9367 - val_loss: 0.8834 - val_accuracy: 0.8185\n",
      "Epoch 3/30\n",
      "1828/1828 [==============================] - 7s 4ms/step - loss: 0.1615 - accuracy: 0.9369 - val_loss: 0.9156 - val_accuracy: 0.8204\n",
      "Epoch 4/30\n",
      "1828/1828 [==============================] - 7s 4ms/step - loss: 0.1578 - accuracy: 0.9383 - val_loss: 0.9548 - val_accuracy: 0.8208\n",
      "Epoch 5/30\n",
      "1828/1828 [==============================] - 7s 4ms/step - loss: 0.1557 - accuracy: 0.9385 - val_loss: 0.9620 - val_accuracy: 0.8181\n",
      "Epoch 6/30\n",
      "1828/1828 [==============================] - 7s 4ms/step - loss: 0.1546 - accuracy: 0.9398 - val_loss: 0.9477 - val_accuracy: 0.8178\n",
      "Epoch 7/30\n",
      "1828/1828 [==============================] - 7s 4ms/step - loss: 0.1504 - accuracy: 0.9408 - val_loss: 0.9609 - val_accuracy: 0.8114\n",
      "Epoch 8/30\n",
      "1828/1828 [==============================] - 7s 4ms/step - loss: 0.1501 - accuracy: 0.9409 - val_loss: 1.0257 - val_accuracy: 0.8154\n",
      "Epoch 9/30\n",
      "1828/1828 [==============================] - 7s 4ms/step - loss: 0.1473 - accuracy: 0.9420 - val_loss: 1.0542 - val_accuracy: 0.8145\n",
      "Epoch 10/30\n",
      "1828/1828 [==============================] - 7s 4ms/step - loss: 0.1471 - accuracy: 0.9424 - val_loss: 1.0448 - val_accuracy: 0.8130\n",
      "Epoch 11/30\n",
      "1828/1828 [==============================] - 7s 4ms/step - loss: 0.1448 - accuracy: 0.9430 - val_loss: 1.1041 - val_accuracy: 0.8156\n",
      "Epoch 12/30\n",
      "1828/1828 [==============================] - 7s 4ms/step - loss: 0.1461 - accuracy: 0.9424 - val_loss: 1.1118 - val_accuracy: 0.8145\n",
      "Epoch 13/30\n",
      "1828/1828 [==============================] - 7s 4ms/step - loss: 0.1435 - accuracy: 0.9425 - val_loss: 1.1170 - val_accuracy: 0.8103\n",
      "Epoch 14/30\n",
      "1828/1828 [==============================] - 7s 4ms/step - loss: 0.1437 - accuracy: 0.9421 - val_loss: 1.1274 - val_accuracy: 0.8113\n",
      "Epoch 15/30\n",
      "1828/1828 [==============================] - 7s 4ms/step - loss: 0.1421 - accuracy: 0.9437 - val_loss: 1.1319 - val_accuracy: 0.8105\n",
      "Epoch 16/30\n",
      "1828/1828 [==============================] - 7s 4ms/step - loss: 0.1410 - accuracy: 0.9442 - val_loss: 1.1598 - val_accuracy: 0.8117\n",
      "Epoch 17/30\n",
      "1828/1828 [==============================] - 7s 4ms/step - loss: 0.1402 - accuracy: 0.9437 - val_loss: 1.2083 - val_accuracy: 0.8091\n",
      "Epoch 18/30\n",
      "1828/1828 [==============================] - 7s 4ms/step - loss: 0.1384 - accuracy: 0.9447 - val_loss: 1.2414 - val_accuracy: 0.8125\n",
      "Epoch 19/30\n",
      "1828/1828 [==============================] - 7s 4ms/step - loss: 0.1376 - accuracy: 0.9444 - val_loss: 1.2611 - val_accuracy: 0.8100\n",
      "Epoch 20/30\n",
      "1828/1828 [==============================] - 7s 4ms/step - loss: 0.1364 - accuracy: 0.9453 - val_loss: 1.2910 - val_accuracy: 0.8120\n",
      "Epoch 21/30\n",
      "1828/1828 [==============================] - 7s 4ms/step - loss: 0.1369 - accuracy: 0.9455 - val_loss: 1.2665 - val_accuracy: 0.8114\n",
      "Epoch 22/30\n",
      "1828/1828 [==============================] - 7s 4ms/step - loss: 0.1351 - accuracy: 0.9458 - val_loss: 1.2674 - val_accuracy: 0.8100\n",
      "Epoch 23/30\n",
      "1828/1828 [==============================] - 7s 4ms/step - loss: 0.1183 - accuracy: 0.9578 - val_loss: 1.3636 - val_accuracy: 0.8102\n",
      "Epoch 24/30\n",
      "1828/1828 [==============================] - 7s 4ms/step - loss: 0.1152 - accuracy: 0.9594 - val_loss: 1.3705 - val_accuracy: 0.8097\n",
      "Epoch 25/30\n",
      "1828/1828 [==============================] - 7s 4ms/step - loss: 0.1127 - accuracy: 0.9605 - val_loss: 1.4074 - val_accuracy: 0.8099\n",
      "Epoch 26/30\n",
      "1828/1828 [==============================] - 7s 4ms/step - loss: 0.1114 - accuracy: 0.9601 - val_loss: 1.4239 - val_accuracy: 0.8085\n",
      "Epoch 27/30\n",
      "1828/1828 [==============================] - 7s 4ms/step - loss: 0.1069 - accuracy: 0.9622 - val_loss: 1.5052 - val_accuracy: 0.8077\n",
      "Epoch 28/30\n",
      "1828/1828 [==============================] - 7s 4ms/step - loss: 0.1076 - accuracy: 0.9630 - val_loss: 1.4990 - val_accuracy: 0.8090\n",
      "Epoch 29/30\n",
      "1828/1828 [==============================] - 7s 4ms/step - loss: 0.1058 - accuracy: 0.9626 - val_loss: 1.4804 - val_accuracy: 0.8095\n",
      "Epoch 30/30\n",
      "1828/1828 [==============================] - 7s 4ms/step - loss: 0.1052 - accuracy: 0.9637 - val_loss: 1.6359 - val_accuracy: 0.8084\n"
     ]
    }
   ],
   "source": [
    "# LSTM 모델 학습\n",
    "history1 = model1.fit(X_train_final, y_train_final, epochs=20, batch_size=64, validation_data=(X_val, y_val))\n",
    "\n",
    "# GRU 모델 학습\n",
    "history2 = model2.fit(X_train_final, y_train_final, epochs=20, batch_size=64, validation_data=(X_val, y_val))\n",
    "\n",
    "# CNN 모델 학습\n",
    "history3 = model3.fit(X_train_final, y_train_final, epochs=20, batch_size=64, validation_data=(X_val, y_val))\n"
   ]
  },
  {
   "cell_type": "code",
   "execution_count": 58,
   "id": "ff793482",
   "metadata": {},
   "outputs": [
    {
     "name": "stdout",
     "output_type": "stream",
     "text": [
      "1537/1537 - 4s - loss: 2.1547 - accuracy: 0.8252\n",
      "1537/1537 - 3s - loss: 1.1849 - accuracy: 0.8194\n",
      "1537/1537 - 3s - loss: 1.6369 - accuracy: 0.8034\n"
     ]
    }
   ],
   "source": [
    "from tensorflow.keras.preprocessing.sequence import pad_sequences\n",
    "import numpy as np\n",
    "\n",
    "X_test = np.array(X_test)\n",
    "y_test = np.array(y_test)\n",
    "\n",
    "X_test_padded = pad_sequences(X_test, maxlen=maxlen, padding='pre')\n",
    "\n",
    "results1 = model1.evaluate(X_test_padded,y_test, verbose=2)\n",
    "results2 = model2.evaluate(X_test_padded,y_test, verbose=2)\n",
    "results3 = model3.evaluate(X_test_padded,y_test, verbose=2)"
   ]
  },
  {
   "cell_type": "code",
   "execution_count": null,
   "id": "652237c5",
   "metadata": {},
   "outputs": [],
   "source": []
  },
  {
   "cell_type": "markdown",
   "id": "f09dee1f",
   "metadata": {},
   "source": [
    "## Loss, Accurancy 시각화"
   ]
  },
  {
   "cell_type": "code",
   "execution_count": 59,
   "id": "3056437c",
   "metadata": {},
   "outputs": [
    {
     "data": {
      "image/png": "[encoded data removed]",
      "text/plain": [
       "<Figure size 864x288 with 2 Axes>"
      ]
     },
     "metadata": {},
     "output_type": "display_data"
    },
    {
     "data": {
      "image/png": "[encoded data removed]",
      "text/plain": [
       "<Figure size 864x288 with 2 Axes>"
      ]
     },
     "metadata": {},
     "output_type": "display_data"
    },
    {
     "data": {
      "image/png": "[encoded data removed]",
      "text/plain": [
       "<Figure size 864x288 with 2 Axes>"
      ]
     },
     "metadata": {},
     "output_type": "display_data"
    }
   ],
   "source": [
    "import matplotlib.pyplot as plt\n",
    "\n",
    "def plot_training_history(history, model_name):\n",
    "    plt.figure(figsize=(12, 4))\n",
    "\n",
    "    # 정확도 그래프\n",
    "    plt.subplot(1, 2, 1)\n",
    "    plt.plot(history.history['accuracy'], label='Train Accuracy', marker='o')\n",
    "    plt.plot(history.history['val_accuracy'], label='Validation Accuracy', marker='o')\n",
    "    plt.xlabel('Epoch')\n",
    "    plt.ylabel('Accuracy')\n",
    "    plt.title(f'{model_name} Accuracy')\n",
    "    plt.legend()\n",
    "    plt.grid(True)\n",
    "\n",
    "    # 손실 그래프\n",
    "    plt.subplot(1, 2, 2)\n",
    "    plt.plot(history.history['loss'], label='Train Loss', marker='o')\n",
    "    plt.plot(history.history['val_loss'], label='Validation Loss', marker='o')\n",
    "    plt.xlabel('Epoch')\n",
    "    plt.ylabel('Loss')\n",
    "    plt.title(f'{model_name} Loss')\n",
    "    plt.legend()\n",
    "    plt.grid(True)\n",
    "\n",
    "    plt.show()\n",
    "    \n",
    "# LSTM 모델\n",
    "plot_training_history(history1, \"LSTM\")\n",
    "\n",
    "# GRU 모델\n",
    "plot_training_history(history2, \"GRU\")\n",
    "\n",
    "# CNN 모델\n",
    "plot_training_history(history3, \"CNN\")\n"
   ]
  },
  {
   "cell_type": "code",
   "execution_count": 70,
   "id": "01da7cca",
   "metadata": {},
   "outputs": [
    {
     "name": "stdout",
     "output_type": "stream",
     "text": [
      "(10000, 16)\n"
     ]
    },
    {
     "data": {
      "text/plain": [
       "[('빨려', 0.9863371849060059),\n",
       " ('각지', 0.986009418964386),\n",
       " ('퍼펙트', 0.9831481575965881),\n",
       " ('헌신', 0.9802070260047913),\n",
       " ('외로움', 0.9799637794494629),\n",
       " ('It', 0.9798745512962341),\n",
       " ('기다려집니다', 0.9777265787124634),\n",
       " ('찰스', 0.9776760339736938),\n",
       " ('균', 0.9766098260879517),\n",
       " ('매체', 0.9762482047080994)]"
      ]
     },
     "execution_count": 70,
     "metadata": {},
     "output_type": "execute_result"
    }
   ],
   "source": [
    "import os\n",
    "import numpy as np\n",
    "from gensim.models.keyedvectors import Word2VecKeyedVectors\n",
    "\n",
    "# 모델의 임베딩 레이어 가져오기\n",
    "vocab_size = 10000\n",
    "word_vector_dim = 16\n",
    "\n",
    "embedding_layer = model1.layers[0]  # 첫 번째 레이어 (Embedding)\n",
    "weights = embedding_layer.get_weights()[0]  # 학습된 가중치 가져오기\n",
    "print(weights.shape)  # (vocab_size, embedding_dim) 형태\n",
    "\n",
    "# 저장할 파일 경로 설정\n",
    "word2vec_file_path = os.path.join(os.getcwd(), \"word2vec.txt\")\n",
    "\n",
    "# Word2Vec 형식으로 저장\n",
    "with open(word2vec_file_path, 'w') as f:\n",
    "    f.write('{} {}\\n'.format(vocab_size-4, word_vector_dim))  # 총 단어 개수 및 벡터 차원\n",
    "    for i in range(4, vocab_size):  # 특수 토큰 제외\n",
    "        word = index_to_word.get(i, None)\n",
    "        if word:\n",
    "            vector_str = ' '.join(map(str, weights[i]))\n",
    "            f.write('{} {}\\n'.format(word, vector_str))\n",
    "\n",
    "print(f\"✅ 학습된 Word2Vec 파일이 저장되었습니다: {word2vec_file_path}\")\n",
    "\n",
    "\n"
   ]
  },
  {
   "cell_type": "code",
   "execution_count": 71,
   "id": "0b9d2b57",
   "metadata": {},
   "outputs": [
    {
     "name": "stdout",
     "output_type": "stream",
     "text": [
      "'love'의 벡터값:\n",
      "[-0.68575126 -0.9145558   0.6807802   0.2660935   0.5348725   0.28903225\n",
      "  0.61397105  0.74538434 -0.52890694  0.8150422  -0.07807823 -0.6197013\n",
      "  0.97027963  0.9656353   0.16992949  0.6237192 ]\n",
      "\n",
      "'love'와 유사한 단어 (자체 학습된 임베딩):\n",
      "[('빨려', 0.9863371849060059), ('각지', 0.986009418964386), ('퍼펙트', 0.9831481575965881), ('헌신', 0.9802070260047913), ('외로움', 0.9799637794494629), ('It', 0.9798745512962341), ('기다려집니다', 0.9777265787124634), ('찰스', 0.9776760339736938), ('균', 0.9766098260879517), ('매체', 0.9762482047080994)]\n"
     ]
    }
   ],
   "source": [
    "# Word2Vec 포맷의 학습된 임베딩 로드\n",
    "word_vectors = Word2VecKeyedVectors.load_word2vec_format(word2vec_file_path, binary=False)\n",
    "\n",
    "# 특정 단어의 벡터 확인 (예: \"love\")\n",
    "word = \"love\"\n",
    "if word in word_vectors:\n",
    "    print(f\"'{word}'의 벡터값:\\n{word_vectors[word]}\")\n",
    "\n",
    "    # 유사한 단어 찾기\n",
    "    print(f\"\\n'{word}'와 유사한 단어 (자체 학습된 임베딩):\")\n",
    "    print(word_vectors.similar_by_word(word))\n",
    "else:\n",
    "    print(f\"'{word}' 단어가 존재하지 않습니다.\")\n"
   ]
  },
  {
   "cell_type": "code",
   "execution_count": 74,
   "id": "13cacc55",
   "metadata": {},
   "outputs": [
    {
     "data": {
      "text/plain": [
       "[('loved', 0.6907791495323181),\n",
       " ('adore', 0.6816873550415039),\n",
       " ('loves', 0.661863386631012),\n",
       " ('passion', 0.6100708842277527),\n",
       " ('hate', 0.600395679473877),\n",
       " ('loving', 0.5886635780334473),\n",
       " ('affection', 0.5664337873458862),\n",
       " ('undying_love', 0.5547304749488831),\n",
       " ('absolutely_adore', 0.5536840558052063),\n",
       " ('adores', 0.5440906882286072)]"
      ]
     },
     "execution_count": 74,
     "metadata": {},
     "output_type": "execute_result"
    }
   ],
   "source": [
    "from gensim.models import KeyedVectors\n",
    "\n",
    "word2vec_path = os.getenv('HOME')+'/aiffel/sentiment_classification/data/GoogleNews-vectors-negative300.bin.gz'\n",
    "word2vec = KeyedVectors.load_word2vec_format(word2vec_path, binary=True, limit=1000000)\n",
    "vector = word2vec['computer']\n",
    "vector     # 무려 300dim의 워드 벡터입니다.\n",
    "\n",
    "\n",
    "word2vec.similar_by_word(\"love\")\n"
   ]
  },
  {
   "cell_type": "markdown",
   "id": "3b49b829",
   "metadata": {},
   "source": [
    "영어라서 의미가 있는지 확인해야될 것 같습니다. 한글로 된 걸로 해야되는데 시간이 부족합니다.... "
   ]
  },
  {
   "cell_type": "code",
   "execution_count": 76,
   "id": "b2434d95",
   "metadata": {},
   "outputs": [],
   "source": [
    "vocab_size = 20000  # 단어 사전 크기 증가\n",
    "word_vector_dim = 300  # Word2Vec에서 가져온 임베딩 차원\n",
    "embedding_matrix = np.random.rand(vocab_size, word_vector_dim)\n",
    "\n",
    "for word, i in word_to_index.items():\n",
    "    if word in word2vec:\n",
    "        embedding_matrix[i] = word2vec[word]"
   ]
  },
  {
   "cell_type": "code",
   "execution_count": 77,
   "id": "5e76101d",
   "metadata": {},
   "outputs": [
    {
     "name": "stdout",
     "output_type": "stream",
     "text": [
      "Model: \"sequential_8\"\n",
      "_________________________________________________________________\n",
      "Layer (type)                 Output Shape              Param #   \n",
      "=================================================================\n",
      "embedding_6 (Embedding)      (None, 42, 300)           6000000   \n",
      "_________________________________________________________________\n",
      "conv1d_2 (Conv1D)            (None, 38, 64)            96064     \n",
      "_________________________________________________________________\n",
      "max_pooling1d_2 (MaxPooling1 (None, 19, 64)            0         \n",
      "_________________________________________________________________\n",
      "lstm_1 (LSTM)                (None, 19, 128)           98816     \n",
      "_________________________________________________________________\n",
      "lstm_2 (LSTM)                (None, 64)                49408     \n",
      "_________________________________________________________________\n",
      "dense_10 (Dense)             (None, 32)                2080      \n",
      "_________________________________________________________________\n",
      "dropout_5 (Dropout)          (None, 32)                0         \n",
      "_________________________________________________________________\n",
      "dense_11 (Dense)             (None, 1)                 33        \n",
      "=================================================================\n",
      "Total params: 6,246,401\n",
      "Trainable params: 246,401\n",
      "Non-trainable params: 6,000,000\n",
      "_________________________________________________________________\n"
     ]
    }
   ],
   "source": [
    "from tensorflow.keras.models import Sequential\n",
    "from tensorflow.keras.layers import Embedding, LSTM, Dense, Dropout, Conv1D, MaxPooling1D, GlobalMaxPooling1D\n",
    "\n",
    "# 모델 구성\n",
    "model = Sequential()\n",
    "model.add(Embedding(vocab_size, word_vector_dim, weights=[embedding_matrix], input_length=maxlen, trainable=False))  # Word2Vec 가중치 적용\n",
    "model.add(Conv1D(64, 5, activation='relu'))  # CNN 추가\n",
    "model.add(MaxPooling1D(pool_size=2))\n",
    "model.add(LSTM(128, return_sequences=True))  # LSTM 계층 증가\n",
    "model.add(LSTM(64))\n",
    "model.add(Dense(32, activation='relu'))\n",
    "model.add(Dropout(0.5))  # 과적합 방지\n",
    "model.add(Dense(1, activation='sigmoid'))  # 감성 분석 (이진 분류)\n",
    "\n",
    "# 모델 컴파일\n",
    "model.compile(optimizer='adam', loss='binary_crossentropy', metrics=['accuracy'])\n",
    "\n",
    "# 모델 구조 확인\n",
    "model.summary()\n"
   ]
  },
  {
   "cell_type": "code",
   "execution_count": null,
   "id": "50dfac8f",
   "metadata": {},
   "outputs": [],
   "source": [
    "from sklearn.model_selection import train_test_split\n",
    "\n",
    "\n",
    "# 데이터 나누기\n",
    "X_train, X_val, y_train, y_val = train_test_split(X_train_final, y_train_final, test_size=0.2, random_state=42)\n",
    "X_train = pad_sequences(X_train, maxlen=42, padding='pre')\n",
    "X_test = pad_sequences(X_test, maxlen=42, padding='pre')\n",
    "# 모델 학습\n",
    "history = model.fit(X_train, y_train, epochs=20, batch_size=32, validation_data=(X_val, y_val))\n"
   ]
  },
  {
   "cell_type": "code",
   "execution_count": null,
   "id": "4ce19ad8",
   "metadata": {},
   "outputs": [],
   "source": [
    "results = model.evaluate(X_test, y_test, verbose=2)\n",
    "print(f\"\\n✅ 모델 성능: 정확도 {results[1]*100:.2f}%\")"
   ]
  },
  {
   "cell_type": "markdown",
   "id": "d0579273",
   "metadata": {},
   "source": [
    "### 회고록\n",
    "\n",
    "조금 힘들었습니다. 이해하면서 하느라고 좀 더 구현하지 못한게 아쉽습니다.\n",
    "저번시간에 했던 자동으로 하이퍼파라미터 조정하는걸 써보고 싶었는데 아쉽습니다."
   ]
  },
  {
   "cell_type": "code",
   "execution_count": null,
   "id": "d00b86a6",
   "metadata": {},
   "outputs": [],
   "source": []
  },
  {
   "cell_type": "code",
   "execution_count": null,
   "id": "17bc2a2e",
   "metadata": {},
   "outputs": [],
   "source": []
  },
  {
   "cell_type": "code",
   "execution_count": null,
   "id": "f1be9057",
   "metadata": {},
   "outputs": [],
   "source": []
  },
  {
   "cell_type": "code",
   "execution_count": null,
   "id": "da3eb87b",
   "metadata": {},
   "outputs": [],
   "source": []
  },
  {
   "cell_type": "code",
   "execution_count": null,
   "id": "48496261",
   "metadata": {},
   "outputs": [],
   "source": []
  }
 ],
 "metadata": {
  "kernelspec": {
   "display_name": "Python 3 (ipykernel)",
   "language": "python",
   "name": "python3"
  },
  "language_info": {
   "codemirror_mode": {
    "name": "ipython",
    "version": 3
   },
   "file_extension": ".py",
   "mimetype": "text/x-python",
   "name": "python",
   "nbconvert_exporter": "python",
   "pygments_lexer": "ipython3",
   "version": "3.9.7"
  }
 },
 "nbformat": 4,
 "nbformat_minor": 5
}
