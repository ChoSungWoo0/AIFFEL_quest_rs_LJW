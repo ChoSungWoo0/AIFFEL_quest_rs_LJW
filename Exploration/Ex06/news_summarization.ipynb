{
 "cells": [
  {
   "cell_type": "markdown",
   "id": "c43f952e",
   "metadata": {},
   "source": [
    "# 목표\n",
    "\n",
    "1. Abstractive 모델 구성을 위한 텍스트 전처리 단계가 체계적으로 진행되었다.\t분석단계, 정제단계, 정규화와 불용어 제거, 데이터셋 분리, 인코딩 과정이 빠짐없이 체계적으로 진행되었다.\n",
    "\n",
    "2. 텍스트 요약모델이 성공적으로 학습되었음을 확인하였다. 모델 학습이 진행되면서 train loss와 validation loss가 감소하는 경향을 그래프를 통해 확인했으며, 실제 요약문에 있는 핵심 단어들이 요약 문장 안에 포함되었다.\n",
    "\n",
    "3. Extractive 요약을 시도해 보고 Abstractive 요약 결과과 함께 비교해 보았다.\t두 요약 결과를 문법완성도 측면과 핵심단어 포함 측면으로 나누어 비교하고 분석 결과를 표로 정리하여 제시하였다. \n"
   ]
  },
  {
   "cell_type": "code",
   "execution_count": 1,
   "id": "0bd92db5",
   "metadata": {},
   "outputs": [
    {
     "name": "stderr",
     "output_type": "stream",
     "text": [
      "[nltk_data] Downloading package stopwords to /aiffel/nltk_data...\n",
      "[nltk_data]   Package stopwords is already up-to-date!\n"
     ]
    }
   ],
   "source": [
    "import nltk\n",
    "nltk.download('stopwords')\n",
    "\n",
    "import numpy as np\n",
    "import pandas as pd\n",
    "import os\n",
    "import re\n",
    "import matplotlib.pyplot as plt\n",
    "from nltk.corpus import stopwords\n",
    "from bs4 import BeautifulSoup \n",
    "from tensorflow.keras.preprocessing.text import Tokenizer \n",
    "from tensorflow.keras.preprocessing.sequence import pad_sequences\n",
    "import urllib.request\n",
    "import warnings\n",
    "warnings.filterwarnings(\"ignore\", category=UserWarning, module='bs4')\n",
    "from importlib.metadata import version\n",
    "import nltk\n",
    "import tensorflow\n",
    "import summa\n",
    "import pandas as pd"
   ]
  },
  {
   "cell_type": "code",
   "execution_count": 2,
   "id": "d84beb06",
   "metadata": {},
   "outputs": [
    {
     "name": "stdout",
     "output_type": "stream",
     "text": [
      "전체 샘플수 : 98401\n"
     ]
    }
   ],
   "source": [
    "data = pd.read_csv(os.getenv(\"HOME\")+\"/aiffel/Untitled Folder 4/news_summary_more.csv\", nrows=100000)\n",
    "print('전체 샘플수 :', (len(data)))"
   ]
  },
  {
   "cell_type": "code",
   "execution_count": 3,
   "id": "b1d8fd1f",
   "metadata": {},
   "outputs": [
    {
     "data": {
      "text/html": [
       "<div>\n",
       "<style scoped>\n",
       "    .dataframe tbody tr th:only-of-type {\n",
       "        vertical-align: middle;\n",
       "    }\n",
       "\n",
       "    .dataframe tbody tr th {\n",
       "        vertical-align: top;\n",
       "    }\n",
       "\n",
       "    .dataframe thead th {\n",
       "        text-align: right;\n",
       "    }\n",
       "</style>\n",
       "<table border=\"1\" class=\"dataframe\">\n",
       "  <thead>\n",
       "    <tr style=\"text-align: right;\">\n",
       "      <th></th>\n",
       "      <th>headlines</th>\n",
       "      <th>text</th>\n",
       "    </tr>\n",
       "  </thead>\n",
       "  <tbody>\n",
       "    <tr>\n",
       "      <th>0</th>\n",
       "      <td>upGrad learner switches to career in ML &amp; Al w...</td>\n",
       "      <td>Saurav Kant, an alumnus of upGrad and IIIT-B's...</td>\n",
       "    </tr>\n",
       "    <tr>\n",
       "      <th>1</th>\n",
       "      <td>Delhi techie wins free food from Swiggy for on...</td>\n",
       "      <td>Kunal Shah's credit card bill payment platform...</td>\n",
       "    </tr>\n",
       "    <tr>\n",
       "      <th>2</th>\n",
       "      <td>New Zealand end Rohit Sharma-led India's 12-ma...</td>\n",
       "      <td>New Zealand defeated India by 8 wickets in the...</td>\n",
       "    </tr>\n",
       "    <tr>\n",
       "      <th>3</th>\n",
       "      <td>Aegon life iTerm insurance plan helps customer...</td>\n",
       "      <td>With Aegon Life iTerm Insurance plan, customer...</td>\n",
       "    </tr>\n",
       "    <tr>\n",
       "      <th>4</th>\n",
       "      <td>Have known Hirani for yrs, what if MeToo claim...</td>\n",
       "      <td>Speaking about the sexual harassment allegatio...</td>\n",
       "    </tr>\n",
       "  </tbody>\n",
       "</table>\n",
       "</div>"
      ],
      "text/plain": [
       "                                           headlines  \\\n",
       "0  upGrad learner switches to career in ML & Al w...   \n",
       "1  Delhi techie wins free food from Swiggy for on...   \n",
       "2  New Zealand end Rohit Sharma-led India's 12-ma...   \n",
       "3  Aegon life iTerm insurance plan helps customer...   \n",
       "4  Have known Hirani for yrs, what if MeToo claim...   \n",
       "\n",
       "                                                text  \n",
       "0  Saurav Kant, an alumnus of upGrad and IIIT-B's...  \n",
       "1  Kunal Shah's credit card bill payment platform...  \n",
       "2  New Zealand defeated India by 8 wickets in the...  \n",
       "3  With Aegon Life iTerm Insurance plan, customer...  \n",
       "4  Speaking about the sexual harassment allegatio...  "
      ]
     },
     "execution_count": 3,
     "metadata": {},
     "output_type": "execute_result"
    }
   ],
   "source": [
    "data.head()"
   ]
  },
  {
   "cell_type": "code",
   "execution_count": 4,
   "id": "4e88d515",
   "metadata": {},
   "outputs": [
    {
     "name": "stdout",
     "output_type": "stream",
     "text": [
      "Text 열에서 중복을 배제한 유일한 샘플의 수 : 98360\n",
      "Summary 열에서 중복을 배제한 유일한 샘플의 수 : 98280\n"
     ]
    }
   ],
   "source": [
    "print('Text 열에서 중복을 배제한 유일한 샘플의 수 :', data['text'].nunique())\n",
    "print('Summary 열에서 중복을 배제한 유일한 샘플의 수 :', data['headlines'].nunique())"
   ]
  },
  {
   "cell_type": "code",
   "execution_count": 5,
   "id": "815ab722",
   "metadata": {},
   "outputs": [
    {
     "name": "stdout",
     "output_type": "stream",
     "text": [
      "전체 샘플수 : 98360\n"
     ]
    }
   ],
   "source": [
    "data.drop_duplicates(subset = ['text'], inplace=True)\n",
    "print('전체 샘플수 :', (len(data)))"
   ]
  },
  {
   "cell_type": "markdown",
   "id": "e8d9ad1f",
   "metadata": {},
   "source": [
    "text만 중복을 제거해주는 이유는 headlines 에서 간단하게 하는 경우 겹칠수도 있기 때문입니다."
   ]
  },
  {
   "cell_type": "code",
   "execution_count": 6,
   "id": "1c9488cb",
   "metadata": {},
   "outputs": [
    {
     "name": "stdout",
     "output_type": "stream",
     "text": [
      "headlines    0\n",
      "text         0\n",
      "dtype: int64\n"
     ]
    }
   ],
   "source": [
    "print(data.isnull().sum())"
   ]
  },
  {
   "cell_type": "code",
   "execution_count": 7,
   "id": "d362a425",
   "metadata": {},
   "outputs": [
    {
     "name": "stdout",
     "output_type": "stream",
     "text": [
      "정규화 사전의 수:  120\n"
     ]
    }
   ],
   "source": [
    "contractions = {\"ain't\": \"is not\", \"aren't\": \"are not\",\"can't\": \"cannot\", \"'cause\": \"because\", \"could've\": \"could have\", \"couldn't\": \"could not\",\n",
    "                           \"didn't\": \"did not\",  \"doesn't\": \"does not\", \"don't\": \"do not\", \"hadn't\": \"had not\", \"hasn't\": \"has not\", \"haven't\": \"have not\",\n",
    "                           \"he'd\": \"he would\",\"he'll\": \"he will\", \"he's\": \"he is\", \"how'd\": \"how did\", \"how'd'y\": \"how do you\", \"how'll\": \"how will\", \"how's\": \"how is\",\n",
    "                           \"I'd\": \"I would\", \"I'd've\": \"I would have\", \"I'll\": \"I will\", \"I'll've\": \"I will have\",\"I'm\": \"I am\", \"I've\": \"I have\", \"i'd\": \"i would\",\n",
    "                           \"i'd've\": \"i would have\", \"i'll\": \"i will\",  \"i'll've\": \"i will have\",\"i'm\": \"i am\", \"i've\": \"i have\", \"isn't\": \"is not\", \"it'd\": \"it would\",\n",
    "                           \"it'd've\": \"it would have\", \"it'll\": \"it will\", \"it'll've\": \"it will have\",\"it's\": \"it is\", \"let's\": \"let us\", \"ma'am\": \"madam\",\n",
    "                           \"mayn't\": \"may not\", \"might've\": \"might have\",\"mightn't\": \"might not\",\"mightn't've\": \"might not have\", \"must've\": \"must have\",\n",
    "                           \"mustn't\": \"must not\", \"mustn't've\": \"must not have\", \"needn't\": \"need not\", \"needn't've\": \"need not have\",\"o'clock\": \"of the clock\",\n",
    "                           \"oughtn't\": \"ought not\", \"oughtn't've\": \"ought not have\", \"shan't\": \"shall not\", \"sha'n't\": \"shall not\", \"shan't've\": \"shall not have\",\n",
    "                           \"she'd\": \"she would\", \"she'd've\": \"she would have\", \"she'll\": \"she will\", \"she'll've\": \"she will have\", \"she's\": \"she is\",\n",
    "                           \"should've\": \"should have\", \"shouldn't\": \"should not\", \"shouldn't've\": \"should not have\", \"so've\": \"so have\",\"so's\": \"so as\",\n",
    "                           \"this's\": \"this is\",\"that'd\": \"that would\", \"that'd've\": \"that would have\", \"that's\": \"that is\", \"there'd\": \"there would\",\n",
    "                           \"there'd've\": \"there would have\", \"there's\": \"there is\", \"here's\": \"here is\",\"they'd\": \"they would\", \"they'd've\": \"they would have\",\n",
    "                           \"they'll\": \"they will\", \"they'll've\": \"they will have\", \"they're\": \"they are\", \"they've\": \"they have\", \"to've\": \"to have\",\n",
    "                           \"wasn't\": \"was not\", \"we'd\": \"we would\", \"we'd've\": \"we would have\", \"we'll\": \"we will\", \"we'll've\": \"we will have\", \"we're\": \"we are\",\n",
    "                           \"we've\": \"we have\", \"weren't\": \"were not\", \"what'll\": \"what will\", \"what'll've\": \"what will have\", \"what're\": \"what are\",\n",
    "                           \"what's\": \"what is\", \"what've\": \"what have\", \"when's\": \"when is\", \"when've\": \"when have\", \"where'd\": \"where did\", \"where's\": \"where is\",\n",
    "                           \"where've\": \"where have\", \"who'll\": \"who will\", \"who'll've\": \"who will have\", \"who's\": \"who is\", \"who've\": \"who have\",\n",
    "                           \"why's\": \"why is\", \"why've\": \"why have\", \"will've\": \"will have\", \"won't\": \"will not\", \"won't've\": \"will not have\",\n",
    "                           \"would've\": \"would have\", \"wouldn't\": \"would not\", \"wouldn't've\": \"would not have\", \"y'all\": \"you all\",\n",
    "                           \"y'all'd\": \"you all would\",\"y'all'd've\": \"you all would have\",\"y'all're\": \"you all are\",\"y'all've\": \"you all have\",\n",
    "                           \"you'd\": \"you would\", \"you'd've\": \"you would have\", \"you'll\": \"you will\", \"you'll've\": \"you will have\",\n",
    "                           \"you're\": \"you are\", \"you've\": \"you have\"}\n",
    "\n",
    "print(\"정규화 사전의 수: \", len(contractions))"
   ]
  },
  {
   "cell_type": "code",
   "execution_count": 8,
   "id": "92741230",
   "metadata": {},
   "outputs": [
    {
     "name": "stdout",
     "output_type": "stream",
     "text": [
      "불용어 개수 : 179\n",
      "['i', 'me', 'my', 'myself', 'we', 'our', 'ours', 'ourselves', 'you', \"you're\", \"you've\", \"you'll\", \"you'd\", 'your', 'yours', 'yourself', 'yourselves', 'he', 'him', 'his', 'himself', 'she', \"she's\", 'her', 'hers', 'herself', 'it', \"it's\", 'its', 'itself', 'they', 'them', 'their', 'theirs', 'themselves', 'what', 'which', 'who', 'whom', 'this', 'that', \"that'll\", 'these', 'those', 'am', 'is', 'are', 'was', 'were', 'be', 'been', 'being', 'have', 'has', 'had', 'having', 'do', 'does', 'did', 'doing', 'a', 'an', 'the', 'and', 'but', 'if', 'or', 'because', 'as', 'until', 'while', 'of', 'at', 'by', 'for', 'with', 'about', 'against', 'between', 'into', 'through', 'during', 'before', 'after', 'above', 'below', 'to', 'from', 'up', 'down', 'in', 'out', 'on', 'off', 'over', 'under', 'again', 'further', 'then', 'once', 'here', 'there', 'when', 'where', 'why', 'how', 'all', 'any', 'both', 'each', 'few', 'more', 'most', 'other', 'some', 'such', 'no', 'nor', 'not', 'only', 'own', 'same', 'so', 'than', 'too', 'very', 's', 't', 'can', 'will', 'just', 'don', \"don't\", 'should', \"should've\", 'now', 'd', 'll', 'm', 'o', 're', 've', 'y', 'ain', 'aren', \"aren't\", 'couldn', \"couldn't\", 'didn', \"didn't\", 'doesn', \"doesn't\", 'hadn', \"hadn't\", 'hasn', \"hasn't\", 'haven', \"haven't\", 'isn', \"isn't\", 'ma', 'mightn', \"mightn't\", 'mustn', \"mustn't\", 'needn', \"needn't\", 'shan', \"shan't\", 'shouldn', \"shouldn't\", 'wasn', \"wasn't\", 'weren', \"weren't\", 'won', \"won't\", 'wouldn', \"wouldn't\"]\n"
     ]
    }
   ],
   "source": [
    "print('불용어 개수 :', len(stopwords.words('english') ))\n",
    "print(stopwords.words('english'))"
   ]
  },
  {
   "cell_type": "code",
   "execution_count": 9,
   "id": "ed6c06da",
   "metadata": {},
   "outputs": [],
   "source": [
    "def preprocess_sentence(sentence, remove_stopwords=True):\n",
    "    sentence = sentence.lower() # 텍스트 소문자화\n",
    "    sentence = BeautifulSoup(sentence, \"lxml\").text # <br />, <a href = ...> 등의 html 태그 제거\n",
    "    sentence = re.sub(r'\\([^)]*\\)', '', sentence) # 괄호로 닫힌 문자열 (...) 제거 Ex) my husband (and myself!) for => my husband for\n",
    "    sentence = re.sub('\"','', sentence) # 쌍따옴표 \" 제거\n",
    "    sentence = ' '.join([contractions[t] if t in contractions else t for t in sentence.split(\" \")]) # 약어 정규화\n",
    "    sentence = re.sub(r\"'s\\b\",\"\", sentence) # 소유격 제거. Ex) roland's -> roland\n",
    "    sentence = re.sub(\"[^a-zA-Z]\", \" \", sentence) # 영어 외 문자(숫자, 특수문자 등) 공백으로 변환\n",
    "    sentence = re.sub('[m]{2,}', 'mm', sentence) # m이 3개 이상이면 2개로 변경. Ex) ummmmmmm yeah -> umm yeah\n",
    "    \n",
    "    # 불용어 제거 (Text)\n",
    "    if remove_stopwords:\n",
    "        tokens = ' '.join(word for word in sentence.split() if not word in stopwords.words('english') if len(word) > 1)\n",
    "    # 불용어 미제거 (Summary)\n",
    "    else:\n",
    "        tokens = ' '.join(word for word in sentence.split() if len(word) > 1)\n",
    "    return tokens"
   ]
  },
  {
   "cell_type": "code",
   "execution_count": 10,
   "id": "8b930354",
   "metadata": {},
   "outputs": [
    {
     "name": "stdout",
     "output_type": "stream",
     "text": [
      "Text 전처리 후 결과:  ['saurav kant alumnus upgrad iiit pg program machine learning artificial intelligence sr systems engineer infosys almost years work experience program upgrad degree career support helped transition data scientist tech mahindra salary hike upgrad online power learning powered lakh careers', 'kunal shah credit card bill payment platform cred gave users chance win free food swiggy one year pranav kaushik delhi techie bagged reward spending cred coins users get one cred coin per rupee bill paid used avail rewards brands like ixigo bookmyshow ubereats cult fit', 'new zealand defeated india wickets fourth odi hamilton thursday win first match five match odi series india lost international match rohit sharma captaincy consecutive victories dating back march match witnessed india getting seventh lowest total odi cricket history', 'aegon life iterm insurance plan customers enjoy tax benefits premiums paid save taxes plan provides life cover age years also customers options insure critical illnesses disability accidental death benefit rider life cover age years', 'speaking sexual harassment allegations rajkumar hirani sonam kapoor said known hirani many years true metoo movement get derailed metoo movement always believe woman case need reserve judgment added hirani accused assistant worked sanju']\n"
     ]
    }
   ],
   "source": [
    "clean_text = []\n",
    "\n",
    "clean_text = [preprocess_sentence(text) for text in data['text']]\n",
    "\n",
    "# 전처리 후 출력\n",
    "print(\"Text 전처리 후 결과: \", clean_text[:5])"
   ]
  },
  {
   "cell_type": "code",
   "execution_count": 11,
   "id": "4fed9fc4",
   "metadata": {},
   "outputs": [
    {
     "name": "stdout",
     "output_type": "stream",
     "text": [
      "Text 전처리 후 결과:  ['saurav kant alumnus upgrad iiit pg program machine learning artificial intelligence sr systems engineer infosys almost years work experience program upgrad degree career support helped transition data scientist tech mahindra salary hike upgrad online power learning powered lakh careers', 'kunal shah credit card bill payment platform cred gave users chance win free food swiggy one year pranav kaushik delhi techie bagged reward spending cred coins users get one cred coin per rupee bill paid used avail rewards brands like ixigo bookmyshow ubereats cult fit', 'new zealand defeated india wickets fourth odi hamilton thursday win first match five match odi series india lost international match rohit sharma captaincy consecutive victories dating back march match witnessed india getting seventh lowest total odi cricket history', 'aegon life iterm insurance plan customers enjoy tax benefits premiums paid save taxes plan provides life cover age years also customers options insure critical illnesses disability accidental death benefit rider life cover age years', 'speaking sexual harassment allegations rajkumar hirani sonam kapoor said known hirani many years true metoo movement get derailed metoo movement always believe woman case need reserve judgment added hirani accused assistant worked sanju']\n"
     ]
    }
   ],
   "source": [
    "clean_summary = []\n",
    "\n",
    "clean_summary = [preprocess_sentence(text) for text in data['headlines']]\n",
    "\n",
    "# 전처리 후 출력\n",
    "print(\"Text 전처리 후 결과: \", clean_text[:5])"
   ]
  },
  {
   "cell_type": "code",
   "execution_count": 12,
   "id": "5b80c4a1",
   "metadata": {},
   "outputs": [],
   "source": [
    "data['text'] = clean_text\n",
    "data['headlines'] = clean_summary\n",
    "\n",
    "# 빈 값을 Null 값으로 변환\n",
    "data.replace('', np.nan, inplace=True)\n"
   ]
  },
  {
   "cell_type": "code",
   "execution_count": 13,
   "id": "98b813c8",
   "metadata": {},
   "outputs": [
    {
     "data": {
      "text/plain": [
       "headlines    0\n",
       "text         0\n",
       "dtype: int64"
      ]
     },
     "execution_count": 13,
     "metadata": {},
     "output_type": "execute_result"
    }
   ],
   "source": [
    "data.isnull().sum()"
   ]
  },
  {
   "cell_type": "code",
   "execution_count": 14,
   "id": "70562433",
   "metadata": {},
   "outputs": [
    {
     "name": "stdout",
     "output_type": "stream",
     "text": [
      "전체 샘플수 : 98360\n"
     ]
    }
   ],
   "source": [
    "data.dropna(axis=0, inplace=True)\n",
    "print('전체 샘플수 :', (len(data)))"
   ]
  },
  {
   "cell_type": "code",
   "execution_count": 15,
   "id": "073e164a",
   "metadata": {},
   "outputs": [
    {
     "name": "stdout",
     "output_type": "stream",
     "text": [
      "텍스트의 최소 길이 : 1\n",
      "텍스트의 최대 길이 : 60\n",
      "텍스트의 평균 길이 : 35.09968483123221\n",
      "요약의 최소 길이 : 1\n",
      "요약의 최대 길이 : 13\n",
      "요약의 평균 길이 : 7.136183407889386\n"
     ]
    },
    {
     "data": {
      "image/png": "[encoded data removed]",
      "text/plain": [
       "<Figure size 432x288 with 2 Axes>"
      ]
     },
     "metadata": {
      "needs_background": "light"
     },
     "output_type": "display_data"
    },
    {
     "data": {
      "image/png": "[encoded data removed]",
      "text/plain": [
       "<Figure size 432x288 with 1 Axes>"
      ]
     },
     "metadata": {
      "needs_background": "light"
     },
     "output_type": "display_data"
    },
    {
     "data": {
      "image/png": "[encoded data removed]",
      "text/plain": [
       "<Figure size 432x288 with 1 Axes>"
      ]
     },
     "metadata": {
      "needs_background": "light"
     },
     "output_type": "display_data"
    }
   ],
   "source": [
    "import matplotlib.pyplot as plt\n",
    "\n",
    "text_len = [len(s.split()) for s in data['text']]\n",
    "summary_len = [len(s.split()) for s in data['headlines']]\n",
    "\n",
    "print('텍스트의 최소 길이 : {}'.format(np.min(text_len)))\n",
    "print('텍스트의 최대 길이 : {}'.format(np.max(text_len)))\n",
    "print('텍스트의 평균 길이 : {}'.format(np.mean(text_len)))\n",
    "print('요약의 최소 길이 : {}'.format(np.min(summary_len)))\n",
    "print('요약의 최대 길이 : {}'.format(np.max(summary_len)))\n",
    "print('요약의 평균 길이 : {}'.format(np.mean(summary_len)))\n",
    "\n",
    "plt.subplot(1,2,1)\n",
    "plt.boxplot(text_len)\n",
    "plt.title('Text')\n",
    "plt.subplot(1,2,2)\n",
    "plt.boxplot(summary_len)\n",
    "plt.title('Summary')\n",
    "plt.tight_layout()\n",
    "plt.show()\n",
    "\n",
    "plt.title('Text')\n",
    "plt.hist(text_len, bins = 40)\n",
    "plt.xlabel('length of samples')\n",
    "plt.ylabel('number of samples')\n",
    "plt.show()\n",
    "\n",
    "plt.title('Summary')\n",
    "plt.hist(summary_len, bins = 40)\n",
    "plt.xlabel('length of samples')\n",
    "plt.ylabel('number of samples')\n",
    "plt.show()"
   ]
  },
  {
   "cell_type": "code",
   "execution_count": 16,
   "id": "31ed2fa9",
   "metadata": {},
   "outputs": [],
   "source": [
    "text_max_len = 50\n",
    "summary_max_len = 12\n",
    "\n",
    "def below_threshold_len(max_len, nested_list):\n",
    "  cnt = 0\n",
    "  for s in nested_list:\n",
    "    if(len(s.split()) <= max_len):\n",
    "        cnt = cnt + 1\n",
    "  print('전체 샘플 중 길이가 %s 이하인 샘플의 비율: %s'%(max_len, (cnt / len(nested_list))))"
   ]
  },
  {
   "cell_type": "code",
   "execution_count": 17,
   "id": "3d83acfb",
   "metadata": {},
   "outputs": [
    {
     "name": "stdout",
     "output_type": "stream",
     "text": [
      "전체 샘플 중 길이가 50 이하인 샘플의 비율: 0.9998576657177715\n",
      "전체 샘플 중 길이가 12 이하인 샘플의 비율: 0.9999796665311103\n"
     ]
    }
   ],
   "source": [
    "below_threshold_len(text_max_len, data['text'])\n",
    "below_threshold_len(summary_max_len,  data['headlines'])"
   ]
  },
  {
   "cell_type": "code",
   "execution_count": 18,
   "id": "2b6bb965",
   "metadata": {},
   "outputs": [],
   "source": [
    "data = data[data['text'].str.split().str.len() <= text_max_len]\n",
    "\n",
    "data = data[data['headlines'].str.split().str.len() <= summary_max_len]"
   ]
  },
  {
   "cell_type": "code",
   "execution_count": 19,
   "id": "c5fd8009",
   "metadata": {},
   "outputs": [],
   "source": [
    "#토큰화\n",
    "\n",
    "data['decoder_input'] = data['headlines'].apply(lambda x : 'sostoken '+ x)\n",
    "data['decoder_target'] = data['headlines'].apply(lambda x : x + ' eostoken')\n",
    "data.head()\n",
    "\n",
    "encoder_input = np.array(data['text']) # 인코더의 입력\n",
    "decoder_input = np.array(data['decoder_input']) # 디코더의 입력\n",
    "decoder_target = np.array(data['decoder_target']) # 디코더의 레이블\n"
   ]
  },
  {
   "cell_type": "code",
   "execution_count": 20,
   "id": "7885a9d5",
   "metadata": {},
   "outputs": [
    {
     "name": "stdout",
     "output_type": "stream",
     "text": [
      "[ 2633 42874 42118 ... 19963 87901   510]\n"
     ]
    }
   ],
   "source": [
    "indices = np.arange(encoder_input.shape[0])\n",
    "np.random.shuffle(indices)\n",
    "print(indices)"
   ]
  },
  {
   "cell_type": "code",
   "execution_count": 21,
   "id": "7ffd665c",
   "metadata": {},
   "outputs": [
    {
     "name": "stdout",
     "output_type": "stream",
     "text": [
      "테스트 데이터의 수 : 19668\n"
     ]
    }
   ],
   "source": [
    "encoder_input = encoder_input[indices]\n",
    "decoder_input = decoder_input[indices]\n",
    "decoder_target = decoder_target[indices]\n",
    "n_of_val = int(len(encoder_input)*0.2)\n",
    "print('테스트 데이터의 수 :', n_of_val)"
   ]
  },
  {
   "cell_type": "code",
   "execution_count": 22,
   "id": "d0ac7ba6",
   "metadata": {},
   "outputs": [
    {
     "name": "stdout",
     "output_type": "stream",
     "text": [
      "훈련 데이터의 개수 : 78676\n",
      "훈련 레이블의 개수 : 78676\n",
      "테스트 데이터의 개수 : 19668\n",
      "테스트 레이블의 개수 : 19668\n"
     ]
    }
   ],
   "source": [
    "encoder_input_train = encoder_input[:-n_of_val]\n",
    "decoder_input_train = decoder_input[:-n_of_val]\n",
    "decoder_target_train = decoder_target[:-n_of_val]\n",
    "\n",
    "encoder_input_test = encoder_input[-n_of_val:]\n",
    "decoder_input_test = decoder_input[-n_of_val:]\n",
    "decoder_target_test = decoder_target[-n_of_val:]\n",
    "\n",
    "print('훈련 데이터의 개수 :', len(encoder_input_train))\n",
    "print('훈련 레이블의 개수 :', len(decoder_input_train))\n",
    "print('테스트 데이터의 개수 :', len(encoder_input_test))\n",
    "print('테스트 레이블의 개수 :', len(decoder_input_test))"
   ]
  },
  {
   "cell_type": "code",
   "execution_count": 23,
   "id": "43d2c487",
   "metadata": {},
   "outputs": [
    {
     "name": "stdout",
     "output_type": "stream",
     "text": [
      "단어 집합(vocabulary)의 크기 : 69508\n",
      "등장 빈도가 6번 이하인 희귀 단어의 수: 47400\n",
      "단어 집합에서 희귀 단어를 제외시킬 경우의 단어 집합의 크기 22108\n",
      "단어 집합에서 희귀 단어의 비율: 68.19358922713931\n",
      "전체 등장 빈도에서 희귀 단어 등장 빈도 비율: 3.4885224197489197\n"
     ]
    }
   ],
   "source": [
    "#토크나이저\n",
    "\n",
    "src_tokenizer = Tokenizer() # 토크나이저 정의\n",
    "src_tokenizer.fit_on_texts(encoder_input_train) # 입력된 데이터로부터 단어 집합 생성\n",
    "\n",
    "threshold = 7\n",
    "total_cnt = len(src_tokenizer.word_index) # 단어의 수\n",
    "rare_cnt = 0 # 등장 빈도수가 threshold보다 작은 단어의 개수를 카운트\n",
    "total_freq = 0 # 훈련 데이터의 전체 단어 빈도수 총 합\n",
    "rare_freq = 0 # 등장 빈도수가 threshold보다 작은 단어의 등장 빈도수의 총 합\n",
    "\n",
    "# 단어와 빈도수의 쌍(pair)을 key와 value로 받는다.\n",
    "for key, value in src_tokenizer.word_counts.items():\n",
    "    total_freq = total_freq + value\n",
    "\n",
    "    # 단어의 등장 빈도수가 threshold보다 작으면\n",
    "    if(value < threshold):\n",
    "        rare_cnt = rare_cnt + 1\n",
    "        rare_freq = rare_freq + value\n",
    "\n",
    "print('단어 집합(vocabulary)의 크기 :', total_cnt)\n",
    "print('등장 빈도가 %s번 이하인 희귀 단어의 수: %s'%(threshold - 1, rare_cnt))\n",
    "print('단어 집합에서 희귀 단어를 제외시킬 경우의 단어 집합의 크기 %s'%(total_cnt - rare_cnt))\n",
    "print(\"단어 집합에서 희귀 단어의 비율:\", (rare_cnt / total_cnt)*100)\n",
    "print(\"전체 등장 빈도에서 희귀 단어 등장 빈도 비율:\", (rare_freq / total_freq)*100)\n"
   ]
  },
  {
   "cell_type": "code",
   "execution_count": 24,
   "id": "0b5055f0",
   "metadata": {},
   "outputs": [],
   "source": [
    "src_vocab = 22214 # 69569-47355로 개수를 정했습니다.\n",
    "src_tokenizer = Tokenizer(num_words=src_vocab)\n",
    "src_tokenizer.fit_on_texts(encoder_input_train) # 단어 집합 재생성"
   ]
  },
  {
   "cell_type": "code",
   "execution_count": 25,
   "id": "82a8ada4",
   "metadata": {},
   "outputs": [
    {
     "name": "stdout",
     "output_type": "stream",
     "text": [
      "[[1180, 4112, 4148, 290, 133, 858, 174, 3486, 22, 133, 365, 897, 840, 174, 365, 897, 3601, 2983, 1084, 1145, 29, 1598, 1829, 1084, 1, 1180], [163, 57, 9, 58, 6412, 2771, 4725, 123, 409, 1799, 181, 7902, 9166, 1904, 1448, 833, 21, 181, 777, 1869, 63, 6413, 653, 2889, 580, 218, 74, 129, 89, 4372, 14823, 48, 295, 108, 2336, 1203, 9], [10482, 3, 13, 2706, 400, 186, 5896, 9836, 623, 2158, 1027, 429, 220, 2330, 386, 3438, 503, 90, 9836, 40, 85, 225, 860, 1575, 3, 13, 159, 2158, 909, 1449, 10736]]\n"
     ]
    }
   ],
   "source": [
    "# 텍스트 시퀀스를 정수 시퀀스로 변환\n",
    "encoder_input_train = src_tokenizer.texts_to_sequences(encoder_input_train) \n",
    "encoder_input_test = src_tokenizer.texts_to_sequences(encoder_input_test)\n",
    "\n",
    "# 잘 진행되었는지 샘플 출력\n",
    "print(encoder_input_train[:3])"
   ]
  },
  {
   "cell_type": "code",
   "execution_count": 26,
   "id": "67f6ff17",
   "metadata": {},
   "outputs": [],
   "source": [
    "tar_tokenizer = Tokenizer()\n",
    "tar_tokenizer.fit_on_texts(decoder_input_train)"
   ]
  },
  {
   "cell_type": "code",
   "execution_count": 27,
   "id": "48e45290",
   "metadata": {},
   "outputs": [
    {
     "name": "stdout",
     "output_type": "stream",
     "text": [
      "단어 집합(vocabulary)의 크기 : 29900\n",
      "등장 빈도가 5번 이하인 희귀 단어의 수: 19621\n",
      "단어 집합에서 희귀 단어를 제외시킬 경우의 단어 집합의 크기 10279\n",
      "단어 집합에서 희귀 단어의 비율: 65.62207357859532\n",
      "전체 등장 빈도에서 희귀 단어 등장 빈도 비율: 5.873980341945775\n"
     ]
    }
   ],
   "source": [
    "threshold = 6\n",
    "total_cnt = len(tar_tokenizer.word_index) # 단어의 수\n",
    "rare_cnt = 0 # 등장 빈도수가 threshold보다 작은 단어의 개수를 카운트\n",
    "total_freq = 0 # 훈련 데이터의 전체 단어 빈도수 총 합\n",
    "rare_freq = 0 # 등장 빈도수가 threshold보다 작은 단어의 등장 빈도수의 총 합\n",
    "\n",
    "# 단어와 빈도수의 쌍(pair)을 key와 value로 받는다.\n",
    "for key, value in tar_tokenizer.word_counts.items():\n",
    "    total_freq = total_freq + value\n",
    "\n",
    "    # 단어의 등장 빈도수가 threshold보다 작으면\n",
    "    if(value < threshold):\n",
    "        rare_cnt = rare_cnt + 1\n",
    "        rare_freq = rare_freq + value\n",
    "\n",
    "print('단어 집합(vocabulary)의 크기 :', total_cnt)\n",
    "print('등장 빈도가 %s번 이하인 희귀 단어의 수: %s'%(threshold - 1, rare_cnt))\n",
    "print('단어 집합에서 희귀 단어를 제외시킬 경우의 단어 집합의 크기 %s'%(total_cnt - rare_cnt))\n",
    "print(\"단어 집합에서 희귀 단어의 비율:\", (rare_cnt / total_cnt)*100)\n",
    "print(\"전체 등장 빈도에서 희귀 단어 등장 빈도 비율:\", (rare_freq / total_freq)*100)"
   ]
  },
  {
   "cell_type": "code",
   "execution_count": 28,
   "id": "01edb250",
   "metadata": {},
   "outputs": [
    {
     "name": "stdout",
     "output_type": "stream",
     "text": [
      "input\n",
      "input  [[1, 1214, 3198, 3899, 199, 68], [1, 2619, 2857, 149, 1612, 7093, 1566, 39, 4024], [1, 31, 8, 1196, 126, 1433, 316, 150, 4261], [1, 31, 8, 19, 212, 88, 1027, 743, 1784, 117], [1, 38, 4403, 42, 379, 757, 3592, 15, 26]]\n",
      "target\n",
      "decoder  [[1214, 3198, 3899, 199, 68, 2], [2619, 2857, 149, 1612, 7093, 1566, 39, 4024, 2], [31, 8, 1196, 126, 1433, 316, 150, 4261, 2], [31, 8, 19, 212, 88, 1027, 743, 1784, 117, 2], [38, 4403, 42, 379, 757, 3592, 15, 26, 2]]\n"
     ]
    }
   ],
   "source": [
    "tar_vocab = 29949-19628 #\n",
    "tar_tokenizer = Tokenizer(num_words=tar_vocab) \n",
    "tar_tokenizer.fit_on_texts(decoder_input_train)\n",
    "tar_tokenizer.fit_on_texts(decoder_target_train)\n",
    "\n",
    "# 텍스트 시퀀스를 정수 시퀀스로 변환\n",
    "decoder_input_train = tar_tokenizer.texts_to_sequences(decoder_input_train) \n",
    "decoder_target_train = tar_tokenizer.texts_to_sequences(decoder_target_train)\n",
    "decoder_input_test = tar_tokenizer.texts_to_sequences(decoder_input_test)\n",
    "decoder_target_test = tar_tokenizer.texts_to_sequences(decoder_target_test)\n",
    "\n",
    "# 잘 변환되었는지 확인\n",
    "print('input')\n",
    "print('input ',decoder_input_train[:5])\n",
    "print('target')\n",
    "print('decoder ',decoder_target_train[:5])"
   ]
  },
  {
   "cell_type": "code",
   "execution_count": 29,
   "id": "e2b84f0b",
   "metadata": {},
   "outputs": [
    {
     "name": "stdout",
     "output_type": "stream",
     "text": [
      "삭제할 훈련 데이터의 개수 : 2\n",
      "삭제할 테스트 데이터의 개수 : 0\n",
      "훈련 데이터의 개수 : 78674\n",
      "훈련 레이블의 개수 : 78674\n",
      "테스트 데이터의 개수 : 19668\n",
      "테스트 레이블의 개수 : 19668\n"
     ]
    }
   ],
   "source": [
    "drop_train = [index for index, sentence in enumerate(decoder_input_train) if len(sentence) == 1]\n",
    "drop_test = [index for index, sentence in enumerate(decoder_input_test) if len(sentence) == 1]\n",
    "\n",
    "print('삭제할 훈련 데이터의 개수 :', len(drop_train))\n",
    "print('삭제할 테스트 데이터의 개수 :', len(drop_test))\n",
    "\n",
    "encoder_input_train = [sentence for index, sentence in enumerate(encoder_input_train) if index not in drop_train]\n",
    "decoder_input_train = [sentence for index, sentence in enumerate(decoder_input_train) if index not in drop_train]\n",
    "decoder_target_train = [sentence for index, sentence in enumerate(decoder_target_train) if index not in drop_train]\n",
    "\n",
    "encoder_input_test = [sentence for index, sentence in enumerate(encoder_input_test) if index not in drop_test]\n",
    "decoder_input_test = [sentence for index, sentence in enumerate(decoder_input_test) if index not in drop_test]\n",
    "decoder_target_test = [sentence for index, sentence in enumerate(decoder_target_test) if index not in drop_test]\n",
    "\n",
    "print('훈련 데이터의 개수 :', len(encoder_input_train))\n",
    "print('훈련 레이블의 개수 :', len(decoder_input_train))\n",
    "print('테스트 데이터의 개수 :', len(encoder_input_test))\n",
    "print('테스트 레이블의 개수 :', len(decoder_input_test))"
   ]
  },
  {
   "cell_type": "code",
   "execution_count": 30,
   "id": "82e79c44",
   "metadata": {},
   "outputs": [],
   "source": [
    "encoder_input_train = pad_sequences(encoder_input_train, maxlen=text_max_len, padding='post')\n",
    "encoder_input_test = pad_sequences(encoder_input_test, maxlen=text_max_len, padding='post')\n",
    "decoder_input_train = pad_sequences(decoder_input_train, maxlen=summary_max_len, padding='post')\n",
    "decoder_target_train = pad_sequences(decoder_target_train, maxlen=summary_max_len, padding='post')\n",
    "decoder_input_test = pad_sequences(decoder_input_test, maxlen=summary_max_len, padding='post')\n",
    "decoder_target_test = pad_sequences(decoder_target_test, maxlen=summary_max_len, padding='post')"
   ]
  },
  {
   "cell_type": "markdown",
   "id": "7c85bddd",
   "metadata": {},
   "source": [
    "import tensorflow as tf\n",
    "from tensorflow.keras.layers import Input, LSTM, Embedding, Dense, Attention, Concatenate, Dropout\n",
    "from tensorflow.keras.models import Model\n",
    "\n",
    "# 모델 하이퍼파라미터 설정\n",
    "embedding_dim = 128  # 임베딩 차원\n",
    "hidden_units = 256  # LSTM hidden state 크기\n",
    "max_text_len = 50  # 원문 최대 길이\n",
    "max_summary_len = 12  # 요약문 최대 길이\n",
    "\n",
    "# 인코더 (1층 LSTM)\n",
    "encoder_inputs = Input(shape=(max_text_len,))\n",
    "encoder_embedding = Embedding(input_dim=src_vocab, output_dim=embedding_dim, mask_zero=True)(encoder_inputs)\n",
    "encoder_lstm = LSTM(hidden_units, return_sequences=True, return_state=True, dropout=0.3)  # LSTM 층을 1개만 사용\n",
    "encoder_outputs, state_h, state_c = encoder_lstm(encoder_embedding)\n",
    "\n",
    "# 디코더 (1층 LSTM)\n",
    "decoder_inputs = Input(shape=(max_summary_len,))\n",
    "decoder_embedding = Embedding(input_dim=tar_vocab, output_dim=embedding_dim, mask_zero=True)(decoder_inputs)\n",
    "decoder_lstm = LSTM(hidden_units, return_sequences=True, return_state=True, dropout=0.3)  # LSTM 층을 1개만 사용\n",
    "decoder_outputs, _, _ = decoder_lstm(decoder_embedding, initial_state=[state_h, state_c])\n",
    "\n",
    "# 어텐션 (Attention)\n",
    "attention_layer = Attention()\n",
    "attention_result = attention_layer([decoder_outputs, encoder_outputs])  # 디코더가 인코더의 중요한 부분을 집중\n",
    "\n",
    "# 어텐션 결합\n",
    "decoder_concat = Concatenate(axis=-1)([decoder_outputs, attention_result])\n",
    "decoder_dense = Dense(tar_vocab, activation='softmax')\n",
    "decoder_outputs = decoder_dense(decoder_concat)\n",
    "\n",
    "# 모델 생성\n",
    "model = Model([encoder_inputs, decoder_inputs], decoder_outputs)\n",
    "\n",
    "\n",
    "# 모델 컴파일\n",
    "model.compile(optimizer='rmsprop', loss='sparse_categorical_crossentropy')\n",
    "\n",
    "# 모델 구조 확인\n",
    "model.summary()\n",
    "\n",
    "from tensorflow.keras.callbacks import EarlyStopping\n",
    "\n"
   ]
  },
  {
   "cell_type": "code",
   "execution_count": 31,
   "id": "a257c62a",
   "metadata": {},
   "outputs": [
    {
     "name": "stdout",
     "output_type": "stream",
     "text": [
      "Model: \"model\"\n",
      "__________________________________________________________________________________________________\n",
      "Layer (type)                    Output Shape         Param #     Connected to                     \n",
      "==================================================================================================\n",
      "input_1 (InputLayer)            [(None, 50)]         0                                            \n",
      "__________________________________________________________________________________________________\n",
      "input_2 (InputLayer)            [(None, 12)]         0                                            \n",
      "__________________________________________________________________________________________________\n",
      "embedding (Embedding)           (None, 50, 128)      2843392     input_1[0][0]                    \n",
      "__________________________________________________________________________________________________\n",
      "embedding_1 (Embedding)         (None, 12, 128)      1321088     input_2[0][0]                    \n",
      "__________________________________________________________________________________________________\n",
      "lstm (LSTM)                     [(None, 50, 256), (N 394240      embedding[0][0]                  \n",
      "__________________________________________________________________________________________________\n",
      "lstm_1 (LSTM)                   [(None, 12, 256), (N 394240      embedding_1[0][0]                \n",
      "                                                                 lstm[0][1]                       \n",
      "                                                                 lstm[0][2]                       \n",
      "__________________________________________________________________________________________________\n",
      "attention (Attention)           (None, 12, 256)      0           lstm_1[0][0]                     \n",
      "                                                                 lstm[0][0]                       \n",
      "__________________________________________________________________________________________________\n",
      "concatenate (Concatenate)       (None, 12, 512)      0           lstm_1[0][0]                     \n",
      "                                                                 attention[0][0]                  \n",
      "__________________________________________________________________________________________________\n",
      "dense (Dense)                   (None, 12, 10321)    5294673     concatenate[0][0]                \n",
      "==================================================================================================\n",
      "Total params: 10,247,633\n",
      "Trainable params: 10,247,633\n",
      "Non-trainable params: 0\n",
      "__________________________________________________________________________________________________\n"
     ]
    }
   ],
   "source": [
    "import tensorflow as tf\n",
    "from tensorflow.keras.layers import Input, LSTM, Embedding, Dense, Attention, Concatenate\n",
    "from tensorflow.keras.models import Model\n",
    "\n",
    "embedding_dim = 128  # 임베딩 차원\n",
    "hidden_units = 256  # LSTM hidden state 크기\n",
    "max_text_len = 50  # 원문 최대 길이\n",
    "max_summary_len = 12  # 요약문 최대 길이\n",
    "\n",
    "# 1️⃣ 인코더 (1층 LSTM)\n",
    "encoder_inputs = Input(shape=(max_text_len,))\n",
    "encoder_embedding = Embedding(input_dim=src_vocab, output_dim=embedding_dim, mask_zero=True)(encoder_inputs)\n",
    "encoder_lstm = LSTM(hidden_units, return_sequences=True, return_state=True, dropout=0.2)  # Dropout 줄이기\n",
    "encoder_outputs, state_h, state_c = encoder_lstm(encoder_embedding)\n",
    "\n",
    "# 2️⃣ 디코더 (1층 LSTM)\n",
    "decoder_inputs = Input(shape=(max_summary_len,))\n",
    "decoder_embedding = Embedding(input_dim=tar_vocab, output_dim=embedding_dim, mask_zero=True)(decoder_inputs)\n",
    "decoder_lstm = LSTM(hidden_units, return_sequences=True, return_state=True, dropout=0.2)  # Dropout 줄이기\n",
    "decoder_outputs, _, _ = decoder_lstm(decoder_embedding, initial_state=[state_h, state_c])\n",
    "\n",
    "# 3️⃣ 어텐션 (Attention)\n",
    "attention_layer = Attention()\n",
    "attention_result = attention_layer([decoder_outputs, encoder_outputs])  # 어텐션 적용\n",
    "\n",
    "# 4️⃣ 어텐션 결합\n",
    "decoder_concat = Concatenate(axis=-1)([decoder_outputs, attention_result])\n",
    "decoder_dense = Dense(tar_vocab, activation='softmax')\n",
    "decoder_outputs = decoder_dense(decoder_concat)\n",
    "\n",
    "# 5️⃣ 모델 생성\n",
    "model = Model([encoder_inputs, decoder_inputs], decoder_outputs)\n",
    "\n",
    "# 6️⃣ 모델 컴파일 (Adam 사용)\n",
    "model.compile(optimizer='adam', loss='sparse_categorical_crossentropy')\n",
    "\n",
    "# 7️⃣ 모델 구조 확인\n",
    "model.summary()\n"
   ]
  },
  {
   "cell_type": "code",
   "execution_count": 32,
   "id": "ec3402c6",
   "metadata": {},
   "outputs": [
    {
     "name": "stdout",
     "output_type": "stream",
     "text": [
      "Epoch 1/50\n",
      "308/308 [==============================] - 27s 59ms/step - loss: 4.7303 - val_loss: 4.5441\n",
      "Epoch 2/50\n",
      "308/308 [==============================] - 16s 52ms/step - loss: 4.4612 - val_loss: 4.1953\n",
      "Epoch 3/50\n",
      "308/308 [==============================] - 16s 53ms/step - loss: 3.9812 - val_loss: 3.7737\n",
      "Epoch 4/50\n",
      "308/308 [==============================] - 16s 53ms/step - loss: 3.6027 - val_loss: 3.5358\n",
      "Epoch 5/50\n",
      "308/308 [==============================] - 17s 54ms/step - loss: 3.3198 - val_loss: 3.3707\n",
      "Epoch 6/50\n",
      "308/308 [==============================] - 17s 55ms/step - loss: 3.0775 - val_loss: 3.2490\n",
      "Epoch 7/50\n",
      "308/308 [==============================] - 17s 55ms/step - loss: 2.8673 - val_loss: 3.1631\n",
      "Epoch 8/50\n",
      "308/308 [==============================] - 17s 56ms/step - loss: 2.6802 - val_loss: 3.0976\n",
      "Epoch 9/50\n",
      "308/308 [==============================] - 17s 57ms/step - loss: 2.5119 - val_loss: 3.0518\n",
      "Epoch 10/50\n",
      "308/308 [==============================] - 18s 57ms/step - loss: 2.3600 - val_loss: 3.0203\n",
      "Epoch 11/50\n",
      "308/308 [==============================] - 17s 57ms/step - loss: 2.2209 - val_loss: 3.0035\n",
      "Epoch 12/50\n",
      "308/308 [==============================] - 17s 56ms/step - loss: 2.0929 - val_loss: 2.9943\n",
      "Epoch 13/50\n",
      "308/308 [==============================] - 17s 56ms/step - loss: 1.9761 - val_loss: 2.9936\n",
      "Epoch 14/50\n",
      "308/308 [==============================] - 17s 57ms/step - loss: 1.8685 - val_loss: 2.9940\n",
      "Epoch 15/50\n",
      "308/308 [==============================] - 17s 57ms/step - loss: 1.7687 - val_loss: 3.0016\n",
      "Restoring model weights from the end of the best epoch.\n",
      "Epoch 00015: early stopping\n"
     ]
    }
   ],
   "source": [
    "from tensorflow.keras.callbacks import EarlyStopping\n",
    "\n",
    "# \n",
    "es = EarlyStopping(monitor='val_loss', patience=2, verbose=1, restore_best_weights=True)\n",
    "\n",
    "# 배치 크기 줄이기 \n",
    "history = model.fit(\n",
    "    x=[encoder_input_train, decoder_input_train], \n",
    "    y=decoder_target_train,\n",
    "    validation_data=([encoder_input_test, decoder_input_test], decoder_target_test),\n",
    "    batch_size=256,  \n",
    "    callbacks=[es], \n",
    "    epochs=50  \n",
    ")"
   ]
  },
  {
   "cell_type": "code",
   "execution_count": 33,
   "id": "030133c4",
   "metadata": {},
   "outputs": [
    {
     "data": {
      "image/png": "[encoded data removed]",
      "text/plain": [
       "<Figure size 432x288 with 1 Axes>"
      ]
     },
     "metadata": {
      "needs_background": "light"
     },
     "output_type": "display_data"
    }
   ],
   "source": [
    "plt.plot(history.history['loss'], label='train')\n",
    "plt.plot(history.history['val_loss'], label='test')\n",
    "plt.legend()\n",
    "plt.show()"
   ]
  },
  {
   "cell_type": "code",
   "execution_count": 34,
   "id": "ebd1d70b",
   "metadata": {},
   "outputs": [],
   "source": [
    "src_index_to_word = src_tokenizer.index_word # 원문 단어 집합에서 정수 -> 단어를 얻음\n",
    "tar_word_to_index = tar_tokenizer.word_index # 요약 단어 집합에서 단어 -> 정수를 얻음\n",
    "tar_index_to_word = tar_tokenizer.index_word # 요약 단어 집합에서 정수 -> 단어를 얻음"
   ]
  },
  {
   "cell_type": "code",
   "execution_count": 43,
   "id": "0f125e68",
   "metadata": {},
   "outputs": [],
   "source": [
    "import numpy as np\n",
    "from tensorflow.keras.layers import Input, LSTM, Embedding, Dense, Attention, Concatenate\n",
    "from tensorflow.keras.models import Model\n",
    "\n",
    "hidden_units = 256  # LSTM 은닉 상태 크기\n",
    "max_text_len = 50  # 원문 최대 길이\n",
    "max_summary_len = 12  # 요약문 최대 길이\n",
    "\n",
    "# **인코더 모델 생성 (훈련된 인코더 사용)**\n",
    "encoder_model = Model(inputs=encoder_inputs, outputs=[encoder_outputs, state_h, state_c])\n",
    "\n",
    "# **디코더 입력 정의**\n",
    "decoder_inputs = Input(shape=(1,))  # 한 단어씩 입력 (타겟 시퀀스를 생성할 때 사용)\n",
    "decoder_state_input_h = Input(shape=(hidden_units,))\n",
    "decoder_state_input_c = Input(shape=(hidden_units,))\n",
    "\n",
    "#  **디코더 임베딩 (훈련된 임베딩 레이어 재사용)**\n",
    "dec_emb_layer = Embedding(input_dim=tar_vocab, output_dim=128, mask_zero=True)  # ✅ 훈련 모델과 동일한 임베딩 레이어\n",
    "dec_emb2 = dec_emb_layer(decoder_inputs)  \n",
    "\n",
    "#  **디코더 LSTM (이전 상태를 입력으로 사용)**\n",
    "decoder_lstm = LSTM(hidden_units, return_sequences=True, return_state=True, dropout=0.2)  # ✅ 훈련 모델과 동일한 LSTM\n",
    "decoder_outputs2, state_h2, state_c2 = decoder_lstm(dec_emb2, initial_state=[decoder_state_input_h, decoder_state_input_c])\n",
    "\n",
    "#  **어텐션 적용**\n",
    "decoder_hidden_state_input = Input(shape=(max_text_len, hidden_units))  # ✅ 인코더 출력 받음\n",
    "attention_layer = Attention()  # ✅ 훈련 모델과 동일한 어텐션 레이어\n",
    "attn_out_inf = attention_layer([decoder_outputs2, decoder_hidden_state_input])\n",
    "\n",
    "#  **어텐션 결합**\n",
    "decoder_inf_concat = Concatenate(axis=-1)([decoder_outputs2, attn_out_inf])\n",
    "\n",
    "# 디코더 출력층 (Softmax)**\n",
    "decoder_dense = Dense(tar_vocab, activation='softmax')  # ✅ 훈련 모델과 동일한 출력층\n",
    "decoder_outputs2 = decoder_dense(decoder_inf_concat)\n",
    "\n",
    "#  **최종 디코더 모델 생성**\n",
    "decoder_model = Model(\n",
    "    [decoder_inputs, decoder_hidden_state_input, decoder_state_input_h, decoder_state_input_c],\n",
    "    [decoder_outputs2, state_h2, state_c2]\n",
    ")\n",
    "\n",
    "#  **예측 함수 (decode_sequence)**\n",
    "def decode_sequence(input_seq, temperature=0.8):\n",
    "    # 1️⃣ **인코더를 통해 초기 상태(state) 가져오기**\n",
    "    e_out, e_h, e_c = encoder_model.predict(input_seq)\n",
    "\n",
    "    # 2️⃣ **디코더 입력을 <SOS> 토큰으로 초기화**\n",
    "    target_seq = np.zeros((1, 1))\n",
    "    target_seq[0, 0] = tar_word_to_index['sostoken']\n",
    "\n",
    "    stop_condition = False\n",
    "    decoded_sentence = []\n",
    "\n",
    "    while not stop_condition:\n",
    "        # 3️⃣ **디코더로 한 단계 예측 수행**\n",
    "        output_tokens, h, c = decoder_model.predict([target_seq, e_out, e_h, e_c])\n",
    "\n",
    "        # 4️⃣ **Temperature Sampling 적용하여 랜덤한 단어 선택**\n",
    "        output_tokens = np.asarray(output_tokens[0, -1, :]).astype(\"float64\")\n",
    "        output_tokens = np.log(output_tokens + 1e-10) / temperature  # 확률 분포 조정\n",
    "        exp_preds = np.exp(output_tokens)\n",
    "        output_tokens = exp_preds / np.sum(exp_preds)\n",
    "        sampled_token_index = np.random.choice(len(output_tokens), p=output_tokens)\n",
    "\n",
    "        # 5️⃣ **가장 높은 확률의 단어 선택**\n",
    "        sampled_word = tar_index_to_word.get(sampled_token_index, \"\")\n",
    "\n",
    "        # 6️⃣ **<EOS> 토큰이 나오면 중단**\n",
    "        if sampled_word != \"eostoken\":\n",
    "            decoded_sentence.append(sampled_word)\n",
    "\n",
    "        if sampled_word == \"eostoken\" or len(decoded_sentence) >= (max_summary_len - 1):\n",
    "            stop_condition = True\n",
    "\n",
    "        # 7️⃣ **디코더 입력을 업데이트**\n",
    "        target_seq = np.zeros((1, 1))\n",
    "        target_seq[0, 0] = sampled_token_index\n",
    "\n",
    "        # 8️⃣ **상태 업데이트**\n",
    "        e_h, e_c = h, c\n",
    "\n",
    "    return \" \".join(decoded_sentence)  # 리스트를 문자열로 변환\n"
   ]
  },
  {
   "cell_type": "code",
   "execution_count": 44,
   "id": "072604b2",
   "metadata": {},
   "outputs": [],
   "source": [
    "def seq2text(input_seq):\n",
    "    temp=''\n",
    "    for i in input_seq:\n",
    "        if (i!=0):\n",
    "            temp = temp + src_index_to_word[i]+' '\n",
    "    return temp"
   ]
  },
  {
   "cell_type": "code",
   "execution_count": 45,
   "id": "1b0741f3",
   "metadata": {},
   "outputs": [],
   "source": [
    "def seq2summary(input_seq):\n",
    "    temp = ''\n",
    "    for i in input_seq:\n",
    "        if (i != 0 and i != tar_word_to_index['sostoken'] and i != tar_word_to_index['eostoken']):  # SOS, EOS 제거\n",
    "            temp = temp + tar_index_to_word[i] + ' '\n",
    "    return temp.strip()  "
   ]
  },
  {
   "cell_type": "code",
   "execution_count": 46,
   "id": "00738791",
   "metadata": {
    "scrolled": true
   },
   "outputs": [
    {
     "name": "stdout",
     "output_type": "stream",
     "text": [
      "원문 : amitabh bachchan donated lakh earth foundation ngo works towards welfare senior citizens ngo founder ravi kalra participated recent episode kaun banega crorepati revealed bachchan moved ngo efforts towards taking care elderly money spent food medicines kalra added \n",
      "실제 요약 : big donates lakh charity senior citizen welfare\n",
      "예측 요약 : publishing kabhi indrani paresh patidar brides bureaucrats nana corpse breath reported\n",
      "\n",
      "\n",
      "원문 : former indian captain mahendra singh dhoni visited india office chennai first odi met chennai super kings owner srinivasan visit comes ahead csk return ipl next year serving two year suspension due owners alleged involvement ipl spot fixing scam company termed visit official one \n",
      "실제 요약 : dhoni meets csk owner srinivasan chennai odi\n",
      "예측 요약 : avert debit valid approve lathicharge cremated colour nepotism funny crosses agency\n",
      "\n",
      "\n",
      "원문 : us couple got married ladies toilet groom mother fell ill wedding day rushed washroom ceremony could continue without mother signed marriage licence couple decided ceremony restroom instead \n",
      "실제 요약 : couple marries ladies toilet groom mom falls ill\n",
      "예측 요약 : oppose azam alumnus branson tiny commits irani field households allow sweet\n",
      "\n",
      "\n",
      "원문 : technology giant apple offering users refund warranty iphone battery replacements last year apple said refund issued electronic funds transfer credit card used payment earlier company reduced replacement cost warranty batteries iphone models beyond \n",
      "실제 요약 : apple refund iphone battery\n",
      "예측 요약 : use machines vuitton ray sheets partners promotes ias ad rejects tmc\n",
      "\n",
      "\n",
      "원문 : un high commissioner human rights zeid ra ad al hussein warned us president donald trump threat freedom press country added freedom us constitution comes trump slammed mainstream media allegedly biased reporting fake news articles several times \n",
      "실제 요약 : freedom press attack trump un rights chief\n",
      "예측 요약 : exists retaliatory arts demolition inquiry throwback ganja garh participate sacha members\n",
      "\n",
      "\n",
      "원문 : japan reportedly plans send senior officials attend sexual harassment awareness sessions promotion follows series sex scandals including one involving vice finance minister resigned april accused sexually harassing female reporter cabinet bureau personnel affairs check whether courses attended \n",
      "실제 요약 : japan mulls anti sexual harassment training officials\n",
      "예측 요약 : bezos stick epfo bhatt beta whose advert cpcb doubled schools aur\n",
      "\n",
      "\n",
      "원문 : former england captain manchester united legend david beckham monday launched new miami based football club usa major league soccer championship name logo debut season new club announced later former real madrid star joined mls la galaxy played till \n",
      "실제 요약 : david beckham launches football club usa\n",
      "예측 요약 : spanish terrorist sidharth vande escort birthday dismissed vadodara laugh laughable homecoming\n",
      "\n",
      "\n",
      "원문 : congress spokesperson abhishek singhvi monday hit bjp criticising congress vice president rahul gandhi us visit saying visits compared pm narendra modi become habit people make fun crack jokes singhvi added notably rahul us present opposition perspective contemporary india \n",
      "실제 요약 : rahul foreign visits compared modi cong\n",
      "예측 요약 : attitude raina sole slapping kylie brand process prisoners shopclues creators gitanjali\n",
      "\n",
      "\n",
      "원문 : french president emmanuel macron said country major differences russian president vladimir putin ukraine france would let get away anything conflict ukrainian forces russian backed separatists claimed lives since erupted russia annexed disputed territory crimea \n",
      "실제 요약 : france let putin get away anything prez macron\n",
      "예측 요약 : uthappa atif mirror team payment bikers substitute elizabeth vinci hul bhag\n",
      "\n",
      "\n",
      "원문 : former indian cricketer sachin tendulkar whose son arjun broke india team thursday never played age group cricket india year old made test debut age still holds record india youngest test odi debutant aged sachin scored record breaking run partnership vinod kambli school cricket \n",
      "실제 요약 : sachin tendulkar never played age group cricket india\n",
      "예측 요약 : judgement pune mirza kanye bharat fetch wine result robbing infants pizza\n",
      "\n",
      "\n",
      "원문 : actor amitabh bachchan took instagram share picture shah rukh khan youngest son abram wrote thinks believes convinced beyond doubt father father referring abram confusion bachchan added wonders father stay abram born via surrogacy \n",
      "실제 요약 : abram thinks srk dad stay big\n",
      "예측 요약 : presidency worldwide deeply held importance poisons responds retd ear mining serena\n",
      "\n",
      "\n",
      "원문 : former yahoo ceo mayer set technology incubator called labs old google office incubator named snow focusses consumer media artificial intelligence space notably mayer started career google worked years managed multiple products joining yahoo \n",
      "실제 요약 : ex yahoo ceo sets tech incubator old google office\n",
      "예측 요약 : tours bookie jha mri batsman thiel poland selfies lahore evasion steals\n",
      "\n",
      "\n",
      "원문 : dera sacha sauda chief gurmeet ram rahim singh grows vegetables jail earns fixed salary daily jobs inside rohtak jail adding ram rahim might good skilled jobs dgp kp singh said job allowed present given restrictions inside jail \n",
      "실제 요약 : ram rahim earns daily growing vegetables jail\n",
      "예측 요약 : reply shortage miracle attends avatar grade summit louis noc cable mersal\n",
      "\n",
      "\n",
      "원문 : india captain virat kohli received award bcci best international cricketer last two seasons tuesday said wife anushka sharma presence made occasion special awards happen last year glad kohli added year old presented award coach ravi shastri \n",
      "실제 요약 : anushka presence made bcci award special virat kohli\n",
      "예측 요약 : attractive rise tyre pa auctioning skips control dhadak opt avail flower\n",
      "\n",
      "\n",
      "원문 : four policemen martyred terrorist attack kashmir shopian district wednesday nthe incident happened hours security forces killed two hizbul mujahideen terrorists anantnag reportedly getting vehicle repaired terrorists opened fire \n",
      "실제 요약 : cops martyred terrorist attack jammu kashmir\n",
      "예측 요약 : exactly segment chhillar atc sees redesign knee breaks sharma portrait abvp\n",
      "\n",
      "\n",
      "원문 : information broadcasting ministry tuesday increased rates government releases advertisements print media decision great benefit especially medium small newspapers including large number papers regional languages ministry said rates last revised \n",
      "실제 요약 : ministry raises govt ad rates print media\n",
      "예측 요약 : actors rose foreigners announcing note parmanu clash struggle farting bajrang boat\n",
      "\n",
      "\n",
      "원문 : video bikini clad rider thrown horse nightclub us miami surfaced online video shows horse falling ground throwing woman nightclub investigation possible animal cruelty endangering public safety lost licence following incident \n",
      "실제 요약 : video horse throws bikini clad rider us nightclub\n",
      "예측 요약 : sooraj tobacco rohan blackbuck grave gir references generate joke fish halt\n",
      "\n",
      "\n",
      "원문 : dharmendra sunny deol bobby deol starrer yamla pagla deewana phir se released today poor dated wrote bollywood hungama yamla pagla deewana phir se worth time said ndtv yamla pagla deewana phir se tests patience according times rated \n",
      "실제 요약 : dharmendra yamla pagla deewana phir se hits theatres\n",
      "예측 요약 : musician nice yechury crawls collapse orphanage donuts gir coach meerut aspirants\n",
      "\n",
      "\n",
      "원문 : veteran actress shabana azmi said regrets meeting late actor vinod khanna learning illness added perhaps want remember handsome warm shabana vinod worked together films like khoon ki among others \n",
      "실제 요약 : regret seeing vinod learning illness azmi\n",
      "예측 요약 : key entirely assistance asylum nota basketball freecharge li zee coaster donkey\n",
      "\n",
      "\n",
      "원문 : virat kohli leave india controversy supreme court appointed committee administrators reportedly told humble interactions press public kohli said think live india response fan called team india captain overrated expressing admiration english australian batsmen \n",
      "실제 요약 : kohli told humble coa leave india remark report\n",
      "예측 요약 : felicitated end describe exec parineeti combat bat warrants skills copyright vest\n",
      "\n",
      "\n",
      "원문 : bjp led assam government mulling introduce traditional dress code dhoti kurta men women employees first third every month voluntary basis section staff however opposed move stating create differences employees belong diverse communities tribes \n",
      "실제 요약 : assam mulls voluntary traditional dress code staff\n"
     ]
    },
    {
     "name": "stdout",
     "output_type": "stream",
     "text": [
      "예측 요약 : dussehra branson rijiju dupes schools abvp nightclub shelf statements threaten lenin\n",
      "\n",
      "\n",
      "원문 : television personality kylie jenner snapchat hacked hacker posted message caption add kylie jenner followed post alleged hacker twitter account read got kylie however hour later supposed hacker wrote joke nude pictures kylie \n",
      "실제 요약 : hacker threatens leak kylie jenner nude pictures\n",
      "예측 요약 : diplomacy lifetime lady swift backward onion last queries paint seller gautam\n",
      "\n",
      "\n",
      "원문 : reacting hollywood actor jaden smith tweet saying wants star bollywood movie user wrote incoming offer bigg boss another user photoshopped jaden poster shah rukh khan deepika padukone om shanti om caption say user also photoshopped jaden family kabhi khushi kabhie gham poster \n",
      "실제 요약 : twitter reacts smith wish bollywood film\n",
      "예측 요약 : slack surfaces interrupts defamation patekar reform assured cobra carat free surrogacy\n",
      "\n",
      "\n",
      "원문 : reserve bank india announced area single largest piece damaged note must square cm full refund square cm half refund exchanging notes square cm area needed full refund square cm half refund \n",
      "실제 요약 : rbi announces new rules exchange notes\n",
      "예측 요약 : uri youth david personal withdrawn rifles born underway fortune voluntarily bhutto\n",
      "\n",
      "\n",
      "원문 : tesla spacex boring company founder elon musk tuesday invited people join various startups said one change world working hours week way easier places work nobody ever changed world hours week said working hours could peak times musk added \n",
      "실제 요약 : change world working hours week elon musk\n",
      "예측 요약 : destroying gulshan profitable sanjeev icon elon suffers infiltrate chaturthi immature croatian\n",
      "\n",
      "\n",
      "원문 : chinese man late stage cancer patient sent mistake morgue wife found motionless bed monday funeral service workers later realised alive seeing mouth fingers called help man passed away time medical team arrived \n",
      "실제 요약 : chinese man sent mistake dies funeral\n",
      "예측 요약 : lips books protesters importance men court yami blanket skeleton mass cases\n",
      "\n",
      "\n",
      "원문 : photograph bihar station house officer ashok kumar folding hands front six people riding motorbike gone viral two children sitting motorbike fuel tank three children riding pillion reportedly along mother please follow traffic rules family planning ashok said \n",
      "실제 요약 : cop hands member family riding\n",
      "예측 요약 : often ndmc racquet interstellar confusion hurriyat privacy speed rti controversial named\n",
      "\n",
      "\n",
      "원문 : responding reports isis claiming carried first attack srinagar friday dgp paul vaid ruled presence international terror group state added isis claims investigated another militant group tehreek ul mujahideen claimed terrorist killed attack man \n",
      "실제 요약 : isis jammu kashmir dgp\n",
      "예측 요약 : renames hiring bindra baghdadi ranking winds pets grenade avoiding delayed azaan\n",
      "\n",
      "\n",
      "원문 : sportswear brand nike unveiled cases iphone feature air force two nike popular sneakers case available red green air force available blue cases come price \n",
      "실제 요약 : nike makes iphone cases featuring\n",
      "예측 요약 : skin slap learned ancestral deposit sofia seeks packs jaan bakshi unwanted\n",
      "\n",
      "\n",
      "원문 : india born mit scientist manisha mohan developed sticker like sensor detect sexual assault bluetooth enabled sensor loud noise alert nearby people connects smartphone app send texts victim saved contacts also trained learn difference user forcefully \n",
      "실제 요약 : india born mit scientist makes smart prevent rape\n",
      "예측 요약 : ordinance married house burman interesting success funded meteor railway defender convict\n",
      "\n",
      "\n",
      "원문 : floral tribute late princess diana england trolled called insult festival display meant commemorate th death anniversary council defended saying art meant talking point certainly seems case year design \n",
      "실제 요약 : tribute princess diana trolled called\n",
      "예측 요약 : hardest drinks gaja telco think guts simran hi acid civilians hamilton\n",
      "\n",
      "\n",
      "원문 : california based startup headed indian origin kamat raised crore led ventures app lets split shared expenses feature connects users bank accounts allows flag purchases made household app takes account multiple purchases made roommate calculate owes \n",
      "실제 요약 : indian led app raises crore let split bills\n",
      "예측 요약 : oberoi escort person solar inspiring rupee path consuming pipeline newspaper bible\n",
      "\n",
      "\n",
      "원문 : billionaire elon musk tunnel making startup boring company said build hyperloop system transport people kmph vacuum tubes cities last month musk claimed verbal government approval dig hyperloop tunnel new york washington dc musk introduced idea behind hyperloop \n",
      "실제 요약 : elon musk startup build kmph hyperloop system\n",
      "예측 요약 : usa damaging feb installing akshaye yuvraj reported zareen waterfall bullet contingent\n",
      "\n",
      "\n",
      "원문 : former defence minister manohar parrikar admitted always possible provide soldiers good food conflict zones goa chief minister asked state police work like jawans sometimes get food due hazards things cannot normal conflict zones parrikar stated \n",
      "실제 요약 : good food soldiers always possible parrikar\n",
      "예측 요약 : scheme cauvery vyapam collision ugly venus revealed soldier sport proven preserve\n",
      "\n",
      "\n",
      "원문 : reacting india collapse sri lanka sunday user tweeted indian batting line without virat kohli like bank account without linked aadhar card users reacted tweets like indian team misses kohli anushka missed years dharamshala mountains stand dhoni \n",
      "실제 요약 : india without kohli like account without tweets user\n",
      "예측 요약 : colombian men midnight rescued flooded blindness toyota evicted piece entering directs\n",
      "\n",
      "\n",
      "원문 : philippine president rodrigo duterte declared martial law days southern island mindanao muslim fighters laid siege region following violent clashes government forces according reports violence erupted tuesday army searched leader militant group pledged allegiance isis reports added \n",
      "실제 요약 : duterte declares martial law besieged south philippines\n",
      "예측 요약 : panama nationals tournament temperatures watches copy fees olympic robber glitch sent\n",
      "\n",
      "\n",
      "원문 : medical establishments like hospitals nursing homes phase gloves plastic bags excluding blood bags march next year per amended bio medical waste management rules amended rules also direct establishments pre treat bio medical waste according guidelines sent common waste treatment facility final disposal \n",
      "실제 요약 : medical phase bags\n",
      "예측 요약 : rejected militia lord amendment climb naspers cardboard attempts donates rakhis window\n",
      "\n",
      "\n",
      "원문 : international team scientists found mammal ancestors developed warm metabolism may helped survive mass extinction emergence dinosaurs million years ago study suggests climate main factor evolution internal body heat allowed live environments areas huge seasonal temperature \n",
      "실제 요약 : mammals became warm survive extinction study\n",
      "예측 요약 : vegas castle device ias bbl fighter transportation agrees car incomplete never\n",
      "\n",
      "\n",
      "원문 : insurgency related incidents northeastern states declined compared according home ministry data data reveals region witnessed insurgency related incidents civilian casualties also decreased according data \n",
      "실제 요약 : decline insurgency incidents northeast home ministry\n",
      "예측 요약 : kamal lgbtq blockchain infrastructure elizabeth baroda goswami dravid indecent applauds seek\n",
      "\n",
      "\n",
      "원문 : man arrested allegedly murdering four family members thiruvananthapuram reportedly told police working experiment human souls bodies police claimed year old man suffers bipolar disorder hesitate admitting crime maintaining experiment projection added \n",
      "실제 요약 : kerala man claims killed family soul body\n",
      "예측 요약 : ebay floods nigeria rjd currently misquoted knew regional kennedy fu scg\n",
      "\n",
      "\n",
      "원문 : china biggest smartphone maker huawei head sales domestic business detained suspicion accepting bribes company said authorities investigating matter declined disclose details notably company founder president held vow taking ceremony january senior managers swore engage corruption \n",
      "실제 요약 : huawei china sales head detained corruption probe\n",
      "예측 요약 : whole lankan editing madrid denmark diesel chips mersal homework shaving place\n",
      "\n",
      "\n",
      "원문 : bharatiya janata party formed april former prime minister atal bihari vajpayee first party president earlier bharatiya jana sangh founded syama prasad mookerjee merged janata party however due internal differences janata party janata government collapsed bjp became separate party \n",
      "실제 요약 : bharatiya party formed\n"
     ]
    },
    {
     "name": "stdout",
     "output_type": "stream",
     "text": [
      "예측 요약 : lara truth richards demo cries refuse fm reduced poonawalla sacha affecting\n",
      "\n",
      "\n",
      "원문 : congress president rahul gandhi thursday said centre focus upa era defence deals instead finalising causing life risks indian air force pilots deal worked anil ambani benefit reduced aircraft made france added aircraft take years arrive india said \n",
      "실제 요약 : centre putting iaf pilots risk rahul gandhi\n",
      "예측 요약 : regulation activities strips buyer disease posed copy peacekeepers akram clown tortured\n",
      "\n",
      "\n",
      "원문 : russian air force begin training female military pilots first time since fall soviet union defence minister sergey said many young women want become military pilots cannot ignore requests added said first group female cadets begin training october \n",
      "실제 요약 : women train pilots russia st time since\n",
      "예측 요약 : meals mevani patriotism space prepares usain reality prepared th sting rubber\n",
      "\n",
      "\n",
      "원문 : actress renuka shahane took facebook pen tribute late reema lagoo also shared old pictures veteran actress clicked used share boxes make rooms protective wrote renuka post notably reema played renuka mother film hum aapke hain koun \n",
      "실제 요약 : renuka pens tribute shares old pics reema\n",
      "예측 요약 : mosque rest enters finds facebook democracy stepping put ii zte emission\n",
      "\n",
      "\n",
      "원문 : former aussie captain michael clarke said indian skipper virat kohli australian fight inside every australian player wants generally playing country said clarke earlier said utmost respect kohli latter attended hughes funeral \n",
      "실제 요약 : virat australian says michael clarke\n",
      "예측 요약 : krrish indore publishers lynch snakes treats amazing lips fi hr harassment\n",
      "\n",
      "\n",
      "원문 : rajasthan bjp lone muslim candidate khan said rajasthan congress chief sachin pilot pilot sevak sachin ji new place people new apart dream become mla chief minister dream added said assembly needs sevak pilot \n",
      "실제 요약 : sachin pilot raj bjp candidate\n",
      "예측 요약 : materials rest allies bra pe avg infant date sweat disney conor\n",
      "\n",
      "\n",
      "원문 : iraq parliament tuesday voted kurdish independence referendum held later month claiming affect war isis cause instability country vote required government take steps protect unity iraq open serious dialogue kurdish leaders lawmakers said \n",
      "실제 요약 : iraqi parliament rejects kurdish independence referendum\n",
      "예측 요약 : empty cruise alok magnetic rajnath localisation arts successive toes le lock\n",
      "\n",
      "\n",
      "원문 : officials china xinjiang region released list banned baby names includes muslim religious names like quran saddam mecca children names banned new legislation entitled household registration also deny facilities like government education healthcare notably around half chinese muslims live xinjiang \n",
      "실제 요약 : china bans muslim religious names babies\n",
      "예측 요약 : enemies uranium larger affecting becomes relevant acquire wozniak saaho taker breastfeeds\n",
      "\n",
      "\n",
      "원문 : supreme court refused delay hearing petitions challenging section criminalises homosexuality rejected centre plea requesting four weeks file reply matter sc said hearing commence july scheduled many individuals including lalit hotels owner keshav suri filed petitions challenging section \n",
      "실제 요약 : sc refuses delay section hearing rejects govt plea\n",
      "예측 요약 : shell amazing appoints wales experienced astronaut rgv rahat tries grofers bodyguard\n",
      "\n",
      "\n"
     ]
    }
   ],
   "source": [
    "for i in range(50, 100):\n",
    "    print(\"원문 :\", seq2text(encoder_input_test[i]))\n",
    "    print(\"실제 요약 :\", seq2summary(decoder_input_test[i]))\n",
    "    print(\"예측 요약 :\", decode_sequence(encoder_input_test[i].reshape(1, text_max_len)))\n",
    "    print(\"\\n\")"
   ]
  },
  {
   "cell_type": "markdown",
   "id": "28dbbdd8",
   "metadata": {},
   "source": [
    "예측 모델이 많이 나온 단어들을 반복합니다\n",
    "\n",
    "\n",
    "abhiyan abhiyan engagement engagement engagement engagement engagement engagement engagement engagement engagement\n",
    "\n",
    "dollar dollar dollar gods gods gods gods gods gods gods gods\n",
    "\n",
    "뭔가 잘못되었습니다.\n",
    "\n",
    "->\n",
    "\n",
    "temperature 값을 추가하여 같은 단어가 반복되는 문제 해결\n",
    "\n",
    "np.random.choice()를 사용하여 확률적으로 다양한 단어 선택 가능\n",
    "\n",
    "기존 np.argmax() 대신 확률 조정 적용\n",
    "\n",
    "도움을 받아 해결하였습니다. -> shell amazing appoints wales experienced astronaut rgv rahat tries grofers bodyguard\n",
    "\n",
    "\n"
   ]
  },
  {
   "cell_type": "markdown",
   "id": "11befd11",
   "metadata": {},
   "source": [
    "import random\n",
    "from summa.summarizer import summarize\n",
    "\n",
    "# 1️⃣ **랜덤한 샘플 선택 (원본 텍스트 사용)**\n",
    "sample_idx = random.randint(0, len(data) - 1)  # ✅ 전체 데이터에서 랜덤 선택\n",
    "sample_text = data['text'].iloc[sample_idx]   # ✅ 원본 텍스트 가져오기\n",
    "\n",
    "# 2️⃣ **Summa 요약 실행 (문장이 3개 이상인지 확인)**\n",
    "if len(sample_text.split('.')) < 3:  # ✅ Summa는 최소 3개 문장이 필요함\n",
    "    print(\"\\n⚠️ Summa 요약 실패: 문장이 3개 이상 필요합니다.\")\n",
    "    extractive_summary = \"Summa 요약 실패: 문장이 부족합니다.\"\n",
    "    extractive_summary_words = \"Summa 요약 실패: 문장이 부족합니다.\"\n",
    "else:\n",
    "    # 3️⃣ **Summa 추출적 요약 실행**\n",
    "    extractive_summary = summarize(sample_text, ratio=0.5)  # ✅ ratio를 0.5로 증가\n",
    "    extractive_summary_words = summarize(sample_text, words=30)  # ✅ 최소 30단어 보장\n",
    "\n",
    "    # 4️⃣ **Summa 요약이 실패한 경우 예외 처리**\n",
    "    if not extractive_summary.strip():\n",
    "        extractive_summary = \"Summa 요약 실패: 요약할 내용이 부족합니다.\"\n",
    "    \n",
    "    if not extractive_summary_words.strip():\n",
    "        extractive_summary_words = \"Summa 요약 실패: 요약할 내용이 부족합니다.\"\n",
    "\n",
    "# 5️⃣ **비교 결과 출력**\n",
    "print(\"\\n📌 **원문:**\")\n",
    "print(sample_text)\n",
    "\n",
    "print(\"\\n🔹 **추출적 요약 (Summa, ratio=0.5)**:\")\n",
    "print(extractive_summary)\n",
    "\n",
    "print(\"\\n🔹 **추출적 요약 (Summa, 30단어 제한)**:\")\n",
    "print(extractive_summary_words)\n",
    "\n",
    "\n",
    "\n"
   ]
  },
  {
   "cell_type": "markdown",
   "id": "411d0d61",
   "metadata": {},
   "source": [
    "# summa 요약이 되지않음\n",
    "\n",
    "summary가 되지 않는것으로 확인됩니다. 뭐가 문제일까요?\n",
    "\n",
    "원문을 봤을 때 음.... 구두점이 없어서 그런거 일까요.\n",
    "\n",
    "encoder_inputdata를 써서 이미 토큰화가 된것이라서 하지 못하는것으로 가설을 세웠습니다.\n",
    "\n",
    "-> 원본 데이터쓰기 -> 그런데도 안되어서 음... 메트릭스 텍스트로 다시해보겠습니다.\n"
   ]
  },
  {
   "cell_type": "code",
   "execution_count": 76,
   "id": "cdec28cb",
   "metadata": {
    "scrolled": false
   },
   "outputs": [
    {
     "name": "stdout",
     "output_type": "stream",
     "text": [
      "\n",
      " **[1] 원문:**\n",
      "Saurav Kant, an alumnus of upGrad and IIIT-B's PG Program in Machine learning and Artificial Intelligence, was a Sr Systems Engineer at Infosys with almost 5 years of work experience. The program and upGrad's 360-degree career support helped him transition to a Data Scientist at Tech Mahindra with 90% salary hike. upGrad's Online Power Learning has powered 3 lakh+ careers.\n",
      "\n",
      " **실제 요약 (headlines):**\n",
      "upGrad learner switches to career in ML & Al with 90% salary hike\n",
      "\n",
      " Summa 추출적 요약:**\n",
      "upGrad's Online Power Learning has powered 3 lakh+ careers.\n",
      "\n",
      " Seq2Seq 추상적 요약:**\n",
      "shane reaction imitating israel external total nearby rises lit sugar oppose\n",
      "====================================================================================================\n",
      "\n",
      " **[2] 원문:**\n",
      "Kunal Shah's credit card bill payment platform, CRED, gave users a chance to win free food from Swiggy for one year. Pranav Kaushik, a Delhi techie, bagged this reward after spending 2000 CRED coins. Users get one CRED coin per rupee of bill paid, which can be used to avail rewards from brands like Ixigo, BookMyShow, UberEats, Cult.Fit and more.\n",
      "\n",
      " **실제 요약 (headlines):**\n",
      "Delhi techie wins free food from Swiggy for one year on CRED\n",
      "\n",
      " Summa 추출적 요약:**\n",
      "Users get one CRED coin per rupee of bill paid, which can be used to avail rewards from brands like Ixigo, BookMyShow, UberEats, Cult.Fit and more.\n",
      "\n",
      " Seq2Seq 추상적 요약:**\n",
      "transit cracker innovation cartoonist chaiwala surrender website memes fb criticised coca\n",
      "====================================================================================================\n",
      "\n",
      " **[3] 원문:**\n",
      "New Zealand defeated India by 8 wickets in the fourth ODI at Hamilton on Thursday to win their first match of the five-match ODI series. India lost an international match under Rohit Sharma's captaincy after 12 consecutive victories dating back to March 2018. The match witnessed India getting all out for 92, their seventh lowest total in ODI cricket history.\n",
      "\n",
      " **실제 요약 (headlines):**\n",
      "New Zealand end Rohit Sharma-led India's 12-match winning streak\n",
      "\n",
      " Summa 추출적 요약:**\n",
      "The match witnessed India getting all out for 92, their seventh lowest total in ODI cricket history.\n",
      "\n",
      " Seq2Seq 추상적 요약:**\n",
      "meal unidentified constitution biscuits kim dangal crack watchdog burglar stokes wears\n",
      "====================================================================================================\n",
      "\n",
      " **[4] 원문:**\n",
      "With Aegon Life iTerm Insurance plan, customers can enjoy tax benefits on your premiums paid and save up to Ã¢ÂÂ¹46,800^ on taxes. The plan provides life cover up to the age of 100 years. Also, customers have options to insure against Critical Illnesses, Disability and Accidental Death Benefit Rider with a life cover up to the age of 80 years.\n",
      "\n",
      " **실제 요약 (headlines):**\n",
      "Aegon life iTerm insurance plan helps customers save tax\n",
      "\n",
      " Summa 추출적 요약:**\n",
      "Also, customers have options to insure against Critical Illnesses, Disability and Accidental Death Benefit Rider with a life cover up to the age of 80 years.\n",
      "\n",
      " Seq2Seq 추상적 요약:**\n",
      "indoor pushing signal haseena blast power moral planetary chips meryl figures\n",
      "====================================================================================================\n",
      "\n",
      " **[5] 원문:**\n",
      "Speaking about the sexual harassment allegations against Rajkumar Hirani, Sonam Kapoor said, \"I've known Hirani for many years...What if it's not true, the [#MeToo] movement will get derailed.\" \"In the #MeToo movement, I always believe a woman. But in this case, we need to reserve our judgment,\" she added. Hirani has been accused by an assistant who worked in 'Sanju'.\n",
      "\n",
      " **실제 요약 (headlines):**\n",
      "Have known Hirani for yrs, what if MeToo claims are not true: Sonam\n",
      "\n",
      " Summa 추출적 요약:**\n",
      "Speaking about the sexual harassment allegations against Rajkumar Hirani, Sonam Kapoor said, \"I've known Hirani for many years...What if it's not true, the [#MeToo] movement will get derailed.\" \"In the #MeToo movement, I always believe a woman.\n",
      "\n",
      " Seq2Seq 추상적 요약:**\n",
      "inch defeated die types proven catering maine concern detainees mandatory ncp\n",
      "====================================================================================================\n",
      "\n",
      " **[6] 원문:**\n",
      "Pakistani singer Rahat Fateh Ali Khan has denied receiving any notice from the Enforcement Directorate over allegedly smuggling foreign currency out of India. \"It would have been better if the authorities would have served the notice first if any and then publicised this,\" reads a press release issued on behalf of Rahat. The statement further called the allegation \"bizarre\".\n",
      "\n",
      " **실제 요약 (headlines):**\n",
      "Rahat Fateh Ali Khan denies getting notice for smuggling currency\n",
      "\n",
      " Summa 추출적 요약:**\n",
      "Pakistani singer Rahat Fateh Ali Khan has denied receiving any notice from the Enforcement Directorate over allegedly smuggling foreign currency out of India.\n",
      "\n",
      " Seq2Seq 추상적 요약:**\n",
      "hacker shops trolled arvind pardons pt mujahideen nandan excuses photos command\n",
      "====================================================================================================\n",
      "\n",
      " **[7] 원문:**\n",
      "India recorded their lowest ODI total in New Zealand after getting all out for 92 runs in 30.5 overs in the fourth ODI at Hamilton on Thursday. Seven of India's batsmen were dismissed for single-digit scores, while their number ten batsman Yuzvendra Chahal top-scored with 18*(37). India's previous lowest ODI total in New Zealand was 108.\n",
      "\n",
      " **실제 요약 (headlines):**\n",
      "India get all out for 92, their lowest ODI total in New Zealand\n",
      "\n",
      " Summa 추출적 요약:**\n",
      "India's previous lowest ODI total in New Zealand was 108.\n",
      "\n",
      " Seq2Seq 추상적 요약:**\n",
      "slapping submits blame photos joined ashwin medium operations images poster providing\n",
      "====================================================================================================\n",
      "\n",
      " **[8] 원문:**\n",
      "Weeks after ex-CBI Director Alok Verma told the Department of Personnel and Training to consider him retired, the Home Ministry asked him to join work on the last day of his fixed tenure as Director on Thursday. The ministry directed him to immediately join as DG, Fire Services, the post he was transferred to after his removal as CBI chief.\n",
      "\n",
      " **실제 요약 (headlines):**\n",
      "Govt directs Alok Verma to join work 1 day before his retirement\n",
      "\n",
      " Summa 추출적 요약:**\n",
      "Summa 요약 실패: 요약할 내용이 부족합니다.\n",
      "\n",
      " Seq2Seq 추상적 요약:**\n",
      "recipient univ embarrassing opened kalpana uber route subscribers ben performs exchange\n",
      "====================================================================================================\n",
      "\n",
      " **[9] 원문:**\n",
      "Andhra Pradesh CM N Chandrababu Naidu has said, \"When I met then US President Bill Clinton, I addressed him as Mr Clinton, not as 'sir'. (PM Narendra) Modi is my junior in politics...I addressed him as sir 10 times.\" \"I did this...to satisfy his ego in the hope that he will do justice to the state,\" he added.\n",
      "\n",
      " **실제 요약 (headlines):**\n",
      "Called PM Modi 'sir' 10 times to satisfy his ego: Andhra CM\n",
      "\n",
      " Summa 추출적 요약:**\n",
      "Summa 요약 실패: 요약할 내용이 부족합니다.\n",
      "\n",
      " Seq2Seq 추상적 요약:**\n",
      "brics amrita introduces teenager builder sailor greets great thousands dead pay\n",
      "====================================================================================================\n",
      "\n",
      " **[10] 원문:**\n",
      "Congress candidate Shafia Zubair won the Ramgarh Assembly seat in Rajasthan, by defeating BJP's Sukhwant Singh with a margin of 12,228 votes in the bypoll. With this victory, Congress has taken its total to 100 seats in the 200-member assembly. The election to the Ramgarh seat was delayed due to the death of sitting MLA and BSP candidate Laxman Singh.\n",
      "\n",
      " **실제 요약 (headlines):**\n",
      "Cong wins Ramgarh bypoll in Rajasthan, takes total to 100 seats\n",
      "\n",
      " Summa 추출적 요약:**\n",
      "Congress candidate Shafia Zubair won the Ramgarh Assembly seat in Rajasthan, by defeating BJP's Sukhwant Singh with a margin of 12,228 votes in the bypoll.\n",
      "\n",
      " Seq2Seq 추상적 요약:**\n",
      "laser mtv mourning unwanted suit patidar executed obscene wickets standards marketplace\n",
      "====================================================================================================\n"
     ]
    }
   ],
   "source": [
    "urllib.request.urlretrieve(\"https://raw.githubusercontent.com/sunnysai12345/News_Summary/master/news_summary_more.csv\", filename=\"news_summary_more.csv\")\n",
    "data = pd.read_csv('news_summary_more.csv', encoding='iso-8859-1')\n",
    "\n",
    "import urllib.request\n",
    "import pandas as pd\n",
    "from summa.summarizer import summarize\n",
    "import numpy as np\n",
    "\n",
    "\n",
    "for idx, (head, text) in enumerate(zip(data['headlines'], data['text'])):\n",
    "    if idx == 10:\n",
    "        break  # 상위 10개만 출력\n",
    "\n",
    "    # Summ\n",
    "    text_length = len(text.split())  # 원문 단어 수 계산\n",
    "    ratio = min(0.4, 20 / text_length)  # 원문이 짧으면 ratio 자동 조정\n",
    "    summa_summary = summarize(text, ratio=ratio)  # Summa 요약 수행\n",
    "\n",
    "    if not summa_summary.strip():\n",
    "        summa_summary = \"Summa 요약 실패: 요약할 내용이 부족합니다.\"\n",
    "\n",
    "    try:\n",
    "        input_seq = np.array([encoder_input_test[idx]], dtype=np.float32)  \n",
    "        abstractive_summary = decode_sequence(input_seq)  # 네 모델의 요약 실행\n",
    "    except:\n",
    "        abstractive_summary = \"Seq2Seq 요약 실패: 입력 처리 오류 발생.\"\n",
    "\n",
    "    # \n",
    "    print(\"\\n **[{}] 원문:**\".format(idx + 1))\n",
    "    print(text)\n",
    "\n",
    "    print(\"\\n **실제 요약 (headlines):**\")\n",
    "    print(head)\n",
    "\n",
    "    print(\"\\n Summa 추출적 요약:**\")\n",
    "    print(summa_summary)\n",
    "\n",
    "    print(\"\\n Seq2Seq 추상적 요약:**\")\n",
    "    print(abstractive_summary)\n",
    "\n",
    "    print(\"=\" * 100)  # 구분선 추가\n",
    "\n",
    "\n",
    "\n"
   ]
  },
  {
   "cell_type": "markdown",
   "id": "3f585175",
   "metadata": {},
   "source": [
    "비교해봤을 때 실제요약에 비해서 둘다 많이 부족함을 느끼는것 같습니다 ....\n",
    "\n",
    "1. 첫째로 전처리 부분에서도 뭔가 부족한것 같습니다.\n",
    "2. 아직 제가 모델이 이것들을 어떻게 받아들이는지 이해하지 못하는 것 같습니다.\n",
    "\n",
    "복습하면서 더 공부해야할 것 같습니다."
   ]
  },
  {
   "cell_type": "markdown",
   "id": "3bd89ff9",
   "metadata": {},
   "source": [
    "# 회고록\n",
    "\n",
    "model학습하는데 시간이 너무 걸려서... 뭔가 꼬인거 같은데 뭔지 모르겠습니다\n",
    "앞으로 로컬에서 해보도록 하겠습니다... \n",
    "\n",
    "실수로 shift+enter를 눌렀는데 다시 하니까 오류가 나는 경우도 있어서 아마 꼬인것 같습니다.\n",
    "\n",
    "알고보니 커널이 연결되지 않았던 것 같습니다! ㅜㅜ\n",
    "\n",
    "공부하는데 이해되지 않은 부분이 좀 있어서 다시 공부하며 추가해야할 것 같습니다.\n"
   ]
  },
  {
   "cell_type": "code",
   "execution_count": null,
   "id": "1a48ba1a",
   "metadata": {},
   "outputs": [],
   "source": []
  }
 ],
 "metadata": {
  "kernelspec": {
   "display_name": "Python 3 (ipykernel)",
   "language": "python",
   "name": "python3"
  },
  "language_info": {
   "codemirror_mode": {
    "name": "ipython",
    "version": 3
   },
   "file_extension": ".py",
   "mimetype": "text/x-python",
   "name": "python",
   "nbconvert_exporter": "python",
   "pygments_lexer": "ipython3",
   "version": "3.9.7"
  }
 },
 "nbformat": 4,
 "nbformat_minor": 5
}
