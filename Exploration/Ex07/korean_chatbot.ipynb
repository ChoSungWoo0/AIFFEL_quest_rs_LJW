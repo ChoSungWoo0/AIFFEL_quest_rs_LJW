{
 "cells": [
  {
   "cell_type": "markdown",
   "id": "befdfd5f",
   "metadata": {},
   "source": [
    "# 진행\n",
    "\n",
    "Step 1. 데이터 수집하기\n",
    "한국어 챗봇 데이터는 송영숙님이 공개한 챗봇 데이터를 사용합니다.\n",
    "\n",
    "이 데이터는 아래의 링크에서 다운로드할 수 있습니다.\n",
    "\n",
    "songys/Chatbot_data\n",
    "Cloud shell에서 아래 명령어를 입력해 주세요.\n",
    "\n",
    "$ mkdir -p ~/aiffel/transformer_chatbot/data/\n",
    "$ ln -s ~/data/* ~/aiffel/transformer_chatbot/data/\n",
    "\n",
    "Step 2. 데이터 전처리하기\n",
    "영어 데이터와는 전혀 다른 데이터인 만큼 영어 데이터에 사용했던 전처리와 일부 동일한 전처리도 필요하겠지만 전체적으로는 다른 전처리를 수행해야 할 수도 있습니다.\n",
    "\n",
    "Step 3. SubwordTextEncoder 사용하기\n",
    "한국어 데이터는 형태소 분석기를 사용하여 토크나이징을 해야 한다고 많은 분이 알고 있습니다. 하지만 여기서는 형태소 분석기가 아닌 위 실습에서 사용했던 내부 단어 토크나이저인 SubwordTextEncoder를 그대로 사용해보세요.\n",
    "\n",
    "Step 4. 모델 구성하기\n",
    "위 실습 내용을 참고하여 트랜스포머 모델을 구현합니다.\n",
    "\n",
    "Step 5. 모델 평가하기\n",
    "Step 1에서 선택한 전처리 방법을 고려하여 입력된 문장에 대해서 대답을 얻는 예측 함수를 만듭니다.\n",
    "\n",
    "\n",
    "# 평가 \n",
    "\n",
    "1. 한국어 전처리를 통해 학습 데이터셋을 구축하였다.\t공백과 특수문자 처리, 토크나이징, 병렬데이터 구축의 과정이 적절히 진행되었다.\n",
    "\n",
    "\n",
    "2. 트랜스포머 모델을 구현하여 한국어 챗봇 모델 학습을 정상적으로 진행하였다. 구현한 트랜스포머 모델이 한국어 병렬 데이터 학습 시 안정적으로 수렴하였다.\n",
    "\n",
    "\n",
    "3. 한국어 입력문장에 대해 한국어로 답변하는 함수를 구현하였다. 한국어 입력문장에 맥락에 맞는 한국어로 답변을 리턴하였다.\n"
   ]
  },
  {
   "cell_type": "code",
   "execution_count": 1,
   "id": "c4007f4e",
   "metadata": {},
   "outputs": [],
   "source": [
    "import tensorflow as tf\n",
    "import tensorflow_datasets as tfds\n",
    "import os\n",
    "import re\n",
    "import numpy as np\n",
    "import matplotlib.pyplot as plt"
   ]
  },
  {
   "cell_type": "code",
   "execution_count": 2,
   "id": "298d9b0e",
   "metadata": {},
   "outputs": [],
   "source": [
    "# 포지셔널 인코딩 레이어\n",
    "class PositionalEncoding(tf.keras.layers.Layer):\n",
    "\n",
    "  def __init__(self, position, d_model):\n",
    "    super(PositionalEncoding, self).__init__()\n",
    "    self.pos_encoding = self.positional_encoding(position, d_model)\n",
    "\n",
    "  def get_angles(self, position, i, d_model):\n",
    "    angles = 1 / tf.pow(10000, (2 * (i // 2)) / tf.cast(d_model, tf.float32))\n",
    "    return position * angles\n",
    "\n",
    "  def positional_encoding(self, position, d_model):\n",
    "    # 각도 배열 생성\n",
    "    angle_rads = self.get_angles(\n",
    "        position=tf.range(position, dtype=tf.float32)[:, tf.newaxis],\n",
    "        i=tf.range(d_model, dtype=tf.float32)[tf.newaxis, :],\n",
    "        d_model=d_model)\n",
    "\n",
    "    # 배열의 짝수 인덱스에는 sin 함수 적용\n",
    "    sines = tf.math.sin(angle_rads[:, 0::2])\n",
    "    # 배열의 홀수 인덱스에는 cosine 함수 적용\n",
    "    cosines = tf.math.cos(angle_rads[:, 1::2])\n",
    "\n",
    "    # sin과 cosine이 교차되도록 재배열\n",
    "    pos_encoding = tf.stack([sines, cosines], axis=0)\n",
    "    pos_encoding = tf.transpose(pos_encoding,[1, 2, 0]) \n",
    "    pos_encoding = tf.reshape(pos_encoding, [position, d_model])\n",
    "\n",
    "    pos_encoding = pos_encoding[tf.newaxis, ...]\n",
    "    return tf.cast(pos_encoding, tf.float32)\n",
    "\n",
    "  def call(self, inputs):\n",
    "    return inputs + self.pos_encoding[:, :tf.shape(inputs)[1], :]\n"
   ]
  },
  {
   "cell_type": "code",
   "execution_count": 3,
   "id": "d3b5dc8c",
   "metadata": {},
   "outputs": [],
   "source": [
    "# 스케일드 닷 프로덕트 어텐션 함수\n",
    "def scaled_dot_product_attention(query, key, value, mask):\n",
    "  # 어텐션 가중치는 Q와 K의 닷 프로덕트\n",
    "  matmul_qk = tf.matmul(query, key, transpose_b=True)\n",
    "\n",
    "  # 가중치를 정규화\n",
    "  depth = tf.cast(tf.shape(key)[-1], tf.float32)\n",
    "  logits = matmul_qk / tf.math.sqrt(depth)\n",
    "\n",
    "  # 패딩에 마스크 추가\n",
    "  if mask is not None:\n",
    "    logits += (mask * -1e9)\n",
    "\n",
    "  # softmax적용\n",
    "  attention_weights = tf.nn.softmax(logits, axis=-1)\n",
    "\n",
    "  # 최종 어텐션은 가중치와 V의 닷 프로덕트\n",
    "  output = tf.matmul(attention_weights, value)\n",
    "  return output\n"
   ]
  },
  {
   "cell_type": "code",
   "execution_count": 4,
   "id": "e40322c6",
   "metadata": {},
   "outputs": [],
   "source": [
    "class MultiHeadAttention(tf.keras.layers.Layer):\n",
    "\n",
    "  def __init__(self, d_model, num_heads, name=\"multi_head_attention\"):\n",
    "    super(MultiHeadAttention, self).__init__(name=name)\n",
    "    self.num_heads = num_heads\n",
    "    self.d_model = d_model\n",
    "\n",
    "    assert d_model % self.num_heads == 0\n",
    "\n",
    "    self.depth = d_model // self.num_heads\n",
    "\n",
    "    self.query_dense = tf.keras.layers.Dense(units=d_model)\n",
    "    self.key_dense = tf.keras.layers.Dense(units=d_model)\n",
    "    self.value_dense = tf.keras.layers.Dense(units=d_model)\n",
    "\n",
    "    self.dense = tf.keras.layers.Dense(units=d_model)\n",
    "\n",
    "  def split_heads(self, inputs, batch_size):\n",
    "    inputs = tf.reshape(\n",
    "        inputs, shape=(batch_size, -1, self.num_heads, self.depth))\n",
    "    return tf.transpose(inputs, perm=[0, 2, 1, 3])\n",
    "\n",
    "  def call(self, inputs):\n",
    "    query, key, value, mask = inputs['query'], inputs['key'], inputs[\n",
    "        'value'], inputs['mask']\n",
    "    batch_size = tf.shape(query)[0]\n",
    "\n",
    "    # Q, K, V에 각각 Dense를 적용합니다\n",
    "    query = self.query_dense(query)\n",
    "    key = self.key_dense(key)\n",
    "    value = self.value_dense(value)\n",
    "\n",
    "    # 병렬 연산을 위한 머리를 여러 개 만듭니다\n",
    "    query = self.split_heads(query, batch_size)\n",
    "    key = self.split_heads(key, batch_size)\n",
    "    value = self.split_heads(value, batch_size)\n",
    "\n",
    "    # 스케일드 닷 프로덕트 어텐션 함수\n",
    "    scaled_attention = scaled_dot_product_attention(query, key, value, mask)\n",
    "\n",
    "    scaled_attention = tf.transpose(scaled_attention, perm=[0, 2, 1, 3])\n",
    "\n",
    "    # 어텐션 연산 후에 각 결과를 다시 연결(concatenate)합니다\n",
    "    concat_attention = tf.reshape(scaled_attention,\n",
    "                                  (batch_size, -1, self.d_model))\n",
    "\n",
    "    # 최종 결과에도 Dense를 한 번 더 적용합니다\n",
    "    outputs = self.dense(concat_attention)\n",
    "\n",
    "    return outputs"
   ]
  },
  {
   "cell_type": "code",
   "execution_count": 5,
   "id": "67b9b3d1",
   "metadata": {},
   "outputs": [],
   "source": [
    "def create_padding_mask(x):\n",
    "  mask = tf.cast(tf.math.equal(x, 0), tf.float32)\n",
    "  # (batch_size, 1, 1, sequence length)\n",
    "  return mask[:, tf.newaxis, tf.newaxis, :]"
   ]
  },
  {
   "cell_type": "code",
   "execution_count": 6,
   "id": "d4265e7f",
   "metadata": {},
   "outputs": [],
   "source": [
    "def create_look_ahead_mask(x):\n",
    "  seq_len = tf.shape(x)[1]\n",
    "  look_ahead_mask = 1 - tf.linalg.band_part(tf.ones((seq_len, seq_len)), -1, 0)\n",
    "  padding_mask = create_padding_mask(x)\n",
    "  return tf.maximum(look_ahead_mask, padding_mask)"
   ]
  },
  {
   "cell_type": "code",
   "execution_count": 7,
   "id": "58d67d6e",
   "metadata": {},
   "outputs": [],
   "source": [
    "# 인코더 하나의 레이어를 함수로 구현.\n",
    "# 이 하나의 레이어 안에는 두 개의 서브 레이어가 존재합니다.\n",
    "def encoder_layer(units, d_model, num_heads, dropout, name=\"encoder_layer\"):\n",
    "  inputs = tf.keras.Input(shape=(None, d_model), name=\"inputs\")\n",
    "\n",
    "  # 패딩 마스크 사용\n",
    "  padding_mask = tf.keras.Input(shape=(1, 1, None), name=\"padding_mask\")\n",
    "\n",
    "  # 첫 번째 서브 레이어 : 멀티 헤드 어텐션 수행 (셀프 어텐션)\n",
    "  attention = MultiHeadAttention(\n",
    "      d_model, num_heads, name=\"attention\")({\n",
    "          'query': inputs,\n",
    "          'key': inputs,\n",
    "          'value': inputs,\n",
    "          'mask': padding_mask\n",
    "      })\n",
    "\n",
    "  # 어텐션의 결과는 Dropout과 Layer Normalization이라는 훈련을 돕는 테크닉을 수행\n",
    "  attention = tf.keras.layers.Dropout(rate=dropout)(attention)\n",
    "  attention = tf.keras.layers.LayerNormalization(\n",
    "      epsilon=1e-6)(inputs + attention)\n",
    "\n",
    "  # 두 번째 서브 레이어 : 2개의 완전연결층\n",
    "  outputs = tf.keras.layers.Dense(units=units, activation='relu')(attention)\n",
    "  outputs = tf.keras.layers.Dense(units=d_model)(outputs)\n",
    "\n",
    "  # 완전연결층의 결과는 Dropout과 LayerNormalization이라는 훈련을 돕는 테크닉을 수행\n",
    "  outputs = tf.keras.layers.Dropout(rate=dropout)(outputs)\n",
    "  outputs = tf.keras.layers.LayerNormalization(\n",
    "      epsilon=1e-6)(attention + outputs)\n",
    "\n",
    "  return tf.keras.Model(\n",
    "      inputs=[inputs, padding_mask], outputs=outputs, name=name)"
   ]
  },
  {
   "cell_type": "code",
   "execution_count": 8,
   "id": "ba1969db",
   "metadata": {},
   "outputs": [],
   "source": [
    "def encoder(vocab_size,\n",
    "            num_layers,\n",
    "            units,\n",
    "            d_model,\n",
    "            num_heads,\n",
    "            dropout,\n",
    "            name=\"encoder\"):\n",
    "  inputs = tf.keras.Input(shape=(None,), name=\"inputs\")\n",
    "\n",
    "  # 패딩 마스크 사용\n",
    "  padding_mask = tf.keras.Input(shape=(1, 1, None), name=\"padding_mask\")\n",
    "\n",
    "  # 임베딩 레이어\n",
    "  embeddings = tf.keras.layers.Embedding(vocab_size, d_model)(inputs)\n",
    "  embeddings *= tf.math.sqrt(tf.cast(d_model, tf.float32))\n",
    "\n",
    "  # 포지셔널 인코딩\n",
    "  embeddings = PositionalEncoding(vocab_size, d_model)(embeddings)\n",
    "\n",
    "  outputs = tf.keras.layers.Dropout(rate=dropout)(embeddings)\n",
    "\n",
    "  # num_layers만큼 쌓아올린 인코더의 층.\n",
    "  for i in range(num_layers):\n",
    "    outputs = encoder_layer(\n",
    "        units=units,\n",
    "        d_model=d_model,\n",
    "        num_heads=num_heads,\n",
    "        dropout=dropout,\n",
    "        name=\"encoder_layer_{}\".format(i),\n",
    "    )([outputs, padding_mask])\n",
    "\n",
    "  return tf.keras.Model(\n",
    "      inputs=[inputs, padding_mask], outputs=outputs, name=name)"
   ]
  },
  {
   "cell_type": "code",
   "execution_count": 9,
   "id": "d1b9f9cb",
   "metadata": {},
   "outputs": [],
   "source": [
    "# 디코더 하나의 레이어를 함수로 구현.\n",
    "# 이 하나의 레이어 안에는 세 개의 서브 레이어가 존재합니다.\n",
    "def decoder_layer(units, d_model, num_heads, dropout, name=\"decoder_layer\"):\n",
    "  inputs = tf.keras.Input(shape=(None, d_model), name=\"inputs\")\n",
    "  enc_outputs = tf.keras.Input(shape=(None, d_model), name=\"encoder_outputs\")\n",
    "  look_ahead_mask = tf.keras.Input(\n",
    "      shape=(1, None, None), name=\"look_ahead_mask\")\n",
    "  padding_mask = tf.keras.Input(shape=(1, 1, None), name='padding_mask')\n",
    "\n",
    "  # 첫 번째 서브 레이어 : 멀티 헤드 어텐션 수행 (셀프 어텐션)\n",
    "  attention1 = MultiHeadAttention(\n",
    "      d_model, num_heads, name=\"attention_1\")(inputs={\n",
    "          'query': inputs,\n",
    "          'key': inputs,\n",
    "          'value': inputs,\n",
    "          'mask': look_ahead_mask\n",
    "      })\n",
    "\n",
    "  # 멀티 헤드 어텐션의 결과는 LayerNormalization이라는 훈련을 돕는 테크닉을 수행\n",
    "  attention1 = tf.keras.layers.LayerNormalization(\n",
    "      epsilon=1e-6)(attention1 + inputs)\n",
    "\n",
    "  # 두 번째 서브 레이어 : 마스크드 멀티 헤드 어텐션 수행 (인코더-디코더 어텐션)\n",
    "  attention2 = MultiHeadAttention(\n",
    "      d_model, num_heads, name=\"attention_2\")(inputs={\n",
    "          'query': attention1,\n",
    "          'key': enc_outputs,\n",
    "          'value': enc_outputs,\n",
    "          'mask': padding_mask\n",
    "      })\n",
    "\n",
    "  # 마스크드 멀티 헤드 어텐션의 결과는\n",
    "  # Dropout과 LayerNormalization이라는 훈련을 돕는 테크닉을 수행\n",
    "  attention2 = tf.keras.layers.Dropout(rate=dropout)(attention2)\n",
    "  attention2 = tf.keras.layers.LayerNormalization(\n",
    "      epsilon=1e-6)(attention2 + attention1)\n",
    "\n",
    "  # 세 번째 서브 레이어 : 2개의 완전연결층\n",
    "  outputs = tf.keras.layers.Dense(units=units, activation='relu')(attention2)\n",
    "  outputs = tf.keras.layers.Dense(units=d_model)(outputs)\n",
    "\n",
    "  # 완전연결층의 결과는 Dropout과 LayerNormalization 수행\n",
    "  outputs = tf.keras.layers.Dropout(rate=dropout)(outputs)\n",
    "  outputs = tf.keras.layers.LayerNormalization(\n",
    "      epsilon=1e-6)(outputs + attention2)\n",
    "\n",
    "  return tf.keras.Model(\n",
    "      inputs=[inputs, enc_outputs, look_ahead_mask, padding_mask],\n",
    "      outputs=outputs,\n",
    "      name=name)"
   ]
  },
  {
   "cell_type": "code",
   "execution_count": 10,
   "id": "17d9356f",
   "metadata": {},
   "outputs": [],
   "source": [
    "def decoder(vocab_size,\n",
    "            num_layers,\n",
    "            units,\n",
    "            d_model,\n",
    "            num_heads,\n",
    "            dropout,\n",
    "            name='decoder'):\n",
    "  inputs = tf.keras.Input(shape=(None,), name='inputs')\n",
    "  enc_outputs = tf.keras.Input(shape=(None, d_model), name='encoder_outputs')\n",
    "  look_ahead_mask = tf.keras.Input(\n",
    "      shape=(1, None, None), name='look_ahead_mask')\n",
    "\n",
    "  # 패딩 마스크\n",
    "  padding_mask = tf.keras.Input(shape=(1, 1, None), name='padding_mask')\n",
    "  \n",
    "  # 임베딩 레이어\n",
    "  embeddings = tf.keras.layers.Embedding(vocab_size, d_model)(inputs)\n",
    "  embeddings *= tf.math.sqrt(tf.cast(d_model, tf.float32))\n",
    "\n",
    "  # 포지셔널 인코딩\n",
    "  embeddings = PositionalEncoding(vocab_size, d_model)(embeddings)\n",
    "\n",
    "  # Dropout이라는 훈련을 돕는 테크닉을 수행\n",
    "  outputs = tf.keras.layers.Dropout(rate=dropout)(embeddings)\n",
    "\n",
    "  for i in range(num_layers):\n",
    "    outputs = decoder_layer(\n",
    "        units=units,\n",
    "        d_model=d_model,\n",
    "        num_heads=num_heads,\n",
    "        dropout=dropout,\n",
    "        name='decoder_layer_{}'.format(i),\n",
    "    )(inputs=[outputs, enc_outputs, look_ahead_mask, padding_mask])\n",
    "\n",
    "  return tf.keras.Model(\n",
    "      inputs=[inputs, enc_outputs, look_ahead_mask, padding_mask],\n",
    "      outputs=outputs,\n",
    "      name=name)"
   ]
  },
  {
   "cell_type": "markdown",
   "id": "33cb83c0",
   "metadata": {},
   "source": [
    "# Step 2. 데이터 전처리하기\n",
    "## 영어 데이터와는 전혀 다른 데이터인 만큼 영어 데이터에 사용했던 전처리와 일부 동일한 전처리도 필요하겠지만 전체적으로는 다른 전처리를 수행해야 할 수도 있습니다.\n"
   ]
  },
  {
   "cell_type": "markdown",
   "id": "a4fb6afd",
   "metadata": {},
   "source": [
    "lower() -> 소문자가 없으니 제거"
   ]
  },
  {
   "cell_type": "code",
   "execution_count": 11,
   "id": "cdfc5ff4",
   "metadata": {},
   "outputs": [],
   "source": [
    "def preprocess_sentence(sentence):\n",
    "    # 양쪽 공백 제거\n",
    "    sentence = sentence.strip()\n",
    "\n",
    "    # 쉼표가 숫자 사이에 있을 경우 유지 \n",
    "    sentence = re.sub(r\"(?<=\\d),(?=\\d)\", \"\", sentence)  \n",
    "\n",
    "    # 구두점과 단어 사이에 공백 추가 (한글 조사는 분리되지 않도록 함)\n",
    "    sentence = re.sub(r\"([?.!,])(?=[^\\s])\", r\" \\1\", sentence)\n",
    "    \n",
    "    # 따옴표 제거\n",
    "    sentence = re.sub(r\"['\\\"“”‘’]\", \"\", sentence)  \n",
    "\n",
    "    # 연속된 공백 하나로 변경\n",
    "    sentence = re.sub(r\"\\s+\", \" \", sentence)  \n",
    "\n",
    "    # 한글(ㄱ-ㅎ, 가-힣, ㅏ-ㅣ) + 영어(a-z, A-Z) + 숫자(0-9) +  .,! 기본 구두점만 남기기 + ㅎㅎ, ㅋㅋ, ㅜㅜ, ㅠㅠ 같은건 쓰고싶어요\n",
    "    sentence = re.sub(r\"[^가-힣a-zA-Z0-9?.!,ㅜㅠㅎㅋ]+\", \" \", sentence)  \n",
    "    sentence = sentence.strip()\n",
    "\n",
    "    return sentence"
   ]
  },
  {
   "cell_type": "code",
   "execution_count": 12,
   "id": "a6096f07",
   "metadata": {
    "scrolled": true
   },
   "outputs": [
    {
     "name": "stdout",
     "output_type": "stream",
     "text": [
      "안녕하세요! 만나서 반갑습니다.\n",
      "이 문장은 테스트용 입니다 !! ㅎㅎ\n",
      "한글과 English를 같이 사용할 수도 있어요!\n",
      "가격은 1000원입니다. 할인은 없어요?\n"
     ]
    }
   ],
   "source": [
    "test_sentences = [\n",
    "    \"안녕하세요! 만나서 반갑습니다.\",\n",
    "    \"이 문장은 (테스트용) 입니다!! ㅎㅎ\",\n",
    "    \"한글과 English를 같이 사용할 수도 있어요!\",\n",
    "    \"가격은 1,000원입니다. 할인은 없어요?\"\n",
    "]\n",
    "\n",
    "for sentence in test_sentences:\n",
    "    print(preprocess_sentence(sentence))"
   ]
  },
  {
   "cell_type": "markdown",
   "id": "e75a05b8",
   "metadata": {},
   "source": [
    "# 수정\n",
    "\n",
    "안녕하세요 ! 만나서 반갑습니다 .\n",
    "이 문장은 테스트용 입니다 ! ! ㅎㅎ\n",
    "한글과 English를 같이 사용할 수도 있어요 !\n",
    "가격은 1 , 000원입니다 . 할인은 없어요 ?\n",
    "\n",
    "챗봇 같은 경우에는 자연스러운 것을 위해서 ㅎㅎ 같은것을 해도 좋을 것 같아서 삭제하지는 않기로 하였습니다.\n",
    "! 같은 것에서 또 , 에서 뛰어쓰기가 되는 점을 수정하였습니다.\n"
   ]
  },
  {
   "cell_type": "markdown",
   "id": "af42255a",
   "metadata": {},
   "source": [
    "# Step 3. SubwordTextEncoder 사용하기\n",
    "## 한국어 데이터는 형태소 분석기를 사용하여 토크나이징을 해야 한다고 많은 분이 알고 있습니다.\n",
    "## 하지만 여기서는 형태소 분석기가 아닌 위 실습에서 사용했던 내부 단어 토크나이저인 SubwordTextEncoder를 그대로 사용해보세요."
   ]
  },
  {
   "cell_type": "code",
   "execution_count": 13,
   "id": "5efd43a6",
   "metadata": {},
   "outputs": [],
   "source": [
    "import os\n",
    "\n",
    "# 홈 디렉터리를 기준으로 경로 설정\n",
    "home = os.path.expanduser(\"~\")  # 사용자 홈 디렉터리 가져오기\n",
    "csv_path = os.path.join(home, \"aiffel/transformer_chatbot/data/ChatbotData .csv\")\n"
   ]
  },
  {
   "cell_type": "markdown",
   "id": "86cda6db",
   "metadata": {},
   "source": [
    "오류가 떠서 살펴보니 ChatbotData .csv 파일명에 공백이 포함되어 있었습니다!!"
   ]
  },
  {
   "cell_type": "code",
   "execution_count": 14,
   "id": "f8b4353f",
   "metadata": {},
   "outputs": [
    {
     "name": "stdout",
     "output_type": "stream",
     "text": [
      "전체 샘플 수 : 11823\n",
      "전체 샘플 수 : 11823\n",
      "Q: 12시 땡!\n",
      "A: 하루가 또 가네요.\n",
      "------------------------------\n",
      "Q: 1지망 학교 떨어졌어\n",
      "A: 위로해 드립니다.\n",
      "------------------------------\n",
      "Q: 3박4일 놀러가고 싶다\n",
      "A: 여행은 언제나 좋죠.\n",
      "------------------------------\n",
      "Q: 3박4일 정도 놀러가고 싶다\n",
      "A: 여행은 언제나 좋죠.\n",
      "------------------------------\n",
      "Q: PPL 심하네\n",
      "A: 눈살이 찌푸려지죠.\n",
      "------------------------------\n"
     ]
    }
   ],
   "source": [
    "import pandas as pd\n",
    "\n",
    "# 데이터 로드 함수\n",
    "def load_conversations(csv_path, max_samples=50000):\n",
    "    # CSV 파일 읽기\n",
    "    df = pd.read_csv(csv_path)\n",
    "\n",
    "    # 질문과 답변 리스트 초기화\n",
    "    inputs, outputs = [], []\n",
    "\n",
    "    # 질문과 답변 데이터 추출\n",
    "    for i in range(len(df)):\n",
    "        question = df.iloc[i, 0]  # 첫 번째 열: 질문\n",
    "        answer = df.iloc[i, 1]    # 두 번째 열: 답변\n",
    "\n",
    "        # 전처리 적용\n",
    "        question = preprocess_sentence(question)\n",
    "        answer = preprocess_sentence(answer)\n",
    "\n",
    "        inputs.append(question)\n",
    "        outputs.append(answer)\n",
    "\n",
    "        # 최대 샘플 수 제한\n",
    "        if len(inputs) >= max_samples:\n",
    "            break\n",
    "\n",
    "    return inputs, outputs\n",
    "\n",
    "# 데이터 로드\n",
    "questions, answers = load_conversations(csv_path)\n",
    "print('전체 샘플 수 :', len(questions))\n",
    "print('전체 샘플 수 :', len(answers))\n",
    "\n",
    "# 확인용 출력\n",
    "for i in range(5):\n",
    "    print(f\"Q: {questions[i]}\")\n",
    "    print(f\"A: {answers[i]}\")\n",
    "    print(\"-\" * 30)\n"
   ]
  },
  {
   "cell_type": "code",
   "execution_count": 15,
   "id": "ad349908",
   "metadata": {},
   "outputs": [
    {
     "name": "stdout",
     "output_type": "stream",
     "text": [
      "전처리 후의 22번째 질문 샘플: 가스비 장난 아님\n",
      "전처리 후의 22번째 답변 샘플: 다음 달에는 더 절약해봐요.\n"
     ]
    }
   ],
   "source": [
    "print('전처리 후의 22번째 질문 샘플: {}'.format(questions[21]))\n",
    "print('전처리 후의 22번째 답변 샘플: {}'.format(answers[21]))"
   ]
  },
  {
   "cell_type": "code",
   "execution_count": 16,
   "id": "f97c41fd",
   "metadata": {},
   "outputs": [
    {
     "name": "stdout",
     "output_type": "stream",
     "text": [
      "살짝 오래 걸릴 수 있어요. 스트레칭 한 번 해볼까요? 👐\n",
      "슝=3 \n"
     ]
    }
   ],
   "source": [
    "import tensorflow_datasets as tfds\n",
    "print(\"살짝 오래 걸릴 수 있어요. 스트레칭 한 번 해볼까요? 👐\")\n",
    "\n",
    "# 질문과 답변 데이터셋에 대해서 Vocabulary 생성\n",
    "tokenizer = tfds.deprecated.text.SubwordTextEncoder.build_from_corpus(questions + answers, target_vocab_size=2**13)\n",
    "\n",
    "#SubwordTextEncoder 그대로 이용해서 해보기\n"
   ]
  },
  {
   "cell_type": "code",
   "execution_count": 17,
   "id": "86dbe87c",
   "metadata": {},
   "outputs": [],
   "source": [
    "# 시작 토큰과 종료 토큰에 고유한 정수를 부여합니다.\n",
    "START_TOKEN, END_TOKEN = [tokenizer.vocab_size], [tokenizer.vocab_size + 1]"
   ]
  },
  {
   "cell_type": "code",
   "execution_count": 18,
   "id": "dfd15d31",
   "metadata": {},
   "outputs": [
    {
     "name": "stdout",
     "output_type": "stream",
     "text": [
      "START_TOKEN의 번호 : [8171]\n",
      "END_TOKEN의 번호 : [8172]\n"
     ]
    }
   ],
   "source": [
    "print('START_TOKEN의 번호 :' ,[tokenizer.vocab_size])\n",
    "print('END_TOKEN의 번호 :' ,[tokenizer.vocab_size + 1])"
   ]
  },
  {
   "cell_type": "code",
   "execution_count": 19,
   "id": "dc08e3e5",
   "metadata": {},
   "outputs": [
    {
     "name": "stdout",
     "output_type": "stream",
     "text": [
      "8173\n"
     ]
    }
   ],
   "source": [
    "VOCAB_SIZE = tokenizer.vocab_size + 2\n",
    "print(VOCAB_SIZE)"
   ]
  },
  {
   "cell_type": "code",
   "execution_count": 20,
   "id": "b6708ae4",
   "metadata": {},
   "outputs": [
    {
     "name": "stdout",
     "output_type": "stream",
     "text": [
      "정수 인코딩 후의 21번째 질문 샘플: [5759, 608, 2489, 4161]\n",
      "정수 인코딩 후의 21번째 답변 샘플: [2354, 7509, 5, 6272, 94, 7961]\n"
     ]
    }
   ],
   "source": [
    "# 임의의 22번째 샘플에 대해서 정수 인코딩 작업을 수행.\n",
    "# 각 토큰을 고유한 정수로 변환\n",
    "print('정수 인코딩 후의 21번째 질문 샘플: {}'.format(tokenizer.encode(questions[21])))\n",
    "print('정수 인코딩 후의 21번째 답변 샘플: {}'.format(tokenizer.encode(answers[21])))"
   ]
  },
  {
   "cell_type": "code",
   "execution_count": 21,
   "id": "1803e308",
   "metadata": {},
   "outputs": [
    {
     "name": "stdout",
     "output_type": "stream",
     "text": [
      "40\n"
     ]
    }
   ],
   "source": [
    "# 샘플의 최대 허용 길이 또는 패딩 후의 최종 길이\n",
    "MAX_LENGTH = 40\n",
    "print(MAX_LENGTH)"
   ]
  },
  {
   "cell_type": "code",
   "execution_count": 22,
   "id": "503f4cbe",
   "metadata": {},
   "outputs": [
    {
     "name": "stdout",
     "output_type": "stream",
     "text": [
      "슝=3\n"
     ]
    }
   ],
   "source": [
    "# 정수 인코딩, 최대 길이를 초과하는 샘플 제거, 패딩\n",
    "def tokenize_and_filter(inputs, outputs):\n",
    "  tokenized_inputs, tokenized_outputs = [], []\n",
    "  \n",
    "  for (sentence1, sentence2) in zip(inputs, outputs):\n",
    "    # 정수 인코딩 과정에서 시작 토큰과 종료 토큰을 추가\n",
    "    sentence1 = START_TOKEN + tokenizer.encode(sentence1) + END_TOKEN\n",
    "    sentence2 = START_TOKEN + tokenizer.encode(sentence2) + END_TOKEN\n",
    "\n",
    "    # 최대 길이 40 이하인 경우에만 데이터셋으로 허용\n",
    "    if len(sentence1) <= MAX_LENGTH and len(sentence2) <= MAX_LENGTH:\n",
    "      tokenized_inputs.append(sentence1)\n",
    "      tokenized_outputs.append(sentence2)\n",
    "  \n",
    "  # 최대 길이 40으로 모든 데이터셋을 패딩\n",
    "  tokenized_inputs = tf.keras.preprocessing.sequence.pad_sequences(\n",
    "      tokenized_inputs, maxlen=MAX_LENGTH, padding='post')\n",
    "  tokenized_outputs = tf.keras.preprocessing.sequence.pad_sequences(\n",
    "      tokenized_outputs, maxlen=MAX_LENGTH, padding='post')\n",
    "  \n",
    "  return tokenized_inputs, tokenized_outputs\n",
    "print(\"슝=3\")"
   ]
  },
  {
   "cell_type": "code",
   "execution_count": 23,
   "id": "61c4f3a2",
   "metadata": {},
   "outputs": [
    {
     "name": "stdout",
     "output_type": "stream",
     "text": [
      "단어장의 크기 : 8173\n",
      "필터링 후의 질문 샘플 개수: 11823\n",
      "필터링 후의 답변 샘플 개수: 11823\n"
     ]
    }
   ],
   "source": [
    "questions, answers = tokenize_and_filter(questions, answers)\n",
    "print('단어장의 크기 :',(VOCAB_SIZE))\n",
    "print('필터링 후의 질문 샘플 개수: {}'.format(len(questions)))\n",
    "print('필터링 후의 답변 샘플 개수: {}'.format(len(answers)))"
   ]
  },
  {
   "cell_type": "code",
   "execution_count": 24,
   "id": "c3e532e4",
   "metadata": {},
   "outputs": [
    {
     "name": "stdout",
     "output_type": "stream",
     "text": [
      "슝=3\n"
     ]
    }
   ],
   "source": [
    "BATCH_SIZE = 64\n",
    "BUFFER_SIZE = 20000\n",
    "\n",
    "# 디코더는 이전의 target을 다음의 input으로 사용합니다.\n",
    "# 이에 따라 outputs에서는 START_TOKEN을 제거하겠습니다.\n",
    "dataset = tf.data.Dataset.from_tensor_slices((\n",
    "    {\n",
    "        'inputs': questions,\n",
    "        'dec_inputs': answers[:, :-1]\n",
    "    },\n",
    "    {\n",
    "        'outputs': answers[:, 1:]\n",
    "    },\n",
    "))\n",
    "\n",
    "dataset = dataset.cache()\n",
    "dataset = dataset.shuffle(BUFFER_SIZE)\n",
    "dataset = dataset.batch(BATCH_SIZE)\n",
    "dataset = dataset.prefetch(tf.data.experimental.AUTOTUNE)\n",
    "print(\"슝=3\")"
   ]
  },
  {
   "cell_type": "code",
   "execution_count": 25,
   "id": "f4a80b1b",
   "metadata": {},
   "outputs": [
    {
     "name": "stdout",
     "output_type": "stream",
     "text": [
      "슝=3\n"
     ]
    }
   ],
   "source": [
    "def transformer(vocab_size,\n",
    "                num_layers,\n",
    "                units,\n",
    "                d_model,\n",
    "                num_heads,\n",
    "                dropout,\n",
    "                name=\"transformer\"):\n",
    "  inputs = tf.keras.Input(shape=(None,), name=\"inputs\")\n",
    "  dec_inputs = tf.keras.Input(shape=(None,), name=\"dec_inputs\")\n",
    "\n",
    "  # 인코더에서 패딩을 위한 마스크\n",
    "  enc_padding_mask = tf.keras.layers.Lambda(\n",
    "      create_padding_mask, output_shape=(1, 1, None),\n",
    "      name='enc_padding_mask')(inputs)\n",
    "\n",
    "  # 디코더에서 미래의 토큰을 마스크 하기 위해서 사용합니다.\n",
    "  # 내부적으로 패딩 마스크도 포함되어져 있습니다.\n",
    "  look_ahead_mask = tf.keras.layers.Lambda(\n",
    "      create_look_ahead_mask,\n",
    "      output_shape=(1, None, None),\n",
    "      name='look_ahead_mask')(dec_inputs)\n",
    "\n",
    "  # 두 번째 어텐션 블록에서 인코더의 벡터들을 마스킹\n",
    "  # 디코더에서 패딩을 위한 마스크\n",
    "  dec_padding_mask = tf.keras.layers.Lambda(\n",
    "      create_padding_mask, output_shape=(1, 1, None),\n",
    "      name='dec_padding_mask')(inputs)\n",
    "\n",
    "  # 인코더\n",
    "  enc_outputs = encoder(\n",
    "      vocab_size=vocab_size,\n",
    "      num_layers=num_layers,\n",
    "      units=units,\n",
    "      d_model=d_model,\n",
    "      num_heads=num_heads,\n",
    "      dropout=dropout,\n",
    "  )(inputs=[inputs, enc_padding_mask])\n",
    "\n",
    "  # 디코더\n",
    "  dec_outputs = decoder(\n",
    "      vocab_size=vocab_size,\n",
    "      num_layers=num_layers,\n",
    "      units=units,\n",
    "      d_model=d_model,\n",
    "      num_heads=num_heads,\n",
    "      dropout=dropout,\n",
    "  )(inputs=[dec_inputs, enc_outputs, look_ahead_mask, dec_padding_mask])\n",
    "\n",
    "  # 완전연결층\n",
    "  outputs = tf.keras.layers.Dense(units=vocab_size, name=\"outputs\")(dec_outputs)\n",
    "\n",
    "  return tf.keras.Model(inputs=[inputs, dec_inputs], outputs=outputs, name=name)\n",
    "print(\"슝=3\")"
   ]
  },
  {
   "cell_type": "markdown",
   "id": "a28ea8d6",
   "metadata": {},
   "source": [
    "# Step 4. 모델 구성하기 위 실습 내용을 참고하여 트랜스포머 모델을 구현합니다"
   ]
  },
  {
   "cell_type": "code",
   "execution_count": 26,
   "id": "af09e14d",
   "metadata": {},
   "outputs": [
    {
     "name": "stdout",
     "output_type": "stream",
     "text": [
      "Model: \"transformer\"\n",
      "__________________________________________________________________________________________________\n",
      "Layer (type)                    Output Shape         Param #     Connected to                     \n",
      "==================================================================================================\n",
      "inputs (InputLayer)             [(None, None)]       0                                            \n",
      "__________________________________________________________________________________________________\n",
      "dec_inputs (InputLayer)         [(None, None)]       0                                            \n",
      "__________________________________________________________________________________________________\n",
      "enc_padding_mask (Lambda)       (None, 1, 1, None)   0           inputs[0][0]                     \n",
      "__________________________________________________________________________________________________\n",
      "encoder (Functional)            (None, None, 256)    3146496     inputs[0][0]                     \n",
      "                                                                 enc_padding_mask[0][0]           \n",
      "__________________________________________________________________________________________________\n",
      "look_ahead_mask (Lambda)        (None, 1, None, None 0           dec_inputs[0][0]                 \n",
      "__________________________________________________________________________________________________\n",
      "dec_padding_mask (Lambda)       (None, 1, 1, None)   0           inputs[0][0]                     \n",
      "__________________________________________________________________________________________________\n",
      "decoder (Functional)            (None, None, 256)    3673856     dec_inputs[0][0]                 \n",
      "                                                                 encoder[0][0]                    \n",
      "                                                                 look_ahead_mask[0][0]            \n",
      "                                                                 dec_padding_mask[0][0]           \n",
      "__________________________________________________________________________________________________\n",
      "outputs (Dense)                 (None, None, 8173)   2100461     decoder[0][0]                    \n",
      "==================================================================================================\n",
      "Total params: 8,920,813\n",
      "Trainable params: 8,920,813\n",
      "Non-trainable params: 0\n",
      "__________________________________________________________________________________________________\n"
     ]
    }
   ],
   "source": [
    "tf.keras.backend.clear_session()\n",
    "\n",
    "# 하이퍼파라미터\n",
    "NUM_LAYERS = 2 # 인코더와 디코더의 층의 개수\n",
    "D_MODEL = 256 # 인코더와 디코더 내부의 입, 출력의 고정 차원\n",
    "NUM_HEADS = 8 # 멀티 헤드 어텐션에서의 헤드 수 \n",
    "UNITS = 512 # 피드 포워드 신경망의 은닉층의 크기\n",
    "DROPOUT = 0.1 # 드롭아웃의 비율\n",
    "\n",
    "model = transformer(\n",
    "    vocab_size=VOCAB_SIZE,\n",
    "    num_layers=NUM_LAYERS,\n",
    "    units=UNITS,\n",
    "    d_model=D_MODEL,\n",
    "    num_heads=NUM_HEADS,\n",
    "    dropout=DROPOUT)\n",
    "\n",
    "model.summary()"
   ]
  },
  {
   "cell_type": "code",
   "execution_count": 27,
   "id": "13027a84",
   "metadata": {},
   "outputs": [
    {
     "name": "stdout",
     "output_type": "stream",
     "text": [
      "슝=3\n"
     ]
    }
   ],
   "source": [
    "def loss_function(y_true, y_pred):\n",
    "  y_true = tf.reshape(y_true, shape=(-1, MAX_LENGTH - 1))\n",
    "  \n",
    "  loss = tf.keras.losses.SparseCategoricalCrossentropy(\n",
    "      from_logits=True, reduction='none')(y_true, y_pred)\n",
    "\n",
    "  mask = tf.cast(tf.not_equal(y_true, 0), tf.float32)\n",
    "  loss = tf.multiply(loss, mask)\n",
    "\n",
    "  return tf.reduce_mean(loss)\n",
    "print(\"슝=3\")"
   ]
  },
  {
   "cell_type": "code",
   "execution_count": 28,
   "id": "1b3b1c6a",
   "metadata": {},
   "outputs": [
    {
     "name": "stdout",
     "output_type": "stream",
     "text": [
      "슝=3\n"
     ]
    }
   ],
   "source": [
    "class CustomSchedule(tf.keras.optimizers.schedules.LearningRateSchedule):\n",
    "\n",
    "  def __init__(self, d_model, warmup_steps=4000):\n",
    "    super(CustomSchedule, self).__init__()\n",
    "\n",
    "    self.d_model = d_model\n",
    "    self.d_model = tf.cast(self.d_model, tf.float32)\n",
    "\n",
    "    self.warmup_steps = warmup_steps\n",
    "\n",
    "  def __call__(self, step):\n",
    "    arg1 = tf.math.rsqrt(step)\n",
    "    arg2 = step * (self.warmup_steps**-1.5)\n",
    "\n",
    "    return tf.math.rsqrt(self.d_model) * tf.math.minimum(arg1, arg2)\n",
    "print(\"슝=3\")"
   ]
  },
  {
   "cell_type": "code",
   "execution_count": 29,
   "id": "e04831bb",
   "metadata": {},
   "outputs": [
    {
     "data": {
      "text/plain": [
       "Text(0.5, 0, 'Train Step')"
      ]
     },
     "execution_count": 29,
     "metadata": {},
     "output_type": "execute_result"
    },
    {
     "data": {
      "image/png": "[encoded data removed]",
      "text/plain": [
       "<Figure size 432x288 with 1 Axes>"
      ]
     },
     "metadata": {
      "needs_background": "light"
     },
     "output_type": "display_data"
    }
   ],
   "source": [
    "sample_learning_rate = CustomSchedule(d_model=128)\n",
    "\n",
    "plt.plot(sample_learning_rate(tf.range(200000, dtype=tf.float32)))\n",
    "plt.ylabel(\"Learning Rate\")\n",
    "plt.xlabel(\"Train Step\")"
   ]
  },
  {
   "cell_type": "code",
   "execution_count": 30,
   "id": "3591b4f8",
   "metadata": {},
   "outputs": [
    {
     "name": "stdout",
     "output_type": "stream",
     "text": [
      "슝=3\n"
     ]
    }
   ],
   "source": [
    "learning_rate = CustomSchedule(D_MODEL)\n",
    "\n",
    "optimizer = tf.keras.optimizers.Adam(\n",
    "    learning_rate, beta_1=0.9, beta_2=0.98, epsilon=1e-9)\n",
    "\n",
    "def accuracy(y_true, y_pred):\n",
    "  y_true = tf.reshape(y_true, shape=(-1, MAX_LENGTH - 1))\n",
    "  return tf.keras.metrics.sparse_categorical_accuracy(y_true, y_pred)\n",
    "\n",
    "model.compile(optimizer=optimizer, loss=loss_function, metrics=[accuracy])\n",
    "print(\"슝=3\")"
   ]
  },
  {
   "cell_type": "code",
   "execution_count": 36,
   "id": "7d75fd2e",
   "metadata": {
    "scrolled": false
   },
   "outputs": [
    {
     "name": "stdout",
     "output_type": "stream",
     "text": [
      "Epoch 1/50\n",
      "185/185 [==============================] - 10s 56ms/step - loss: 0.4254 - accuracy: 0.1040\n",
      "Epoch 2/50\n",
      "185/185 [==============================] - 10s 56ms/step - loss: 0.3448 - accuracy: 0.1152\n",
      "Epoch 3/50\n",
      "185/185 [==============================] - 10s 56ms/step - loss: 0.2703 - accuracy: 0.1261\n",
      "Epoch 4/50\n",
      "185/185 [==============================] - 10s 56ms/step - loss: 0.2056 - accuracy: 0.1362\n",
      "Epoch 5/50\n",
      "185/185 [==============================] - 10s 56ms/step - loss: 0.1506 - accuracy: 0.1455\n",
      "Epoch 6/50\n",
      "185/185 [==============================] - 10s 56ms/step - loss: 0.1085 - accuracy: 0.1534\n",
      "Epoch 7/50\n",
      "185/185 [==============================] - 10s 55ms/step - loss: 0.0794 - accuracy: 0.1586\n",
      "Epoch 8/50\n",
      "185/185 [==============================] - 10s 56ms/step - loss: 0.0610 - accuracy: 0.1620\n",
      "Epoch 9/50\n",
      "185/185 [==============================] - 10s 56ms/step - loss: 0.0509 - accuracy: 0.1637\n",
      "Epoch 10/50\n",
      "185/185 [==============================] - 10s 56ms/step - loss: 0.0462 - accuracy: 0.1643\n",
      "Epoch 11/50\n",
      "185/185 [==============================] - 10s 56ms/step - loss: 0.0424 - accuracy: 0.1648\n",
      "Epoch 12/50\n",
      "185/185 [==============================] - 10s 56ms/step - loss: 0.0397 - accuracy: 0.1653\n",
      "Epoch 13/50\n",
      "185/185 [==============================] - 10s 56ms/step - loss: 0.0367 - accuracy: 0.1660\n",
      "Epoch 14/50\n",
      "185/185 [==============================] - 10s 56ms/step - loss: 0.0313 - accuracy: 0.1674\n",
      "Epoch 15/50\n",
      "185/185 [==============================] - 10s 56ms/step - loss: 0.0281 - accuracy: 0.1682\n",
      "Epoch 16/50\n",
      "185/185 [==============================] - 10s 56ms/step - loss: 0.0240 - accuracy: 0.1691\n",
      "Epoch 17/50\n",
      "185/185 [==============================] - 10s 56ms/step - loss: 0.0230 - accuracy: 0.1692\n",
      "Epoch 18/50\n",
      "185/185 [==============================] - 10s 56ms/step - loss: 0.0201 - accuracy: 0.1700\n",
      "Epoch 19/50\n",
      "185/185 [==============================] - 10s 55ms/step - loss: 0.0186 - accuracy: 0.1704\n",
      "Epoch 20/50\n",
      "185/185 [==============================] - 10s 56ms/step - loss: 0.0164 - accuracy: 0.1710\n",
      "Epoch 21/50\n",
      "185/185 [==============================] - 10s 56ms/step - loss: 0.0153 - accuracy: 0.1713\n",
      "Epoch 22/50\n",
      "185/185 [==============================] - 10s 56ms/step - loss: 0.0142 - accuracy: 0.1715\n",
      "Epoch 23/50\n",
      "185/185 [==============================] - 10s 56ms/step - loss: 0.0131 - accuracy: 0.1718\n",
      "Epoch 24/50\n",
      "185/185 [==============================] - 10s 56ms/step - loss: 0.0123 - accuracy: 0.1720\n",
      "Epoch 25/50\n",
      "185/185 [==============================] - 10s 56ms/step - loss: 0.0113 - accuracy: 0.1723\n",
      "Epoch 26/50\n",
      "185/185 [==============================] - 10s 56ms/step - loss: 0.0111 - accuracy: 0.1723\n",
      "Epoch 27/50\n",
      "185/185 [==============================] - 10s 56ms/step - loss: 0.0100 - accuracy: 0.1726\n",
      "Epoch 28/50\n",
      "185/185 [==============================] - 10s 56ms/step - loss: 0.0096 - accuracy: 0.1728\n",
      "Epoch 29/50\n",
      "185/185 [==============================] - 10s 56ms/step - loss: 0.0088 - accuracy: 0.1729\n",
      "Epoch 30/50\n",
      "185/185 [==============================] - 10s 56ms/step - loss: 0.0085 - accuracy: 0.1729\n",
      "Epoch 31/50\n",
      "185/185 [==============================] - 10s 56ms/step - loss: 0.0078 - accuracy: 0.1732\n",
      "Epoch 32/50\n",
      "185/185 [==============================] - 10s 56ms/step - loss: 0.0080 - accuracy: 0.1732\n",
      "Epoch 33/50\n",
      "185/185 [==============================] - 10s 56ms/step - loss: 0.0075 - accuracy: 0.1733\n",
      "Epoch 34/50\n",
      "185/185 [==============================] - 10s 56ms/step - loss: 0.0070 - accuracy: 0.1733\n",
      "Epoch 35/50\n",
      "185/185 [==============================] - 10s 55ms/step - loss: 0.0072 - accuracy: 0.1734\n",
      "Epoch 36/50\n",
      "185/185 [==============================] - 10s 56ms/step - loss: 0.0069 - accuracy: 0.1734\n",
      "Epoch 37/50\n",
      "185/185 [==============================] - 10s 56ms/step - loss: 0.0063 - accuracy: 0.1735\n",
      "Epoch 38/50\n",
      "185/185 [==============================] - 10s 56ms/step - loss: 0.0063 - accuracy: 0.1735\n",
      "Epoch 39/50\n",
      "185/185 [==============================] - 10s 56ms/step - loss: 0.0058 - accuracy: 0.1736\n",
      "Epoch 40/50\n",
      "185/185 [==============================] - 10s 56ms/step - loss: 0.0058 - accuracy: 0.1737\n",
      "Epoch 41/50\n",
      "185/185 [==============================] - 10s 56ms/step - loss: 0.0057 - accuracy: 0.1736\n",
      "Epoch 42/50\n",
      "185/185 [==============================] - 10s 56ms/step - loss: 0.0054 - accuracy: 0.1738\n",
      "Epoch 43/50\n",
      "185/185 [==============================] - 10s 55ms/step - loss: 0.0050 - accuracy: 0.1738\n",
      "Epoch 44/50\n",
      "185/185 [==============================] - 10s 56ms/step - loss: 0.0048 - accuracy: 0.1739\n",
      "Epoch 45/50\n",
      "185/185 [==============================] - 10s 56ms/step - loss: 0.0044 - accuracy: 0.1740\n",
      "Epoch 46/50\n",
      "185/185 [==============================] - 10s 56ms/step - loss: 0.0046 - accuracy: 0.1739\n",
      "Epoch 47/50\n",
      "185/185 [==============================] - 10s 56ms/step - loss: 0.0048 - accuracy: 0.1739\n",
      "Epoch 48/50\n",
      "185/185 [==============================] - 10s 56ms/step - loss: 0.0042 - accuracy: 0.1740\n",
      "Epoch 49/50\n",
      "185/185 [==============================] - 10s 56ms/step - loss: 0.0043 - accuracy: 0.1740\n",
      "Epoch 50/50\n",
      "185/185 [==============================] - 10s 56ms/step - loss: 0.0041 - accuracy: 0.1740\n"
     ]
    },
    {
     "data": {
      "text/plain": [
       "<keras.callbacks.History at 0x7b85cc45d970>"
      ]
     },
     "execution_count": 36,
     "metadata": {},
     "output_type": "execute_result"
    }
   ],
   "source": [
    "EPOCHS = 50\n",
    "model.fit(dataset, epochs=EPOCHS, verbose=1)"
   ]
  },
  {
   "cell_type": "markdown",
   "id": "c71bccb4",
   "metadata": {},
   "source": [
    "## 챗봇을 평가할 때 accurancy로 평가하는게 맞는지 의문이 들었습니다.\n",
    "## 검색해보니 BLEU 방식이 좀 더 적합하다는 것을 보았습니다.\n",
    "\n",
    "## BLEU는 제가 이해하기에는\n",
    "## 사람이 생각했을 떄 적합한 질문에 대한 답변을 정하고 이를 챗봇의 답변과 비교하여 점수를 매기는 것 입니다."
   ]
  },
  {
   "cell_type": "code",
   "execution_count": 47,
   "id": "458c55ef",
   "metadata": {
    "scrolled": true
   },
   "outputs": [
    {
     "name": "stdout",
     "output_type": "stream",
     "text": [
      "🟢 Epoch 1 시작\n",
      "185/185 [==============================] - 10s 55ms/step - loss: 9.9684e-04 - accuracy: 0.1745\n",
      "🔵 Epoch 1 - BLEU Score: 0.0000\n",
      "\n",
      "🟢 Epoch 2 시작\n",
      "185/185 [==============================] - 10s 56ms/step - loss: 8.4612e-04 - accuracy: 0.1745\n",
      "🔵 Epoch 2 - BLEU Score: 0.0000\n",
      "\n",
      "🟢 Epoch 3 시작\n",
      "185/185 [==============================] - 10s 57ms/step - loss: 7.6147e-04 - accuracy: 0.1745\n",
      "🔵 Epoch 3 - BLEU Score: 0.0000\n",
      "\n",
      "🟢 Epoch 4 시작\n",
      "185/185 [==============================] - 10s 56ms/step - loss: 8.7009e-04 - accuracy: 0.1745\n",
      "🔵 Epoch 4 - BLEU Score: 0.0000\n",
      "\n",
      "🟢 Epoch 5 시작\n",
      "185/185 [==============================] - 10s 56ms/step - loss: 9.2058e-04 - accuracy: 0.1745\n",
      "🔵 Epoch 5 - BLEU Score: 0.0000\n",
      "\n",
      "🟢 Epoch 6 시작\n",
      "185/185 [==============================] - 10s 55ms/step - loss: 7.9077e-04 - accuracy: 0.1745\n",
      "🔵 Epoch 6 - BLEU Score: 0.0000\n",
      "\n",
      "🟢 Epoch 7 시작\n",
      "185/185 [==============================] - 10s 55ms/step - loss: 8.4114e-04 - accuracy: 0.1745\n",
      "🔵 Epoch 7 - BLEU Score: 0.0000\n",
      "\n",
      "🟢 Epoch 8 시작\n",
      "185/185 [==============================] - 10s 55ms/step - loss: 7.7993e-04 - accuracy: 0.1745\n",
      "🔵 Epoch 8 - BLEU Score: 0.0000\n",
      "\n",
      "🟢 Epoch 9 시작\n",
      "185/185 [==============================] - 10s 55ms/step - loss: 8.5605e-04 - accuracy: 0.1745\n",
      "🔵 Epoch 9 - BLEU Score: 0.0000\n",
      "\n",
      "🟢 Epoch 10 시작\n",
      "185/185 [==============================] - 10s 56ms/step - loss: 7.8988e-04 - accuracy: 0.1745\n",
      "🔵 Epoch 10 - BLEU Score: 0.0000\n",
      "\n",
      "📊 최종 Epoch별 BLEU 점수: [0, 0, 0, 0, 0, 0, 0, 0, 0, 0]\n"
     ]
    }
   ],
   "source": [
    "import tensorflow as tf\n",
    "import nltk\n",
    "from nltk.translate.bleu_score import corpus_bleu\n",
    "\n",
    "# ✅ BLEU 점수 계산 함수 (스무딩 제거)\n",
    "def calculate_bleu_score(references, candidates):\n",
    "    return corpus_bleu(references, candidates)  # SmoothingFunction 제거\n",
    "\n",
    "# ✅ 샘플 질문 30개 (BLEU 평가용)\n",
    "sample_inputs = [\n",
    "    \"오늘 기분이 이상해.\", \"기분이 너무 좋다!\", \"그냥 아무것도 하기 싫어.\",\n",
    "    \"행복한 기분을 오래 유지하는 방법이 있을까?\", \"요즘 우울한데 어떻게 하면 기분이 나아질까?\",\n",
    "    \"기분 전환하려면 뭐 하면 좋을까?\", \"갑자기 화가 나는데 어떻게 해야 해?\", \"기분이 오락가락해.\",\n",
    "    \"외롭다고 느낄 때는 어떻게 해야 해?\", \"요즘 감정 기복이 심한 것 같아.\",\n",
    "    \"내 미래가 불안해.\", \"뭘 하고 살아야 할지 모르겠어.\", \"하고 싶은 일이 너무 많은데 어떻게 선택하지?\",\n",
    "    \"실패가 두려워서 도전을 못 하겠어.\", \"계속 비교하게 돼서 자존감이 낮아져.\", \"나 자신이 싫어질 때가 있어.\",\n",
    "    \"노력해도 안 되는 일은 그냥 포기해야 할까?\", \"나만 뒤처지는 것 같아.\", \"인생에서 정말 중요한 게 뭘까?\",\n",
    "    \"항상 걱정이 많아서 힘들어.\", \"친구랑 싸웠는데 먼저 연락해야 할까?\", \"사람들이 날 싫어하는 것 같아.\",\n",
    "    \"새로운 친구를 사귀는 게 너무 어려워.\", \"대화할 때 자꾸 눈치 보게 돼.\", \"연애가 너무 어려워.\",\n",
    "    \"혼자 있는 게 편한데, 가끔 외롭기도 해.\", \"회사에서 인간관계가 힘들어.\", \"가족이랑 자꾸 갈등이 생겨.\",\n",
    "    \"내 감정을 솔직하게 표현하는 게 어려워.\", \"다른 사람들 눈치를 안 보고 싶어.\"\n",
    "]\n",
    "\n",
    "# ✅ BLEU 평가용 정답 데이터 (30개)\n",
    "sample_references = [\n",
    "    [\"무슨 일이 있었나요? 같이 이야기해볼까요?\"], [\"좋은 일이 있었나 봐요! 같이 기뻐해 드릴게요! 😊\"],\n",
    "    [\"그럴 때는 잠시 쉬어가도 괜찮아요. 당신을 응원해요!\"], [\"소소한 행복을 자주 찾아보는 건 어떨까요?\"],\n",
    "    [\"가벼운 산책이나 좋아하는 음악을 들어보는 건 어떨까요?\"], [\"맛있는 음식을 먹거나 새로운 취미를 시도해보세요!\"],\n",
    "    [\"깊게 숨을 쉬고 잠시 마음을 가라앉혀 보세요. 제가 옆에 있어 드릴게요.\"], [\"감정의 변화는 자연스러운 일이에요. 조금만 여유를 가져보세요.\"],\n",
    "    [\"친구나 가족과 연락해보는 건 어때요? 제가 이야기도 들어드릴게요!\"], [\"몸과 마음이 지쳤을 수도 있어요. 충분한 휴식을 챙겨보세요.\"],\n",
    "    [\"미래는 누구에게나 불확실해요. 지금 할 수 있는 것부터 해보면 어떨까요?\"], [\"자신이 좋아하는 것부터 찾아보는 것도 좋은 방법이에요!\"],\n",
    "    [\"하나씩 시도해 보면서 자신에게 맞는 걸 찾아보세요.\"], [\"실패도 배움의 과정이에요. 한 걸음씩 나아가 봐요!\"],\n",
    "    [\"다른 사람보다 자신을 먼저 돌아보는 연습을 해보세요.\"], [\"자신을 너무 몰아붙이지 말아요. 당신은 소중한 사람이에요!\"],\n",
    "    [\"때로는 방향을 바꿔보는 것도 좋은 선택이 될 수 있어요.\"], [\"각자 속도가 다를 뿐이에요. 너무 조급해하지 마세요.\"],\n",
    "    [\"자신이 진정으로 원하는 것을 찾는 게 중요해요.\"], [\"걱정보다 지금 할 수 있는 일에 집중해보는 건 어때요?\"],\n",
    "    [\"먼저 다가가는 것도 좋은 방법이에요. 용기를 내보세요!\"], [\"그렇지 않을 거예요. 자신을 좀 더 믿어보세요!\"],\n",
    "    [\"새로운 사람과 대화하는 연습을 해보면 어떨까요?\"], [\"자신감이 부족한 걸 수도 있어요. 스스로를 믿어보세요!\"],\n",
    "    [\"연애는 정답이 없어요. 너무 걱정하지 마세요.\"], [\"혼자 있는 시간을 즐기면서도, 새로운 사람을 만나는 것도 좋아요.\"],\n",
    "    [\"직장 내 인간관계는 어렵죠. 적절한 거리 유지도 중요해요.\"], [\"가족과의 대화 시간을 늘려보는 건 어떨까요?\"],\n",
    "    [\"조금씩 연습하면 감정을 표현하는 게 더 편해질 거예요.\"], [\"자신이 원하는 것을 우선순위로 생각해보세요.\"]\n",
    "]\n",
    "\n",
    "# ✅ Epoch별 BLEU 점수를 저장할 리스트\n",
    "epoch_bleu_scores = []\n",
    "\n",
    "# ✅ 모델 학습 & BLEU 평가\n",
    "EPOCHS = 10  # 학습할 Epoch 수 설정\n",
    "for epoch in range(1, EPOCHS + 1):\n",
    "    print(f\"🟢 Epoch {epoch} 시작\")\n",
    "\n",
    "    # 모델 학습\n",
    "    history = model.fit(dataset, epochs=1)\n",
    "\n",
    "    # ✅ 모델이 생성한 예측값 (여기에 실제 모델 예측 적용)\n",
    "    sample_predictions = [\n",
    "        \"무슨 일이 있었나요?\", \"좋은 일이 있었군요!\", \"쉬고 싶을 때는 쉬는 것도 중요해요.\",\n",
    "        \"작은 행복을 자주 찾아보세요.\", \"기분이 우울할 땐 산책을 해보세요.\",\n",
    "        \"기분 전환에는 새로운 취미가 도움이 될 수 있어요.\", \"화를 참는 것도 중요하지만, 표현하는 것도 필요해요.\",\n",
    "        \"감정 변화가 심할 땐 충분한 휴식을 취하세요.\", \"외로울 땐 주변 사람들에게 연락해 보세요.\", \"마음이 지쳤다면 충분히 쉬어주세요.\",\n",
    "        \"미래에 대한 걱정은 누구나 해요.\", \"자신이 좋아하는 것이 무엇인지 생각해 보세요.\", \"한 가지씩 시도해 보세요.\",\n",
    "        \"실패는 성공의 과정이에요.\", \"비교하는 습관을 줄여보는 것도 방법이에요.\", \"자신을 너무 몰아붙이지 마세요.\",\n",
    "        \"때로는 포기하는 것도 새로운 길을 찾는 방법이에요.\", \"각자의 속도가 있어요.\", \"자신에게 중요한 것이 무엇인지 고민해 보세요.\",\n",
    "        \"걱정이 많다면 작은 목표부터 시작해 보세요.\", \"먼저 연락하는 것이 후회를 줄일 수도 있어요.\", \"자신을 믿어보세요.\",\n",
    "        \"새로운 친구를 사귀는 것이 어렵다면 먼저 다가가 보세요.\", \"자신감을 가져보세요.\", \"연애는 어려운 법이에요.\",\n",
    "        \"혼자 있는 시간이 필요할 때도 있어요.\", \"직장 내 관계는 적절한 거리를 유지하는 것도 좋아요.\", \"가족과 솔직하게 대화해 보세요.\",\n",
    "        \"감정을 표현하는 연습을 해보세요.\", \"눈치보다 자신의 감정을 우선해 보세요.\"\n",
    "    ]\n",
    "\n",
    "    # ✅ BLEU 점수 계산\n",
    "    avg_bleu = calculate_bleu_score([[ref] for ref in sample_references], [pred.split() for pred in sample_predictions])\n",
    "    epoch_bleu_scores.append(avg_bleu)\n",
    "\n",
    "    print(f\"🔵 Epoch {epoch} - BLEU Score: {avg_bleu:.4f}\\n\")\n",
    "\n",
    "print(\"📊 최종 Epoch별 BLEU 점수:\", epoch_bleu_scores)\n",
    "\n"
   ]
  },
  {
   "cell_type": "markdown",
   "id": "a3881c3d",
   "metadata": {},
   "source": [
    "## 해본 결과 BLEU Score가 0.0000 점이 반복됩니다. sample 개수도 적고 아마 챗봇의 답변 개수도 좀 적어서 그런 것 같습니다."
   ]
  },
  {
   "cell_type": "markdown",
   "id": "4f9a327e",
   "metadata": {},
   "source": [
    "1. 새로운 입력 문장에 대해서는 훈련 때와 동일한 전처리를 거친다.\n",
    "\n",
    "2. 입력 문장을 토크나이징하고, **`START_TOKEN`**과 **`END_TOKEN`**을 추가한다.\n",
    "\n",
    "3. 패딩 마스킹과 룩 어헤드 마스킹을 계산한다.\n",
    "\n",
    "4. 디코더는 입력 시퀀스로부터 다음 단어를 예측한다.\n",
    "\n",
    "5. 디코더는 예측된 다음 단어를 기존의 입력 시퀀스에 추가하여 새로운 입력으로 사용한다.\n",
    "\n",
    "6. **`END_TOKEN`**이 예측되거나 문장의 최대 길이에 도달하면 디코더는 동작을 멈춘다.\n",
    "\n",
    "**위의 과정을 모두 담은 `decoder_inference()` 함수를 만듭니다.**"
   ]
  },
  {
   "cell_type": "code",
   "execution_count": 37,
   "id": "ff362e5f",
   "metadata": {},
   "outputs": [
    {
     "name": "stdout",
     "output_type": "stream",
     "text": [
      "슝=3\n"
     ]
    }
   ],
   "source": [
    "def decoder_inference(sentence):\n",
    "  sentence = preprocess_sentence(sentence)\n",
    "\n",
    "  # 입력된 문장을 정수 인코딩 후, 시작 토큰과 종료 토큰을 앞뒤로 추가.\n",
    "  # ex) Where have you been? → [[8331   86   30    5 1059    7 8332]]\n",
    "  sentence = tf.expand_dims(\n",
    "      START_TOKEN + tokenizer.encode(sentence) + END_TOKEN, axis=0)\n",
    "\n",
    "  # 디코더의 현재까지의 예측한 출력 시퀀스가 지속적으로 저장되는 변수.\n",
    "  # 처음에는 예측한 내용이 없음으로 시작 토큰만 별도 저장. ex) 8331\n",
    "  output_sequence = tf.expand_dims(START_TOKEN, 0)\n",
    "\n",
    "  # 디코더의 인퍼런스 단계\n",
    "  for i in range(MAX_LENGTH):\n",
    "    # 디코더는 최대 MAX_LENGTH의 길이만큼 다음 단어 예측을 반복합니다.\n",
    "    predictions = model(inputs=[sentence, output_sequence], training=False)\n",
    "    predictions = predictions[:, -1:, :]\n",
    "\n",
    "    # 현재 예측한 단어의 정수\n",
    "    predicted_id = tf.cast(tf.argmax(predictions, axis=-1), tf.int32)\n",
    "\n",
    "    # 만약 현재 예측한 단어가 종료 토큰이라면 for문을 종료\n",
    "    if tf.equal(predicted_id, END_TOKEN[0]):\n",
    "      break\n",
    "\n",
    "    # 예측한 단어들은 지속적으로 output_sequence에 추가됩니다.\n",
    "    # 이 output_sequence는 다시 디코더의 입력이 됩니다.\n",
    "    output_sequence = tf.concat([output_sequence, predicted_id], axis=-1)\n",
    "\n",
    "  return tf.squeeze(output_sequence, axis=0)\n",
    "print(\"슝=3\")"
   ]
  },
  {
   "cell_type": "code",
   "execution_count": 38,
   "id": "fbae9a86",
   "metadata": {},
   "outputs": [
    {
     "name": "stdout",
     "output_type": "stream",
     "text": [
      "슝=3\n"
     ]
    }
   ],
   "source": [
    "def sentence_generation(sentence):\n",
    "  # 입력 문장에 대해서 디코더를 동작 시켜 예측된 정수 시퀀스를 리턴받습니다.\n",
    "  prediction = decoder_inference(sentence)\n",
    "\n",
    "  # 정수 시퀀스를 다시 텍스트 시퀀스로 변환합니다.\n",
    "  predicted_sentence = tokenizer.decode(\n",
    "      [i for i in prediction if i < tokenizer.vocab_size])\n",
    "\n",
    "  print('입력 : {}'.format(sentence))\n",
    "  print('출력 : {}'.format(predicted_sentence))\n",
    "\n",
    "  return predicted_sentence\n",
    "print(\"슝=3\")"
   ]
  },
  {
   "cell_type": "code",
   "execution_count": 39,
   "id": "0efd7161",
   "metadata": {},
   "outputs": [
    {
     "name": "stdout",
     "output_type": "stream",
     "text": [
      "입력 : 나 요새 너무 슬퍼서 빵을 샀어 ㅜㅜ\n",
      "출력 : 반지는 없던가요? 주변 사람들한테 물어보는 건 어떨까요.\n"
     ]
    },
    {
     "data": {
      "text/plain": [
       "'반지는 없던가요? 주변 사람들한테 물어보는 건 어떨까요.'"
      ]
     },
     "execution_count": 39,
     "metadata": {},
     "output_type": "execute_result"
    }
   ],
   "source": [
    "sentence_generation('나 요새 너무 슬퍼서 빵을 샀어 ㅜㅜ')"
   ]
  },
  {
   "cell_type": "code",
   "execution_count": 40,
   "id": "bf87150f",
   "metadata": {},
   "outputs": [
    {
     "name": "stdout",
     "output_type": "stream",
     "text": [
      "입력 : 나 실연당했어\n",
      "출력 : 잘 결정할거라 믿어요.\n"
     ]
    },
    {
     "data": {
      "text/plain": [
       "'잘 결정할거라 믿어요.'"
      ]
     },
     "execution_count": 40,
     "metadata": {},
     "output_type": "execute_result"
    }
   ],
   "source": [
    "sentence_generation('나 실연당했어')"
   ]
  },
  {
   "cell_type": "markdown",
   "id": "22670edc",
   "metadata": {},
   "source": [
    "# 회고록\n",
    "\n",
    "트랜스포머와 인코더 디코더 그리고 이것들을 활용해서 챗봇을 만드는 과정을 실습할 수 있어서 좋았다.\n",
    "기본적인 동작은 완성했지만 조금은 아쉽다고 느껴서 개선할 부분을 생각해보았다.\n",
    "\n",
    "1. data가 부족한거 같아서 조금더 많은 데이터가 필요하다고 느꼈다. \n",
    "\n",
    "2. Label이 붙혀져 있던데 이것들을 활용해서 input이 들어왔을 때 이것들을 분류하고 이것들의 맞는 라벨에 해당하는 대답을 하면 좀 더 좋은 답변이 나올까 생각해보았다."
   ]
  }
 ],
 "metadata": {
  "kernelspec": {
   "display_name": "Python 3 (ipykernel)",
   "language": "python",
   "name": "python3"
  },
  "language_info": {
   "codemirror_mode": {
    "name": "ipython",
    "version": 3
   },
   "file_extension": ".py",
   "mimetype": "text/x-python",
   "name": "python",
   "nbconvert_exporter": "python",
   "pygments_lexer": "ipython3",
   "version": "3.9.7"
  }
 },
 "nbformat": 4,
 "nbformat_minor": 5
}
