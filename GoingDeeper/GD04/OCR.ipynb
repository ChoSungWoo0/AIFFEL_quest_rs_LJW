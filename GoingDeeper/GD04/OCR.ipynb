{
 "cells": [
  {
   "cell_type": "markdown",
   "id": "0a599335",
   "metadata": {},
   "source": [
    "평가문항\t상세기준\n",
    "1. Text recognition을 위해 특화된 데이터셋 구성이 체계적으로 진행되었다.\t\n",
    "\n",
    "\n",
    "    텍스트 이미지 리사이징, ctc loss 측정을 위한 라벨 인코딩, 배치처리 등이 적절히 수행되었다.\n",
    "\n",
    "\n",
    "2. CRNN 기반의 recognition 모델의 학습이 정상적으로 진행되었다.\t\n",
    "\n",
    "\n",
    "    학습결과 loss가 안정적으로 감소하고 대부분의 문자인식 추론 결과가 정확하다.\n",
    "\n",
    "\n",
    "3. keras-ocr detector와 CRNN recognizer를 엮어 원본 이미지 입력으로부터 text가 출력되는 OCR이 End-to-End로 구성되었다.\t\n",
    "\n",
    "\n",
    "    샘플 이미지를 원본으로 받아 OCR 수행 결과를 리턴하는 1개의 함수가 만들어졌다.\n",
    "\n"
   ]
  },
  {
   "cell_type": "markdown",
   "id": "8cf7618d",
   "metadata": {},
   "source": [
    "keras OCR의 Detector class를 이용해서 이미지 내의 문자 위치를 찾아내는 함수를 만들어보도록 하겠습니다. \n",
    "\n",
    "이를 위해서 keras-ocr을 설치해주고 Detector를 만들어주세요."
   ]
  },
  {
   "cell_type": "code",
   "execution_count": 1,
   "id": "a1a0b9b1",
   "metadata": {},
   "outputs": [
    {
     "name": "stdout",
     "output_type": "stream",
     "text": [
      "/aiffel/aiffel/ocr/data/MJ/MJ_train/\n"
     ]
    }
   ],
   "source": [
    "import re\n",
    "import six\n",
    "import math\n",
    "import lmdb\n",
    "import os\n",
    "import numpy as np\n",
    "import tensorflow as tf\n",
    "\n",
    "from PIL import Image\n",
    "\n",
    "from tensorflow.keras import layers\n",
    "from tensorflow.keras.models import Model\n",
    "from tensorflow.keras.utils import Sequence\n",
    "from tensorflow.keras import backend as K\n",
    "from tensorflow.keras.models import load_model\n",
    "\n",
    "BATCH_SIZE = 128\n",
    "HOME_DIR = os.getenv('HOME')+'/aiffel/ocr'\n",
    "\n",
    "TRAIN_DATA_PATH = HOME_DIR+'/data/MJ/MJ_train/'\n",
    "VALID_DATA_PATH = HOME_DIR+'/data/MJ/MJ_valid'\n",
    "TEST_DATA_PATH = HOME_DIR+'/data/MJ/MJ_test'\n",
    "\n",
    "print(TRAIN_DATA_PATH)"
   ]
  },
  {
   "cell_type": "code",
   "execution_count": 34,
   "id": "5e7797a6",
   "metadata": {},
   "outputs": [
    {
     "name": "stdout",
     "output_type": "stream",
     "text": [
      "Looking for /aiffel/.keras-ocr/craft_mlt_25k.h5\n"
     ]
    }
   ],
   "source": [
    "import numpy as np\n",
    "import keras_ocr\n",
    "from PIL import Image, ImageDraw\n",
    "\n",
    "# keras-ocr의 Detector 인스턴스 생성 (최초 실행 시 모델 다운로드 진행)\n",
    "detector = keras_ocr.detection.Detector()\n",
    "\n",
    "def detect_text(img_input):\n",
    "    \"\"\"\n",
    "    이미지 내에서 텍스트 영역을 검출하는 함수.\n",
    "    img_input이 파일 경로(str)라면 로드하고, PIL 이미지 객체라면 그대로 사용.\n",
    "    \"\"\"\n",
    "    # 1. 파일 경로인지 확인하고, 아니라면 PIL 이미지로 처리\n",
    "    if isinstance(img_input, str):  # 파일 경로(str)인 경우\n",
    "        img_pil = Image.open(img_input).convert(\"RGB\")\n",
    "    elif isinstance(img_input, Image.Image):  # PIL 이미지인 경우\n",
    "        img_pil = img_input\n",
    "    else:\n",
    "        raise ValueError(\"img_input must be a file path (str) or a PIL.Image object\")\n",
    "\n",
    "    # 2. numpy array로 변환 (H, W, C) 및 배치 차원 확장 (리스트로 감싸줌)\n",
    "    img = np.array(img_pil)\n",
    "    img_batch = [img]  # 배치 처리를 위한 리스트 형태\n",
    "\n",
    "    # 3. keras-ocr 입력 차원에 맞게 inference 진행\n",
    "    ocr_results = detector.detect(img_batch)\n",
    "    ocr_result = ocr_results[0]  # 배치의 첫 번째 결과 사용\n",
    "\n",
    "    # 4. 결과 시각화를 위해 이미지 복사 및 drawing 객체 생성\n",
    "    result_img = img_pil.copy()\n",
    "    img_draw = ImageDraw.Draw(result_img)\n",
    "    \n",
    "    cropped_imgs = []\n",
    "    for text_result in ocr_result:\n",
    "        polygon = [tuple(point) for point in text_result]\n",
    "        img_draw.polygon(polygon, outline='red')\n",
    "        \n",
    "        # 텍스트 영역 좌표 추출 5 -> 10으로 늘리기\n",
    "        \n",
    "        x_min = int(text_result[:, 0].min() - 10)\n",
    "        x_max = int(text_result[:, 0].max() + 10)\n",
    "        y_min = int(text_result[:, 1].min() - 10)\n",
    "        y_max = int(text_result[:, 1].max() + 10)\n",
    "        word_box = (x_min, y_min, x_max, y_max)\n",
    "        \n",
    "        # 텍스트 영역 잘라내기\n",
    "        cropped_imgs.append(img_pil.crop(word_box))\n",
    "    \n",
    "    return result_img, cropped_imgs\n",
    "\n"
   ]
  },
  {
   "cell_type": "code",
   "execution_count": 3,
   "id": "3982e896",
   "metadata": {},
   "outputs": [
    {
     "name": "stdout",
     "output_type": "stream",
     "text": [
      "original image width:72, height:31\n",
      "target_img_size:(74, 32)\n",
      "display img shape:(74, 32, 3)\n",
      "label:Lube\n"
     ]
    },
    {
     "data": {
      "image/png": "[encoded data removed]",
      "text/plain": [
       "<PIL.Image.Image image mode=RGB size=74x32 at 0x7D56D21743D0>"
      ]
     },
     "metadata": {},
     "output_type": "display_data"
    },
    {
     "name": "stdout",
     "output_type": "stream",
     "text": [
      "original image width:82, height:31\n",
      "target_img_size:(84, 32)\n",
      "display img shape:(84, 32, 3)\n",
      "label:Spencerian\n"
     ]
    },
    {
     "data": {
      "image/png": "[encoded data removed]",
      "text/plain": [
       "<PIL.Image.Image image mode=RGB size=84x32 at 0x7D56C18DB430>"
      ]
     },
     "metadata": {},
     "output_type": "display_data"
    },
    {
     "name": "stdout",
     "output_type": "stream",
     "text": [
      "original image width:115, height:31\n",
      "target_img_size:(100, 32)\n",
      "display img shape:(100, 32, 3)\n",
      "label:accommodatingly\n"
     ]
    },
    {
     "data": {
      "image/png": "[encoded data removed]",
      "text/plain": [
       "<PIL.Image.Image image mode=RGB size=100x32 at 0x7D56C18DB340>"
      ]
     },
     "metadata": {},
     "output_type": "display_data"
    },
    {
     "name": "stdout",
     "output_type": "stream",
     "text": [
      "original image width:140, height:31\n",
      "target_img_size:(100, 32)\n",
      "display img shape:(100, 32, 3)\n",
      "label:CARPENTER\n"
     ]
    },
    {
     "data": {
      "image/png": "[encoded data removed]",
      "text/plain": [
       "<PIL.Image.Image image mode=RGB size=100x32 at 0x7D56C18DB040>"
      ]
     },
     "metadata": {},
     "output_type": "display_data"
    }
   ],
   "source": [
    "from IPython.display import display\n",
    "\n",
    "# env에 데이터를 불러올게요\n",
    "# lmdb에서 데이터를 불러올 때 env라는 변수명을 사용하는게 일반적이에요\n",
    "env = lmdb.open(TRAIN_DATA_PATH, \n",
    "                max_readers=32, \n",
    "                readonly=True, \n",
    "                lock=False, \n",
    "                readahead=False, \n",
    "                meminit=False)\n",
    "\n",
    "# 불러온 데이터를 txn(transaction)이라는 변수를 통해 엽니다\n",
    "# 이제 txn변수를 통해 직접 데이터에 접근 할 수 있어요\n",
    "with env.begin(write=False) as txn:\n",
    "    for index in range(1, 5):\n",
    "        # index를 이용해서 라벨 키와 이미지 키를 만들면\n",
    "        # txn에서 라벨과 이미지를 읽어올 수 있어요\n",
    "        label_key = 'label-%09d'.encode() % index\n",
    "        label = txn.get(label_key).decode('utf-8')\n",
    "        img_key = 'image-%09d'.encode() % index\n",
    "        imgbuf = txn.get(img_key)\n",
    "        buf = six.BytesIO()\n",
    "        buf.write(imgbuf)\n",
    "        buf.seek(0)\n",
    "\n",
    "        # 이미지는 버퍼를 통해 읽어오기 때문에 \n",
    "        # 버퍼에서 이미지로 변환하는 과정이 다시 필요해요\n",
    "        try:\n",
    "            img = Image.open(buf).convert('RGB')\n",
    "\n",
    "        except IOError:\n",
    "            img = Image.new('RGB', (100, 32))\n",
    "            label = '-'\n",
    "\n",
    "        # 원본 이미지 크기를 출력해 봅니다\n",
    "        width, height = img.size\n",
    "        print('original image width:{}, height:{}'.format(width, height))\n",
    "        \n",
    "        # 이미지 비율을 유지하면서 높이를 32로 바꿀거에요\n",
    "        # 하지만 너비를 100보다는 작게하고 싶어요\n",
    "        target_width = min(int(width*32/height), 100)\n",
    "        target_img_size = (target_width,32)        \n",
    "        print('target_img_size:{}'.format(target_img_size))        \n",
    "        img = np.array(img.resize(target_img_size)).transpose(1,0,2)\n",
    "\n",
    "        # 이제 높이가 32로 일정한 이미지와 라벨을 함께 출력할 수 있어요       \n",
    "        print('display img shape:{}'.format(img.shape))\n",
    "        print('label:{}'.format(label))\n",
    "        display(Image.fromarray(img.transpose(1,0,2).astype(np.uint8)))"
   ]
  },
  {
   "cell_type": "code",
   "execution_count": 4,
   "id": "9b36924c",
   "metadata": {},
   "outputs": [],
   "source": [
    "class MJDatasetSequence(Sequence):\n",
    "    # 객체를 초기화 할 때 lmdb를 열어 env에 준비해둡니다\n",
    "    # 또, lmdb에 있는 데이터 수를 미리 파악해둡니다\n",
    "    def __init__(self, \n",
    "                 dataset_path,\n",
    "                 label_converter,\n",
    "                 batch_size=1,\n",
    "                 img_size=(100,32),\n",
    "                 max_text_len=22,\n",
    "                 is_train=False,\n",
    "                 character='') :\n",
    "        \n",
    "        self.label_converter = label_converter\n",
    "        self.batch_size = batch_size\n",
    "        self.img_size = img_size\n",
    "        self.max_text_len = max_text_len\n",
    "        self.character = character\n",
    "        self.is_train = is_train\n",
    "        self.divide_length = 100\n",
    "\n",
    "        self.env = lmdb.open(dataset_path, max_readers=32, readonly=True, lock=False, readahead=False, meminit=False)\n",
    "        with self.env.begin(write=False) as txn:\n",
    "            self.num_samples = int(txn.get('num-samples'.encode()))\n",
    "            self.index_list = [index + 1 for index in range(self.num_samples)]\n",
    "        \n",
    "\n",
    "    def __len__(self):\n",
    "        return math.ceil(self.num_samples/self.batch_size/self.divide_length)\n",
    "    \n",
    "    # index에 해당하는 image와 label을 읽어옵니다\n",
    "    # 위에서 사용한 코드와 매우 유사합니다\n",
    "    # label을 조금 더 다듬는 것이 약간 다릅니다\n",
    "    def _get_img_label(self, index):\n",
    "        with self.env.begin(write=False) as txn:\n",
    "            label_key = 'label-%09d'.encode() % index\n",
    "            label = txn.get(label_key).decode('utf-8')\n",
    "            img_key = 'image-%09d'.encode() % index\n",
    "            imgbuf = txn.get(img_key)\n",
    "\n",
    "            buf = six.BytesIO()\n",
    "            buf.write(imgbuf)\n",
    "            buf.seek(0)\n",
    "            try:\n",
    "                img = Image.open(buf).convert('RGB')\n",
    "\n",
    "            except IOError:\n",
    "                img = Image.new('RGB', self.img_size)\n",
    "                label = '-'\n",
    "            width, height = img.size\n",
    "            \n",
    "            target_width = min(int(width*self.img_size[1]/height), self.img_size[0])\n",
    "            target_img_size = (target_width, self.img_size[1])\n",
    "            img = np.array(img.resize(target_img_size)).transpose(1,0,2)\n",
    "            # label을 약간 더 다듬습니다\n",
    "            label = label.upper()\n",
    "            out_of_char = f'[^{self.character}]'\n",
    "            label = re.sub(out_of_char, '', label)\n",
    "            label = label[:self.max_text_len]\n",
    "\n",
    "        return (img, label)\n",
    "    \n",
    "    # __getitem__은 약속되어있는 메서드입니다\n",
    "    # 이 부분을 작성하면 slice할 수 있습니다\n",
    "    # 자세히 알고 싶다면 아래 문서를 참고하세요\n",
    "    # https://docs.python.org/3/reference/datamodel.html#object.__getitem__\n",
    "    # \n",
    "    # 1. idx에 해당하는 index_list만큼 데이터를 불러\n",
    "    # 2. image와 label을 불러오고 \n",
    "    # 3. 사용하기 좋은 inputs과 outputs형태로 반환합니다\n",
    "    def __getitem__(self, idx):\n",
    "        # 1.\n",
    "        batch_indicies = self.index_list[\n",
    "            idx*self.batch_size:\n",
    "            (idx+1)*self.batch_size\n",
    "        ]\n",
    "        input_images = np.zeros([self.batch_size, *self.img_size, 3])\n",
    "        labels = np.zeros([self.batch_size, self.max_text_len], dtype='int64')\n",
    "\n",
    "        input_length = np.ones([self.batch_size], dtype='int64') * self.max_text_len\n",
    "        label_length = np.ones([self.batch_size], dtype='int64')\n",
    "\n",
    "        # 2.\n",
    "        for i, index in enumerate(batch_indicies):\n",
    "            img, label = self._get_img_label(index)\n",
    "            encoded_label = self.label_converter.encode(label)\n",
    "            # 인코딩 과정에서 '-'이 추가되면 max_text_len보다 길어질 수 있어요\n",
    "            if len(encoded_label) > self.max_text_len:\n",
    "                continue\n",
    "            width = img.shape[0]\n",
    "            input_images[i,:width,:,:] = img\n",
    "            labels[i,0:len(encoded_label)] = encoded_label\n",
    "            label_length[i] = len(encoded_label)\n",
    "        \n",
    "        # 3.\n",
    "        inputs = {\n",
    "            'input_image': input_images,\n",
    "            'label': labels,\n",
    "            'input_length': input_length,\n",
    "            'label_length': label_length,\n",
    "        }\n",
    "        outputs = {'ctc': np.zeros([self.batch_size, 1])}\n",
    "\n",
    "        return inputs, outputs"
   ]
  },
  {
   "cell_type": "code",
   "execution_count": 5,
   "id": "e2df1a3b",
   "metadata": {},
   "outputs": [],
   "source": [
    "class LabelConverter(object):\n",
    "\n",
    "     def __init__(self, character):\n",
    "         self.character = \"-\" + character\n",
    "         self.label_map = dict()\n",
    "         for i, char in enumerate(self.character):\n",
    "             self.label_map[char] = i\n",
    "\n",
    "     def encode(self, text):\n",
    "         encoded_label = []\n",
    "         for i, char in enumerate(text):\n",
    "             if i > 0 and char == text[i - 1]:\n",
    "                 encoded_label.append(0)    # 같은 문자 사이에 공백 문자 label을 삽입\n",
    "             encoded_label.append(self.label_map[char])\n",
    "         return np.array(encoded_label)\n",
    "\n",
    "         return np.array(encoded_label)\n",
    "\n",
    "     def decode(self, encoded_label):\n",
    "         target_characters = list(self.character)\n",
    "         decoded_label = \"\"\n",
    "         for encode in encoded_label:\n",
    "             decoded_label += self.character[encode]\n",
    "         return decoded_label"
   ]
  },
  {
   "cell_type": "code",
   "execution_count": 7,
   "id": "13f5ec5a",
   "metadata": {},
   "outputs": [],
   "source": [
    "NUMBERS = \"0123456789\"\n",
    "ENG_CHAR_UPPER = \"ABCDEFGHIJKLMNOPQRSTUVWXYZ\"\n",
    "TARGET_CHARACTERS = ENG_CHAR_UPPER + NUMBERS"
   ]
  },
  {
   "cell_type": "code",
   "execution_count": 8,
   "id": "a6ce9d5a",
   "metadata": {
    "scrolled": true
   },
   "outputs": [],
   "source": [
    "label_converter = LabelConverter(TARGET_CHARACTERS)"
   ]
  },
  {
   "cell_type": "code",
   "execution_count": 9,
   "id": "634b4045",
   "metadata": {},
   "outputs": [],
   "source": [
    "def ctc_lambda_func(args): # CTC loss를 계산하기 위한 Lambda 함수\n",
    "    labels, y_pred, label_length, input_length = args\n",
    "    y_pred = y_pred[:, 2:, :]\n",
    "    return K.ctc_batch_cost(labels, y_pred, input_length, label_length)"
   ]
  },
  {
   "cell_type": "code",
   "execution_count": 10,
   "id": "f739518f",
   "metadata": {},
   "outputs": [],
   "source": [
    "def build_crnn_model(input_shape=(100,32,3), characters=TARGET_CHARACTERS):\n",
    "    num_chars = len(characters)+2\n",
    "    image_input = layers.Input(shape=input_shape, dtype='float32', name='input_image')\n",
    "    \n",
    "    # Build CRNN model\n",
    "    conv = layers.Conv2D(64, (3, 3), activation='relu', padding='same', kernel_initializer='he_normal')(image_input)\n",
    "    conv = layers.MaxPooling2D(pool_size=(2, 2))(conv)\n",
    "    conv = layers.Conv2D(128, (3, 3), activation='relu', padding='same', kernel_initializer='he_normal')(conv)\n",
    "    conv = layers.MaxPooling2D(pool_size=(2, 2))(conv)\n",
    "    conv = layers.Conv2D(256, (3, 3), activation='relu', padding='same', kernel_initializer='he_normal')(conv)\n",
    "    conv = layers.Conv2D(256, (3, 3), activation='relu', padding='same', kernel_initializer='he_normal')(conv)\n",
    "    conv = layers.MaxPooling2D(pool_size=(1, 2))(conv)\n",
    "    conv = layers.Conv2D(512, (3, 3), activation='relu', padding='same', kernel_initializer='he_normal')(conv)\n",
    "    conv = layers.BatchNormalization()(conv)\n",
    "    conv = layers.Conv2D(512, (3, 3), activation='relu', padding='same', kernel_initializer='he_normal')(conv)\n",
    "    conv = layers.BatchNormalization()(conv)\n",
    "    conv = layers.MaxPooling2D(pool_size=(1, 2))(conv)     \n",
    "    feature = layers.Conv2D(512, (2, 2), activation='relu', kernel_initializer='he_normal')(conv)\n",
    "    sequnce = layers.Reshape(target_shape=(24, 512))(feature)\n",
    "    sequnce = layers.Dense(64, activation='relu')(sequnce)\n",
    "    sequnce = layers.Bidirectional(layers.LSTM(256, return_sequences=True))(sequnce)\n",
    "    sequnce = layers.Bidirectional(layers.LSTM(256, return_sequences=True))(sequnce)\n",
    "    y_pred = layers.Dense(num_chars, activation='softmax', name='output')(sequnce)\n",
    "\n",
    "    labels = layers.Input(shape=[22], dtype='int64', name='label')\n",
    "    input_length = layers.Input(shape=[1], dtype='int64', name='input_length')\n",
    "    label_length = layers.Input(shape=[1], dtype='int64', name='label_length')\n",
    "    loss_out = layers.Lambda(ctc_lambda_func, output_shape=(1,), name=\"ctc\")(\n",
    "        [labels, y_pred, label_length, input_length]\n",
    "    )\n",
    "    model_input = [image_input, labels, input_length, label_length]\n",
    "    model = Model(\n",
    "        inputs=model_input,\n",
    "        outputs=loss_out\n",
    "    )\n",
    "    return model"
   ]
  },
  {
   "cell_type": "code",
   "execution_count": 11,
   "id": "096671b7",
   "metadata": {
    "scrolled": true
   },
   "outputs": [
    {
     "name": "stderr",
     "output_type": "stream",
     "text": [
      "/opt/conda/lib/python3.9/site-packages/keras/optimizer_v2/optimizer_v2.py:355: UserWarning: The `lr` argument is deprecated, use `learning_rate` instead.\n",
      "  warnings.warn(\n"
     ]
    }
   ],
   "source": [
    "# 데이터셋과 모델을 준비합니다\n",
    "train_set = MJDatasetSequence(TRAIN_DATA_PATH, label_converter, batch_size=BATCH_SIZE, character=TARGET_CHARACTERS, is_train=True)\n",
    "val_set = MJDatasetSequence(VALID_DATA_PATH, label_converter, batch_size=BATCH_SIZE, character=TARGET_CHARACTERS)\n",
    "model = build_crnn_model()\n",
    "\n",
    "# 모델을 컴파일 합니다\n",
    "optimizer = tf.keras.optimizers.Adadelta(lr=0.1, clipnorm=5)\n",
    "model.compile(loss={'ctc': lambda y_true, y_pred: y_pred}, optimizer=optimizer)"
   ]
  },
  {
   "cell_type": "markdown",
   "id": "2d62bb0a",
   "metadata": {
    "scrolled": true
   },
   "source": [
    "# 훈련이 빨리 끝날 수 있도록 ModelCheckPoint와 EarlyStopping을 사용합니다\n",
    "# ModelCheckPoint의 경우 'val_loss'를 모니터링하고 weight만 저장하는 옵션으로 지정해주세요.\n",
    "# EarlyStopping도 'val_loss'를 모니터링해주세요.\n",
    "# (EarlyStopping을 사용하지 않는 경우, model.fit()의 epoch 옵션을 20 정도로 설정해주세요.\n",
    "\n",
    "checkpoint_path = HOME_DIR + '/model_checkpoint.hdf5'\n",
    "from tensorflow.keras.callbacks import ModelCheckpoint, EarlyStopping\n",
    "\n",
    "\n",
    "# ModelCheckpoint: val_loss 모니터링, weight만 저장, 가장 좋은 모델만 저장하도록 설정\n",
    "ckp = ModelCheckpoint(filepath=checkpoint_path, \n",
    "                      monitor='val_loss', \n",
    "                      save_weights_only=True, \n",
    "                      save_best_only=True, \n",
    "                      verbose=1)\n",
    "\n",
    "# EarlyStopping: val_loss 모니터링, patience(개선이 없을 때 기다릴 epoch 수)를 5로 설정\n",
    "earlystop = EarlyStopping(monitor='val_loss', \n",
    "                          patience=5, \n",
    "                          verbose=1)\n",
    "\n",
    "# 모델 학습 시, callbacks 인자에 위에서 정의한 콜백들을 전달합니다.\n",
    "model.fit(train_set,\n",
    "          steps_per_epoch=len(train_set),\n",
    "          epochs=20,\n",
    "          validation_data=val_set,\n",
    "          validation_steps=len(val_set),\n",
    "          callbacks=[ckp, earlystop])\n"
   ]
  },
  {
   "cell_type": "code",
   "execution_count": 12,
   "id": "62faec48",
   "metadata": {
    "scrolled": true
   },
   "outputs": [
    {
     "data": {
      "image/png": "[encoded data removed]",
      "text/plain": [
       "<Figure size 576x360 with 1 Axes>"
      ]
     },
     "metadata": {
      "needs_background": "light"
     },
     "output_type": "display_data"
    }
   ],
   "source": [
    "import matplotlib.pyplot as plt\n",
    "\n",
    "# 수동으로 입력한 에포크별 loss 값 (Epoch 1 ~ Epoch 13)\n",
    "epochs = list(range(1, 14))\n",
    "train_loss = [25.5302, 15.3391, 7.1827, 5.1342, 4.0692, 3.3379, 2.7610, 2.2785, 1.8694, 1.5295, 1.2314, 0.9955, 0.8031]\n",
    "val_loss = [25.3794, 10.5830, 6.4008, 5.4947, 4.7635, 4.3464, 4.2596, 4.2169, 4.2510, 4.2974, 4.5248, 4.5332, 4.6973]\n",
    "\n",
    "plt.figure(figsize=(8, 5))\n",
    "plt.plot(epochs, train_loss, marker='o', label='Train Loss')\n",
    "plt.plot(epochs, val_loss, marker='o', label='Validation Loss')\n",
    "plt.xlabel('Epoch')\n",
    "plt.ylabel('Loss')\n",
    "plt.title('Training vs. Validation Loss')\n",
    "plt.legend()\n",
    "plt.grid(True)\n",
    "plt.show()\n"
   ]
  },
  {
   "cell_type": "markdown",
   "id": "b5eabea3",
   "metadata": {},
   "source": [
    "validation 값이 가장 높은 epoch로 설정 earlystopping으로 13에서 멈췄음"
   ]
  },
  {
   "cell_type": "code",
   "execution_count": 13,
   "id": "12e860e4",
   "metadata": {},
   "outputs": [],
   "source": [
    "# 다음은 학습된 모델의 가중치가 저장된 경로입니다\n",
    "checkpoint_path = HOME_DIR + '/data/model_checkpoint.hdf5'\n",
    "\n",
    "# 데이터셋과 모델을 불러옵니다\n",
    "test_set = MJDatasetSequence(TEST_DATA_PATH, label_converter, batch_size=BATCH_SIZE, character=TARGET_CHARACTERS)\n",
    "model = build_crnn_model()\n",
    "model.load_weights(checkpoint_path)\n",
    "\n",
    "# crnn 모델은 입력이 복잡한 구조이므로 그대로 사용할 수가 없습니다\n",
    "# 그래서 crnn 모델의 입력중 'input_image' 부분만 사용한 모델을 새로 만들겁니다\n",
    "# inference 전용 모델이에요 \n",
    "input_data = model.get_layer('input_image').output\n",
    "y_pred = model.get_layer('output').output\n",
    "model_pred = Model(inputs=input_data, outputs=y_pred)"
   ]
  },
  {
   "cell_type": "code",
   "execution_count": 14,
   "id": "70efd289",
   "metadata": {
    "scrolled": false
   },
   "outputs": [
    {
     "name": "stdout",
     "output_type": "stream",
     "text": [
      "Result: \t SLINKING\n"
     ]
    },
    {
     "data": {
      "image/png": "[encoded data removed]",
      "text/plain": [
       "<PIL.Image.Image image mode=RGB size=100x32 at 0x7D4B1E824700>"
      ]
     },
     "metadata": {},
     "output_type": "display_data"
    },
    {
     "name": "stdout",
     "output_type": "stream",
     "text": [
      "Result: \t ALEPPO\n"
     ]
    },
    {
     "data": {
      "image/png": "[encoded data removed]",
      "text/plain": [
       "<PIL.Image.Image image mode=RGB size=100x32 at 0x7D49CD1A0F70>"
      ]
     },
     "metadata": {},
     "output_type": "display_data"
    },
    {
     "name": "stdout",
     "output_type": "stream",
     "text": [
      "Result: \t FWANDA\n"
     ]
    },
    {
     "data": {
      "image/png": "[encoded data removed]",
      "text/plain": [
       "<PIL.Image.Image image mode=RGB size=100x32 at 0x7D49CFB2E250>"
      ]
     },
     "metadata": {},
     "output_type": "display_data"
    },
    {
     "name": "stdout",
     "output_type": "stream",
     "text": [
      "Result: \t NATHANS\n"
     ]
    },
    {
     "data": {
      "image/png": "[encoded data removed]",
      "text/plain": [
       "<PIL.Image.Image image mode=RGB size=100x32 at 0x7D49CD19D4C0>"
      ]
     },
     "metadata": {},
     "output_type": "display_data"
    },
    {
     "name": "stdout",
     "output_type": "stream",
     "text": [
      "Result: \t HALLE\n"
     ]
    },
    {
     "data": {
      "image/png": "[encoded data removed]",
      "text/plain": [
       "<PIL.Image.Image image mode=RGB size=100x32 at 0x7D4B1E961430>"
      ]
     },
     "metadata": {},
     "output_type": "display_data"
    },
    {
     "name": "stdout",
     "output_type": "stream",
     "text": [
      "Result: \t HURLS\n"
     ]
    },
    {
     "data": {
      "image/png": "[encoded data removed]",
      "text/plain": [
       "<PIL.Image.Image image mode=RGB size=100x32 at 0x7D49CEB07550>"
      ]
     },
     "metadata": {},
     "output_type": "display_data"
    },
    {
     "name": "stdout",
     "output_type": "stream",
     "text": [
      "Result: \t DOWNSIZE\n"
     ]
    },
    {
     "data": {
      "image/png": "[encoded data removed]",
      "text/plain": [
       "<PIL.Image.Image image mode=RGB size=100x32 at 0x7D49CEB0F4F0>"
      ]
     },
     "metadata": {},
     "output_type": "display_data"
    },
    {
     "name": "stdout",
     "output_type": "stream",
     "text": [
      "Result: \t ROBOTIC\n"
     ]
    },
    {
     "data": {
      "image/png": "[encoded data removed]",
      "text/plain": [
       "<PIL.Image.Image image mode=RGB size=100x32 at 0x7D49CFB60550>"
      ]
     },
     "metadata": {},
     "output_type": "display_data"
    },
    {
     "name": "stdout",
     "output_type": "stream",
     "text": [
      "Result: \t SLOPPY\n"
     ]
    },
    {
     "data": {
      "image/png": "[encoded data removed]",
      "text/plain": [
       "<PIL.Image.Image image mode=RGB size=100x32 at 0x7D49CFB60E20>"
      ]
     },
     "metadata": {},
     "output_type": "display_data"
    },
    {
     "name": "stdout",
     "output_type": "stream",
     "text": [
      "Result: \t SHERMITE\n"
     ]
    },
    {
     "data": {
      "image/png": "[encoded data removed]",
      "text/plain": [
       "<PIL.Image.Image image mode=RGB size=100x32 at 0x7D49CFB47AF0>"
      ]
     },
     "metadata": {},
     "output_type": "display_data"
    }
   ],
   "source": [
    "from IPython.display import display\n",
    "\n",
    "# 모델이 inference한 결과를 글자로 바꿔주는 역할을 합니다\n",
    "# 코드 하나하나를 이해하기는 조금 어려울 수 있습니다\n",
    "def decode_predict_ctc(y_pred, chars):\n",
    "    \"\"\"\n",
    "    CTC 디코딩을 수행하는 함수\n",
    "    - y_pred: (batch, time_steps, num_classes) 형태의 모델 출력\n",
    "    - chars : 문자 집합, blank('-') 포함\n",
    "    \"\"\"\n",
    "    decoded, _ = K.ctc_decode(\n",
    "        y_pred, \n",
    "        input_length=np.ones(y_pred.shape[0]) * y_pred.shape[1],\n",
    "        greedy=True\n",
    "    )\n",
    "    \n",
    "    decoded_indices = K.get_value(decoded[0])  # (batch, decoded_length)\n",
    "\n",
    "    results = []\n",
    "    for seq in decoded_indices:\n",
    "        text = \"\"\n",
    "        prev_idx = -1  # 이전 인덱스를 추적하여 중복 제거\n",
    "        for idx in seq:\n",
    "            if idx != prev_idx and idx > 0:  # 0(blank) 제외, 중복 문자 제거\n",
    "                text += chars[idx]\n",
    "            prev_idx = idx  # 이전 인덱스 업데이트\n",
    "        results.append(text)\n",
    "\n",
    "    return results\n",
    "\n",
    "\n",
    "# 모델과 데이터셋이 주어지면 inference를 수행합니다\n",
    "# index개 만큼의 데이터를 읽어 모델로 inference를 수행하고\n",
    "# 결과를 디코딩해 출력해줍니다\n",
    "def check_inference(model, dataset, index=5):\n",
    "    for i in range(index):\n",
    "        inputs, outputs = dataset[i]\n",
    "        img = dataset[i][0]['input_image'][0:1, :, :, :]\n",
    "        output = model.predict(img)\n",
    "        \n",
    "        # 변경된 CTC 디코딩 적용\n",
    "        result = decode_predict_ctc(output, chars=\"-\" + TARGET_CHARACTERS)[0]\n",
    "        \n",
    "        print(\"Result: \\t\", result)\n",
    "        display(Image.fromarray(img[0].transpose(1, 0, 2).astype(np.uint8)))\n",
    "\n",
    "\n",
    "check_inference(model_pred, test_set, index=10)"
   ]
  },
  {
   "attachments": {
    "image.png": {
     "image/png": "[encoded data removed]"
    }
   },
   "cell_type": "markdown",
   "id": "f38e0aaf",
   "metadata": {},
   "source": [
    "![image.png](attachment:image.png)"
   ]
  },
  {
   "cell_type": "markdown",
   "id": "da6c22fc",
   "metadata": {},
   "source": [
    "출력 결과물에서 99999로 나타나는 오류(?) 발생.\n",
    "\n",
    "CTC 디코딩 부분에서 Blank 쪽이 잘못 된 것 같습니다.\n",
    "\n",
    "Greedy 디코딩 활성화하고  CTC blank (인덱스 0) 무시하는 방향으로 일단 수정하였습니다.\n",
    "\n",
    "greedy 를 했을 때 발생하는 문제점 생각, blank를 무시하면 어떤게 문제가 생기는 지 나중에 봐야함.\n",
    "\n"
   ]
  },
  {
   "attachments": {
    "image.png": {
     "image/png": "[encoded data removed]"
    }
   },
   "cell_type": "markdown",
   "id": "de39699b",
   "metadata": {},
   "source": [
    "![image.png](attachment:image.png)"
   ]
  },
  {
   "cell_type": "code",
   "execution_count": 19,
   "id": "9cff92a5",
   "metadata": {},
   "outputs": [],
   "source": [
    "import numpy as np\n",
    "from PIL import Image\n",
    "\n",
    "def recognize_img(pil_img, model, chars, input_img_size=(100, 32)):\n",
    "    \"\"\"\n",
    "    OCR 모델을 이용하여 단어 이미지를 예측하는 함수 (가로/세로 변환 문제 수정)\n",
    "    \"\"\"\n",
    "    # 1. 이미지 크기를 OCR 모델이 기대하는 (100, 32)로 변환\n",
    "    resized_img = pil_img.resize(input_img_size, Image.ANTIALIAS)  # (100, 32)\n",
    "\n",
    "    # 2. numpy 배열 변환 및 정규화 (0~1)\n",
    "    img_array = np.array(resized_img).astype(np.float32) / 255.0\n",
    "\n",
    "    # 3. **흑백 이미지 → RGB 변환**\n",
    "    if len(img_array.shape) == 2:  # 흑백 이미지라면\n",
    "        img_array = np.expand_dims(img_array, axis=-1)  # (100, 32, 1)\n",
    "        img_array = np.repeat(img_array, 3, axis=-1)  # (100, 32, 3)\n",
    "\n",
    "    # 4. **채널 순서 확인 및 배치 차원 추가**\n",
    "    img_array = np.expand_dims(img_array, axis=0)  # (1, H, W, C)\n",
    "\n",
    "    if img_array.shape[1] != 100:  # 높이가 100이 아니라면 변환 필요\n",
    "        img_array = np.transpose(img_array, (0, 2, 1, 3))  # (1, 32, 100, 3) → (1, 100, 32, 3)\n",
    "\n",
    "    print(f\"✅ Model Input Shape (Fixed): {img_array.shape}\")\n",
    "\n",
    "    # 5. **OCR 모델 예측 수행**\n",
    "    y_pred = model.predict(img_array)\n",
    "\n",
    "    # 6. **CTC 디코딩 수행**\n",
    "    decoded_text = decode_predict_ctc(y_pred, chars=\"-\" + chars)[0]\n",
    "\n",
    "    return decoded_text\n",
    "\n",
    "\n",
    "\n",
    "\n",
    "\n",
    "\n"
   ]
  },
  {
   "cell_type": "code",
   "execution_count": 43,
   "id": "f847cec3",
   "metadata": {},
   "outputs": [
    {
     "name": "stdout",
     "output_type": "stream",
     "text": [
      "Total samples in LMDB: 891924\n"
     ]
    },
    {
     "data": {
      "image/png": "[encoded data removed]",
      "text/plain": [
       "<PIL.Image.Image image mode=RGB size=170x31 at 0x7D4B1E698AC0>"
      ]
     },
     "metadata": {},
     "output_type": "display_data"
    },
    {
     "name": "stdout",
     "output_type": "stream",
     "text": [
      "✅ Model Input Shape (Fixed): (1, 100, 32, 3)\n",
      "Recognized Text: EY\n"
     ]
    }
   ],
   "source": [
    "lmdb_path = TEST_DATA_PATH  # LMDB 경로\n",
    "\n",
    "# LMDB 열기\n",
    "env = lmdb.open(lmdb_path, readonly=True, lock=False, readahead=False, meminit=False)\n",
    "\n",
    "with env.begin(write=False) as txn:\n",
    "    n_samples = int(txn.get('num-samples'.encode()))\n",
    "    print(f\"Total samples in LMDB: {n_samples}\")\n",
    "\n",
    "    index = 9\n",
    "    img_key = f'image-{index:09d}'.encode()\n",
    "    imgbuf = txn.get(img_key)\n",
    "\n",
    "    if imgbuf:\n",
    "        buf = six.BytesIO()\n",
    "        buf.write(imgbuf)\n",
    "        buf.seek(0)\n",
    "        img_pil = Image.open(buf).convert('RGB')  # PIL 이미지 변환\n",
    "\n",
    "        # detect_text() 실행\n",
    "        result_img, cropped_imgs = detect_text(img_pil)\n",
    "\n",
    "        # 결과 출력\n",
    "        display(result_img)\n",
    "\n",
    "        # 단어 인식 수행\n",
    "        for cropped_img in cropped_imgs:\n",
    "            recognized_text = recognize_img(cropped_img, model_pred, TARGET_CHARACTERS)\n",
    "            print(\"Recognized Text:\", recognized_text)\n",
    "    else:\n",
    "        print(f\"No image found for index {index}\")\n"
   ]
  },
  {
   "cell_type": "code",
   "execution_count": 44,
   "id": "e148575e",
   "metadata": {},
   "outputs": [
    {
     "data": {
      "image/png": "[encoded data removed]",
      "text/plain": [
       "<PIL.Image.Image image mode=RGB size=170x31 at 0x7D56D49B98E0>"
      ]
     },
     "metadata": {},
     "output_type": "display_data"
    },
    {
     "name": "stdout",
     "output_type": "stream",
     "text": [
      "Word 1:\n"
     ]
    },
    {
     "data": {
      "image/png": "[encoded data removed]",
      "text/plain": [
       "<PIL.Image.Image image mode=RGB size=184x44 at 0x7D49CD2FDA90>"
      ]
     },
     "metadata": {},
     "output_type": "display_data"
    },
    {
     "name": "stdout",
     "output_type": "stream",
     "text": [
      "✅ Model Input Shape (Fixed): (1, 100, 32, 3)\n",
      "Recognized Text: EY\n"
     ]
    }
   ],
   "source": [
    "# detect_text() 실행\n",
    "result_img, cropped_imgs = detect_text(img_pil)\n",
    "\n",
    "# 결과 출력\n",
    "display(result_img)\n",
    "\n",
    "# 단어 인식 수행 전에 이미지 확인\n",
    "for i, cropped_img in enumerate(cropped_imgs):\n",
    "    print(f\"Word {i+1}:\")\n",
    "    display(cropped_img)  # **OCR 수행 전에 이미지 출력**\n",
    "    \n",
    "    recognized_text = recognize_img(cropped_img, model_pred, TARGET_CHARACTERS)\n",
    "    print(\"Recognized Text:\", recognized_text)\n"
   ]
  },
  {
   "cell_type": "code",
   "execution_count": 45,
   "id": "88ccc974",
   "metadata": {
    "scrolled": true
   },
   "outputs": [
    {
     "name": "stdout",
     "output_type": "stream",
     "text": [
      "✅ Model Input Shape (Fixed): (1, 100, 32, 3)\n",
      "Word 1: Raw OCR Output (argmax) → [[37 37 37 37 37 37 37 37 37 37 37 37 37 37 37 37 37 37 37 37 37 37  5 25]]\n",
      "✅ Model Input Shape (Fixed): (1, 100, 32, 3)\n",
      "Recognized Text: EY\n"
     ]
    }
   ],
   "source": [
    "for i, cropped_img in enumerate(cropped_imgs):\n",
    "    img_array = np.array(cropped_img.resize((100, 32))).astype(np.float32) / 255.0\n",
    "\n",
    "    if len(img_array.shape) == 2:\n",
    "        img_array = np.expand_dims(img_array, axis=-1)  # (H, W, 1)\n",
    "        img_array = np.repeat(img_array, 3, axis=-1)  # (H, W, 3)\n",
    "\n",
    "    # 🔹 채널 차원 확인 및 변환\n",
    "    img_array = np.expand_dims(img_array, axis=0)  # 배치 차원 추가 (1, H, W, C)\n",
    "\n",
    "    #  **H, W 위치 변환 (32, 100, 3) → (100, 32, 3)**\n",
    "    img_array = np.transpose(img_array, (0, 2, 1, 3))  # (1, 32, 100, 3) → (1, 100, 32, 3)\n",
    "\n",
    "    # 수정 후 입력 크기 확인\n",
    "    print(f\"✅ Model Input Shape (Fixed): {img_array.shape}\")\n",
    "\n",
    "    # 🔹 OCR 모델 예측\n",
    "    y_pred = model_pred.predict(img_array)\n",
    "\n",
    "    # 🔹 원본 OCR 출력 확인\n",
    "    print(f\"Word {i+1}: Raw OCR Output (argmax) →\", np.argmax(y_pred, axis=-1))\n",
    "\n",
    "    recognized_text = recognize_img(cropped_img, model_pred, TARGET_CHARACTERS)\n",
    "    print(\"Recognized Text:\", recognized_text)\n"
   ]
  },
  {
   "cell_type": "markdown",
   "id": "7dabbb99",
   "metadata": {},
   "source": [
    "# 에러\n",
    "\n",
    "Model Input Shape가 가로 세로가 바뀌어 나타나는 문제 -> transpose로 해결\n",
    "\n",
    " Model Input Shape (Fixed): (1, 100, 32, 3)\n",
    "Word 1: Raw OCR Output (argmax) → [[37 37 37 37 37 37 37 37 37 37 37 37 37 37 37 37 37 37 37 37 37 37  5 25]]\n",
    "✅ Model Input Shape (Fixed): (1, 100, 32, 3)\n",
    "Recognized Text: EY\n",
    "\n",
    "어떤 값이든 Recognized Text가 EY로 나타남...\n",
    "\n",
    "-> 모델이 잘못 학습되었나?\n",
    "\n",
    "바운딩 박스 늘리기\n",
    "\n",
    "# 텍스트 영역 좌표 추출 5 -> 10으로 늘리기\n",
    "        \n",
    "        x_min = int(text_result[:, 0].min() - 10)\n",
    "        x_max = int(text_result[:, 0].max() + 10)\n",
    "        y_min = int(text_result[:, 1].min() - 10)\n",
    "        y_max = int(text_result[:, 1].max() + 10)\n",
    "        word_box = (x_min, y_min, x_max, y_max)\n",
    "        \n",
    "# resize에서 뭔가 문제가 있나?\n"
   ]
  },
  {
   "cell_type": "markdown",
   "id": "16317bfd",
   "metadata": {},
   "source": [
    "# 해야하는 것\n",
    "\n",
    "함수로 하나로 묶어서 입력한 것 넣으면 하나로 나오게 하기\n",
    "\n",
    "metric(accurancy, WER, CER) 로 평가하기, 정성식으로 평가하기"
   ]
  },
  {
   "cell_type": "markdown",
   "id": "925fd627",
   "metadata": {},
   "source": [
    "# 회고록\n",
    "\n",
    "음 중간에 너무 꼬여버려서 제대로 못한 것 같습니다... 주말에 좀 더 해야겠습니다. 흑\n"
   ]
  },
  {
   "cell_type": "code",
   "execution_count": null,
   "id": "97c6ba77",
   "metadata": {},
   "outputs": [],
   "source": []
  }
 ],
 "metadata": {
  "kernelspec": {
   "display_name": "Python 3 (ipykernel)",
   "language": "python",
   "name": "python3"
  },
  "language_info": {
   "codemirror_mode": {
    "name": "ipython",
    "version": 3
   },
   "file_extension": ".py",
   "mimetype": "text/x-python",
   "name": "python",
   "nbconvert_exporter": "python",
   "pygments_lexer": "ipython3",
   "version": "3.9.7"
  }
 },
 "nbformat": 4,
 "nbformat_minor": 5
}
